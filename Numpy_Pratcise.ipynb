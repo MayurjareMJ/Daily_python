{
 "cells": [
  {
   "cell_type": "code",
   "execution_count": 1,
   "id": "ec1c312c",
   "metadata": {},
   "outputs": [],
   "source": [
    "## Numpy Solutions"
   ]
  },
  {
   "cell_type": "markdown",
   "id": "d643015e",
   "metadata": {},
   "source": [
    "## 1. Get NumPy Version & Build Info\n"
   ]
  },
  {
   "cell_type": "code",
   "execution_count": null,
   "id": "0bcb0d99",
   "metadata": {},
   "outputs": [
    {
     "name": "stdout",
     "output_type": "stream",
     "text": [
      "Numpy Version: 1.24.3\n"
     ]
    }
   ],
   "source": [
    "# Write a Numpy program to get the Numpy version and show the Numpy build configuration.\n",
    "import numpy as np\n",
    "print(\"Numpy Version:\",np.__version__)"
   ]
  },
  {
   "cell_type": "code",
   "execution_count": null,
   "id": "92f9cce7",
   "metadata": {},
   "outputs": [],
   "source": []
  }
 ],
 "metadata": {
  "kernelspec": {
   "display_name": "Python 3",
   "language": "python",
   "name": "python3"
  },
  "language_info": {
   "codemirror_mode": {
    "name": "ipython",
    "version": 3
   },
   "file_extension": ".py",
   "mimetype": "text/x-python",
   "name": "python",
   "nbconvert_exporter": "python",
   "pygments_lexer": "ipython3",
   "version": "3.9.13"
  }
 },
 "nbformat": 4,
 "nbformat_minor": 5
}
