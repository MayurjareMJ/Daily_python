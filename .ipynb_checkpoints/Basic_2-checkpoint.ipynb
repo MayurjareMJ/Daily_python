{
 "cells": [
  {
   "cell_type": "markdown",
   "id": "62b8f3f7-f225-4834-b9a2-8cbf367aabe0",
   "metadata": {},
   "source": [
    "## 1. Unique Numbers Check"
   ]
  },
  {
   "cell_type": "code",
   "execution_count": null,
   "id": "2e1a5da6-9be2-4d0e-aec6-8d0ed33a87f2",
   "metadata": {},
   "outputs": [],
   "source": [
    "#Write a Python function that takes a sequence of numbers and determines whether all the numbers are different from each other."
   ]
  },
  {
   "cell_type": "code",
   "execution_count": 6,
   "id": "a509577a-5607-43d2-ab7d-669fc418fecc",
   "metadata": {},
   "outputs": [
    {
     "name": "stdout",
     "output_type": "stream",
     "text": [
      "yes\n"
     ]
    }
   ],
   "source": [
    "a=[1,2,3,4]\n",
    "if len(a)==len(set(a)):\n",
    "    print(\"yes\")\n",
    "else:\n",
    "    print(\"No\")"
   ]
  },
  {
   "cell_type": "code",
   "execution_count": 13,
   "id": "01d62566-d065-4dea-9a13-1c3ec1ae21a7",
   "metadata": {},
   "outputs": [
    {
     "name": "stdout",
     "output_type": "stream",
     "text": [
      "All unique elments\n"
     ]
    }
   ],
   "source": [
    "def un_no(a):\n",
    "    if len(a)==len(set(a)):\n",
    "        print(\"All unique elments\")\n",
    "    else:\n",
    "        print(\"Not unique elments\")\n",
    "list1=[1,2,3,4,5,6]\n",
    "un_no(a)"
   ]
  },
  {
   "cell_type": "code",
   "execution_count": 15,
   "id": "bd819d04-e162-485a-b35c-1bef695c29cd",
   "metadata": {},
   "outputs": [
    {
     "data": {
      "text/plain": [
       "True"
      ]
     },
     "execution_count": 15,
     "metadata": {},
     "output_type": "execute_result"
    }
   ],
   "source": [
    "def un_num(numbers):\n",
    "    return len(numbers)==len(set(numbers))\n",
    "un_num([1,2,3,4,5])"
   ]
  },
  {
   "cell_type": "code",
   "execution_count": 20,
   "id": "70b7f05c-a818-4f85-ac21-cd6ebca7e692",
   "metadata": {},
   "outputs": [
    {
     "name": "stdout",
     "output_type": "stream",
     "text": [
      "{1: None, 2: None, 3: None, 4: None, 5: None}\n",
      "[1, 2, 3, 4, 5]\n"
     ]
    }
   ],
   "source": [
    "#Using dict.fromkeys()\n",
    "a = [1, 2, 1, 1, 3, 4, 3, 3, 5]\n",
    "res=dict.fromkeys(a)\n",
    "conv_list=list(res)\n",
    "print(res)\n",
    "print(conv_list)"
   ]
  },
  {
   "cell_type": "code",
   "execution_count": 24,
   "id": "51254885-cd7e-4fc4-8814-1f04707f12e8",
   "metadata": {},
   "outputs": [
    {
     "name": "stdout",
     "output_type": "stream",
     "text": [
      "[1, 2, 3, 4, 5, 6]\n"
     ]
    }
   ],
   "source": [
    "a=[1,2,3,4,4,3,2,4,5,6]\n",
    "res=[]\n",
    "\n",
    "for i in a:\n",
    "    if i not in res:\n",
    "        res.append(i)\n",
    "print(res)"
   ]
  },
  {
   "cell_type": "code",
   "execution_count": 55,
   "id": "e7088974-f916-4ee6-8386-eee1f34cfffe",
   "metadata": {},
   "outputs": [
    {
     "data": {
      "text/plain": [
       "3"
      ]
     },
     "execution_count": 55,
     "metadata": {},
     "output_type": "execute_result"
    }
   ],
   "source": [
    "#Write a Python function to find the first duplicate element in a sequence of numbers.\n",
    "def first_dup(a):\n",
    "    seen = set()\n",
    "    for i, e in enumerate(a):\n",
    "        if e in seen:\n",
    "            return i\n",
    "        seen.add(e)\n",
    "    return -1\n",
    "a=[6,7,8,8,9]\n",
    "first_dup(a)"
   ]
  },
  {
   "cell_type": "code",
   "execution_count": 60,
   "id": "2651084f-6fa3-42b5-8eeb-b3125cd3b8bf",
   "metadata": {},
   "outputs": [
    {
     "name": "stdout",
     "output_type": "stream",
     "text": [
      "4\n",
      "5\n",
      "6\n"
     ]
    }
   ],
   "source": [
    "a=[2,3,4,5,4,3,4,9]\n",
    "seen=set()\n",
    "for i ,e in enumerate(a):\n",
    "    if e in seen:\n",
    "        print(i)\n",
    "    seen.add(e)\n"
   ]
  },
  {
   "cell_type": "code",
   "execution_count": 69,
   "id": "21296d86-b475-4d35-8417-21963cd6b7b7",
   "metadata": {},
   "outputs": [
    {
     "name": "stdout",
     "output_type": "stream",
     "text": [
      "2\n"
     ]
    }
   ],
   "source": [
    "a=[2,3,1,2,3,4,5,6,3,5,3,5,3,9]\n",
    "s=set()\n",
    "dup=[]\n",
    "\n",
    "for i in a:\n",
    "    if i in s:\n",
    "        dup.append(i)\n",
    "    else:\n",
    "        s.add(i)\n",
    "print(dup[0])"
   ]
  },
  {
   "cell_type": "code",
   "execution_count": 77,
   "id": "65f9a600-656f-4baa-ae85-2ae0c6826c67",
   "metadata": {},
   "outputs": [
    {
     "name": "stdout",
     "output_type": "stream",
     "text": [
      "0\n",
      "1\n",
      "2\n",
      "\n",
      "0\n",
      "1\n",
      "2\n",
      "#\n",
      "0\n",
      "1\n",
      "2\n",
      "##\n"
     ]
    }
   ],
   "source": [
    "#Write a Python program to extract the longest subsequence from a list in which all numbers are unique.\n",
    "a=[1,2,3]\n",
    "for i in range(len(a)):\n",
    "    for j in range(len(a)):\n",
    "        "
   ]
  },
  {
   "cell_type": "code",
   "execution_count": 75,
   "id": "bbf8635e-97e2-4488-b63e-16c36a37c67f",
   "metadata": {},
   "outputs": [
    {
     "name": "stdout",
     "output_type": "stream",
     "text": [
      "0\n",
      "1\n",
      "2\n"
     ]
    }
   ],
   "source": [
    "a=[1,2,3]\n",
    "for i in range(len(a)):\n",
    "    print(i)"
   ]
  },
  {
   "cell_type": "code",
   "execution_count": null,
   "id": "6ac9c82c-b8cc-4325-bc33-d9b86bba1a73",
   "metadata": {},
   "outputs": [],
   "source": []
  },
  {
   "cell_type": "markdown",
   "id": "5ce0dc62-492b-4ee6-a890-b908b0616c94",
   "metadata": {},
   "source": [
    "## 2. All Unique Strings"
   ]
  },
  {
   "cell_type": "code",
   "execution_count": 9,
   "id": "dbfc7c17-7b32-450d-a5b3-b5bd3335bb16",
   "metadata": {},
   "outputs": [
    {
     "name": "stdout",
     "output_type": "stream",
     "text": [
      "ieoau\n"
     ]
    }
   ],
   "source": [
    "#Write a Python program that creates all possible strings using the letters 'a', 'e', 'i', 'o', and 'I'. Ensure that each character is used only once.\n",
    "import random\n",
    "v=[\"a\",\"e\",\"i\",\"o\",\"u\"]\n",
    "\n",
    "random.shuffle(v)\n",
    "\n",
    "print(\"\".join(v))\n",
    "\n",
    "\n"
   ]
  },
  {
   "cell_type": "markdown",
   "id": "e5985ea1-3188-496b-9282-f0ca787ec34d",
   "metadata": {},
   "source": [
    "## 3. Remove Every Third"
   ]
  },
  {
   "cell_type": "code",
   "execution_count": 19,
   "id": "6c22e59f-c8cd-4dba-a731-54a4579f66c4",
   "metadata": {},
   "outputs": [
    {
     "name": "stdout",
     "output_type": "stream",
     "text": [
      "['c', 'c', 'c', 'c', 'c', 'c', 'c', 'c', 'c', 'c']\n"
     ]
    }
   ],
   "source": [
    "#Write a Python program that removes and prints every third number from a list of numbers until the list is empty.\n",
    "a=\"abcdefghij\"\n",
    "#x=a.split()\n",
    "r=[]\n",
    "x=list(a)\n",
    "for i in x:\n",
    "    r.append(x[2])\n",
    "print(r)"
   ]
  },
  {
   "cell_type": "markdown",
   "id": "4f3b35ca-1089-4302-b563-5a6c07dcedb5",
   "metadata": {},
   "source": [
    "## 4. Zero Sum Triplets"
   ]
  },
  {
   "cell_type": "code",
   "execution_count": null,
   "id": "c1cfe5a6-63ba-4827-ac18-2fe4b37c2470",
   "metadata": {},
   "outputs": [],
   "source": [
    "#Write a Python program to identify unique triplets whose three elements sum to zero from an array of n integers."
   ]
  },
  {
   "cell_type": "code",
   "execution_count": null,
   "id": "2009dc11-9bd5-4a10-b20b-3517accac17f",
   "metadata": {},
   "outputs": [],
   "source": [
    "5. 3-Digit Combinations\n",
    "\n",
    "Write a Python program to make combinations of 3 digits."
   ]
  },
  {
   "cell_type": "markdown",
   "id": "edfe3689-74f4-4378-9a9e-48ff8487daaa",
   "metadata": {},
   "source": [
    "## 6. Word Frequency Counter"
   ]
  },
  {
   "cell_type": "code",
   "execution_count": null,
   "id": "fb16d0b0-f539-409d-80fc-a26940cc7b1c",
   "metadata": {},
   "outputs": [],
   "source": [
    "#Write a Python program that prints long text, converts it to a list, and prints all the words and the frequency of each word."
   ]
  },
  {
   "cell_type": "code",
   "execution_count": null,
   "id": "d8a37276-d44c-42af-a5e3-db91a9942acb",
   "metadata": {},
   "outputs": [],
   "source": [
    "a=\"mayurjare\"\n"
   ]
  },
  {
   "cell_type": "code",
   "execution_count": null,
   "id": "afac5495-eff0-4ac8-8091-8f15beb719fe",
   "metadata": {},
   "outputs": [],
   "source": [
    "7. Character Frequency in File\n",
    "\n",
    "Write a Python program to count the number of each character in a text file."
   ]
  },
  {
   "cell_type": "code",
   "execution_count": null,
   "id": "b34af77e-6da9-4dae-bb3c-668bf6f5be85",
   "metadata": {},
   "outputs": [],
   "source": [
    "8. Google News Top Stories\n",
    "\n",
    "Write a Python program that retrieves the top stories from Google News."
   ]
  },
  {
   "cell_type": "code",
   "execution_count": null,
   "id": "3b9446a8-4b11-4ca5-a35d-7832d03352ed",
   "metadata": {},
   "outputs": [],
   "source": [
    "9. Locally Installed Modules\n",
    "\n",
    "Write a Python program to get a list of locally installed Python modules."
   ]
  },
  {
   "cell_type": "code",
   "execution_count": null,
   "id": "f5dea984-a2fb-409f-97e3-5e1476ca9a93",
   "metadata": {},
   "outputs": [],
   "source": [
    "10. OS Information Display\n",
    "\n",
    "Write a Python program to display some information about the OS where the script is running."
   ]
  },
  {
   "cell_type": "code",
   "execution_count": null,
   "id": "c32f8b72-8180-4658-bca1-c57deba849e1",
   "metadata": {},
   "outputs": [],
   "source": [
    "11. Three Array Sum Combinations\n",
    "\n",
    "Write a Python program to check the sum of three elements (each from an array) from three arrays is equal to a target value. Print all those three-element combinations.\n",
    "Sample data:\n",
    "/*\n",
    "X = [10, 20, 20, 20]\n",
    "Y = [10, 20, 30, 40]\n",
    "Z = [10, 30, 40, 20]\n",
    "target = 70\n",
    "*/"
   ]
  },
  {
   "cell_type": "code",
   "execution_count": null,
   "id": "7efe5393-e2d6-4e86-9003-8233d06804f8",
   "metadata": {},
   "outputs": [],
   "source": [
    "12. List Permutations Generator\n",
    "\n",
    "Write a Python program that generates a list of all possible permutations from a given collection of distinct numbers."
   ]
  },
  {
   "cell_type": "code",
   "execution_count": null,
   "id": "79859f80-3466-4d55-b5f9-3146b2d8e91b",
   "metadata": {},
   "outputs": [],
   "source": [
    "13. Two-Digit Letter Combos\n",
    "\n",
    "Write a Python program to get all possible two-digit letter combinations from a 1-9 digit string.\n",
    "string_maps = {\n",
    "\"1\": \"abc\",\n",
    "\"2\": \"def\",\n",
    "\"3\": \"ghi\",\n",
    "\"4\": \"jkl\",\n",
    "\"5\": \"mno\",\n",
    "\"6\": \"pqrs\",\n",
    "\"7\": \"tuv\",\n",
    "\"8\": \"wxy\",\n",
    "\"9\": \"z\"\n",
    "}"
   ]
  },
  {
   "cell_type": "code",
   "execution_count": null,
   "id": "7230e23a-0656-43bb-8b8d-5f6f4c86d720",
   "metadata": {},
   "outputs": [],
   "source": [
    "14. Add Without Plus\n",
    "\n",
    "Write a Python program to add two positive integers without using the '+' operator.\n",
    "Note: Use bit wise operations to add two numbers."
   ]
  },
  {
   "cell_type": "code",
   "execution_count": null,
   "id": "b0ba9d2c-7996-4bf2-ae40-a535126435ac",
   "metadata": {},
   "outputs": [],
   "source": [
    "15. Operator Priority Checker\n",
    "\n",
    "Write a Python program to check the priority of the four operators (+, -, *, /)."
   ]
  },
  {
   "cell_type": "markdown",
   "id": "85e53114-67b8-4018-969a-f14117c95c9c",
   "metadata": {},
   "source": [
    "## 16. Right Triangle Third Side"
   ]
  },
  {
   "cell_type": "code",
   "execution_count": 3,
   "id": "66ff77bb-69d6-48cd-96f3-eaeda0da376b",
   "metadata": {},
   "outputs": [
    {
     "name": "stdout",
     "output_type": "stream",
     "text": [
      "125\n"
     ]
    }
   ],
   "source": [
    "#Write a Python program to get the third side of a right-angled triangle from two given sides.\n",
    "#Formula a**2+b**2=c**2\n",
    "side1=10\n",
    "side2=5\n",
    "side3=side1**2+side2**2\n",
    "print(side3)"
   ]
  },
  {
   "cell_type": "code",
   "execution_count": null,
   "id": "48ce9282-2eb1-4325-b98b-9e9140343ec9",
   "metadata": {},
   "outputs": [],
   "source": [
    "17. Strobogrammatic Numbers\n",
    "\n",
    "Write a Python program to get all strobogrammatic numbers that are of length n.\n",
    "A strobogrammatic number is a number whose numeral is rotationally symmetric, so that it appears the same when rotated 180 degrees. In other words, the numeral looks the same right-side up and upside down (e.g., 69, 96, 1001).\n",
    "For example,\n",
    "Given n = 2, return [\"11\", \"69\", \"88\", \"96\"].\n",
    "Given n = 3, return ['818', '111', '916', '619', '808', '101', '906', '609', '888', '181', '986', '689']"
   ]
  },
  {
   "cell_type": "markdown",
   "id": "1713a93f-d552-4dfb-bfcf-20d0983aa51b",
   "metadata": {},
   "source": [
    "## 18. Find Median of Three"
   ]
  },
  {
   "cell_type": "code",
   "execution_count": 13,
   "id": "c1a61f0c-f7ee-4e5a-ac1c-821ca7d5590c",
   "metadata": {},
   "outputs": [
    {
     "name": "stdout",
     "output_type": "stream",
     "text": [
      "23\n"
     ]
    }
   ],
   "source": [
    "#Write a Python program to find the median among three given numbers.\n",
    "a=[12,23,1]\n",
    "median=len(a)//2\n",
    "print(a[median])\n"
   ]
  },
  {
   "cell_type": "code",
   "execution_count": null,
   "id": "e3915ce4-caaa-45b9-8353-bb4a771bb121",
   "metadata": {},
   "outputs": [],
   "source": [
    "19. Sequential Powers of Two\n",
    "\n",
    "Write a Python program that finds the value of n when n degrees of number 2 are written sequentially on a line without spaces between them."
   ]
  },
  {
   "cell_type": "code",
   "execution_count": null,
   "id": "c0ac4421-56dc-47a1-9058-e1b17f11221d",
   "metadata": {},
   "outputs": [],
   "source": [
    "20. Factorial Trailing Zeros\n",
    "\n",
    "Write a Python program to find the number of zeros at the end of a factorial of a given positive number.\n",
    "Range of the number(n): (1 <= n <= 2*109)."
   ]
  },
  {
   "cell_type": "code",
   "execution_count": null,
   "id": "f613017d-1c8d-496d-9684-4f2a855bfffe",
   "metadata": {},
   "outputs": [],
   "source": [
    "21. Notes Count from Amount\n",
    "\n",
    "Write a Python program to find the number of notes (Samples of notes: 10, 20, 50, 100, 200, 500) against an amount.\n",
    "Range - Number of notes(n) : n (1 <= n <= 1000000)."
   ]
  },
  {
   "cell_type": "code",
   "execution_count": null,
   "id": "2c132ffd-0cac-4782-a189-b4d7a0a95577",
   "metadata": {},
   "outputs": [],
   "source": [
    "22. Nth Member of Sequence\n",
    "\n",
    "Write a Python program to create a sequence where the first four members of the sequence are equal to one. Each successive term of the sequence is equal to the sum of the four previous ones. Find the Nth member of the sequence."
   ]
  },
  {
   "cell_type": "code",
   "execution_count": null,
   "id": "604733b7-70d3-4fd1-9af2-170aad8becb7",
   "metadata": {},
   "outputs": [],
   "source": [
    "23. Subtract Sum of Digits\n",
    "\n",
    "Write a Python program that accepts a positive number and subtracts from it the sum of its digits, and so on. Continue this operation until the number is positive."
   ]
  },
  {
   "cell_type": "code",
   "execution_count": null,
   "id": "93874807-fb3a-45ba-8414-8c49959b0856",
   "metadata": {},
   "outputs": [],
   "source": [
    "24. Even or Odd Divisors\n",
    "\n",
    "Write a Python program to find the total number of even or odd divisors of a given integer."
   ]
  },
  {
   "cell_type": "code",
   "execution_count": null,
   "id": "e8c16713-e2e2-45d4-bd35-5d1505cf2720",
   "metadata": {},
   "outputs": [],
   "source": [
    "25. Missing Digits Finder\n",
    "\n",
    "Write a Python program to find the digits that are missing from a given mobile number."
   ]
  },
  {
   "cell_type": "code",
   "execution_count": null,
   "id": "4268e928-8d48-4722-9e97-3c036824502b",
   "metadata": {},
   "outputs": [],
   "source": [
    "26. Absolute Pairwise Difference\n",
    "\n",
    "Write a Python program to compute the summation of the absolute difference of all distinct pairs in a given array (non-decreasing order).\n",
    "Sample array: [1, 2, 3]\n",
    "Then all the distinct pairs will be:\n",
    "1 2\n",
    "1 3\n",
    "2 3"
   ]
  },
  {
   "cell_type": "code",
   "execution_count": null,
   "id": "d454c0f6-e7f4-4804-9b59-df785fe5fefc",
   "metadata": {},
   "outputs": [],
   "source": [
    "27. Progression Type and Next\n",
    "\n",
    "Write a Python program to find the type of the progression (arithmetic progression / geometric progression) and the next successive member of the three successive members of a sequence.\n",
    "According to Wikipedia, an arithmetic progression (AP) is a sequence of numbers such that the difference of any two successive members of the sequence is a constant. For instance, the sequence 3, 5, 7, 9, 11, 13, . . . is an arithmetic progression with common difference 2. For this problem, we will limit ourselves to arithmetic progression whose common difference is a non-zero integer.\n",
    "On the other hand, a geometric progression (GP) is a sequence of numbers where each term after the first is found by multiplying the previous one by a fixed non-zero number called the common ratio. For example, the sequence 2, 6, 18, 54, . . . is a geometric progression with common ratio 3. For this problem, we will limit ourselves to geometric progression whose common ratio is a non-zero integer."
   ]
  },
  {
   "cell_type": "code",
   "execution_count": null,
   "id": "fba2c8d9-d82a-4d67-95f7-b8291d6567da",
   "metadata": {},
   "outputs": [],
   "source": [
    "28. Series Length and Terms\n",
    "\n",
    "Write a Python program to print the length of the series and the series from the given 3rd term, 3rd last term and the sum of a series.\n",
    "Sample Data:\n",
    "Input third term of the series: 3\n",
    "Input 3rd last term: 3\n",
    "Input Sum of the series: 15\n",
    "Length of the series: 5\n",
    "Series:\n",
    "1 2 3 4 5"
   ]
  },
  {
   "cell_type": "code",
   "execution_count": null,
   "id": "fa3ee3fe-a7d4-4d3f-b89f-b9a1328c753a",
   "metadata": {},
   "outputs": [],
   "source": [
    "29. Common Divisors Finder\n",
    "\n",
    "Write a Python program to find common divisors between two numbers in a given pair."
   ]
  },
  {
   "cell_type": "code",
   "execution_count": null,
   "id": "f189d03a-34a8-4c61-b72e-6390b3a47e6a",
   "metadata": {},
   "outputs": [],
   "source": [
    "30. Palindrome Sum Iteration\n",
    "\n",
    "Write a Python program to reverse the digits of a given number and add them to the original. Repeat this procedure if the sum is not a palindrome.\n",
    "Note: A palindrome is a word, number, or other sequence of characters which reads the same backward as forward, such as madam or racecar."
   ]
  },
  {
   "cell_type": "code",
   "execution_count": null,
   "id": "383292b7-1cdf-4d75-854f-9c35cd319cc0",
   "metadata": {},
   "outputs": [],
   "source": [
    "31. Carry Operations Count\n",
    "\n",
    "Write a Python program to count the number of carry operations for each addition problem.\n",
    "According to Wikipedia \" In elementary arithmetic, a carry is a digit that is transferred from one column of digits to another column of more significant digits. It is part of the standard algorithm to add numbers together by starting with the rightmost digits and working to the left. For example, when 6 and 7 are added to make 13, the \"3\" is written to the same column and the \"1\" is carried to the left\"."
   ]
  },
  {
   "cell_type": "code",
   "execution_count": null,
   "id": "ee37bd8e-b3f8-455b-acfa-10ba76021c81",
   "metadata": {},
   "outputs": [],
   "source": [
    "32. Top Three Building Heights\n",
    "\n",
    "Write a Python program to find the heights of the top three buildings in descending order from eight given buildings.\n",
    "Input:\n",
    "0 <= height of building (integer) <= 10,000\n",
    "Input the heights of eight buildings:\n",
    "25\n",
    "35\n",
    "15\n",
    "16\n",
    "30\n",
    "45\n",
    "37\n",
    "39\n",
    "Heights of the top three buildings:\n",
    "45\n",
    "39\n",
    "37"
   ]
  },
  {
   "cell_type": "code",
   "execution_count": null,
   "id": "b413fe5d-f860-4ae6-9c4e-8ab1b45b22e1",
   "metadata": {},
   "outputs": [],
   "source": [
    "33. Sum Digit Count\n",
    "\n",
    "Write a Python program to compute the digit number of the sum of two given integers.\n",
    "Input:\n",
    "Each test case consists of two non-negative integers x and y which are separated by a space in a line.\n",
    "0 <= x, y <= 1,000,000\n",
    "Input two integers(a b):\n",
    "5 7\n",
    "Sum of two integers a and b.:\n",
    "2"
   ]
  },
  {
   "cell_type": "code",
   "execution_count": null,
   "id": "3a70acb5-88b0-482f-b2f7-770befc3a3b2",
   "metadata": {},
   "outputs": [],
   "source": [
    "34. Right Triangle Validator\n",
    "\n",
    "Write a Python program to check whether three given lengths (integers) of three sides form a right triangle. Print \"Yes\" if the given sides form a right triangle otherwise print \"No\".\n",
    "Input:\n",
    "Integers separated by a single space.\n",
    "1 <= length of the side <= 1,000\n",
    "Input three integers(sides of a triangle)\n",
    "8 6 7\n",
    "No"
   ]
  },
  {
   "cell_type": "code",
   "execution_count": null,
   "id": "020a6b59-29ca-4b19-99ab-4af96f4c5d36",
   "metadata": {},
   "outputs": [],
   "source": [
    "35. Solve Linear Equations\n",
    "\n",
    "Write a Python program which solve the equation:\n",
    "ax+by=c\n",
    "dx+ey=f\n",
    "Print the values of x, y where a, b, c, d, e and f are given.\n",
    "Input:\n",
    "a,b,c,d,e,f separated by a single space.\n",
    "(-1,000 <= a,b,c,d,e,f <= 1,000)\n",
    "Input the value of a, b, c, d, e, f:\n",
    "5 8 6 7 9 4\n",
    "Values of x and y:\n",
    "-2.000 2.000"
   ]
  },
  {
   "cell_type": "code",
   "execution_count": null,
   "id": "931e5ad0-771d-43ae-81e3-00403718e586",
   "metadata": {},
   "outputs": [],
   "source": [
    "36. Debt Calculation\n",
    "\n",
    "Write a Python program to compute the amount of debt in n months. Each month, the loan adds 5% interest to the $100,000 debt and rounds to the nearest 1,000 above.\n",
    "Input:\n",
    "An integer n (0 <= n <= 100)\n",
    "Input number of months: 7\n",
    "Amount of debt: $144000"
   ]
  },
  {
   "cell_type": "code",
   "execution_count": null,
   "id": "2129c5c6-6530-4d6e-9a63-7868f318169c",
   "metadata": {},
   "outputs": [],
   "source": [
    "37. Sum Combinations Counter\n",
    "\n",
    "Write a Python program that reads an integer n and finds the number of combinations of a,b,c and d (0 = a,b,c,d = 9) where (a + b + c + d) will be equal to n.\n",
    "Input:\n",
    "n (1 <= n <= 50)\n",
    "Input the number(n): 15\n",
    "Number of combinations: 592"
   ]
  },
  {
   "cell_type": "code",
   "execution_count": null,
   "id": "4a8b5850-acea-4d81-ac78-9d11d5657b0d",
   "metadata": {},
   "outputs": [],
   "source": [
    "38. Count Prime Numbers\n",
    "\n",
    "Write a Python program to print the number of prime numbers that are less than or equal to a given number.\n",
    "Input:\n",
    "n (1 <= n <= 999,999)\n",
    "Input the number(n): 35\n",
    "Number of prime numbers which are less than or equal to n.: 11"
   ]
  },
  {
   "cell_type": "code",
   "execution_count": null,
   "id": "cd33a1b2-1b29-4e4b-8181-637a328b0e19",
   "metadata": {},
   "outputs": [],
   "source": [
    "39. Circle from Three Points\n",
    "\n",
    "Write a program to compute the radius and the central coordinate (x, y) of a circle which is constructed from three given points on the plane surface.\n",
    "Input:\n",
    "x1, y1, x2, y2, x3, y3 separated by a single space.\n",
    "Input three coordinate of the circle:\n",
    "9 3 6 8 3 6\n",
    "Radius of the said circle:\n",
    "3.358\n",
    "Central coordinate (x, y) of the circle:\n",
    "6.071 4.643"
   ]
  },
  {
   "cell_type": "code",
   "execution_count": null,
   "id": "90512545-3895-41f2-858f-0d1ad3b780f0",
   "metadata": {},
   "outputs": [],
   "source": [
    "40. Point in Triangle\n",
    "\n",
    "Write a Python program to check if a point (x,y) is in a triangle or not. A triangle is formed by three points.\n",
    "Input:\n",
    "x1,y1,x2,y2,x3,y3,xp,yp separated by a single space.\n",
    "Input three coordinate of the circle:\n",
    "9 3 6 8 3 6\n",
    "Radius of the said circle:\n",
    "3.358\n",
    "Central coordinate (x, y) of the circle:\n",
    "6.071 4.643"
   ]
  },
  {
   "cell_type": "code",
   "execution_count": null,
   "id": "a4ba0b51-2bc5-4460-81f6-37a0598bcbc5",
   "metadata": {},
   "outputs": [],
   "source": [
    "41. Sum with Overflow Check\n",
    "\n",
    "Write a Python program to compute and print the sum of two given integers (greater or equal to zero). In the event that the given integers or the sum exceed 80 digits, print \"overflow\".\n",
    "Input first integer:\n",
    "25\n",
    "Input second integer:\n",
    "22\n",
    "Sum of the two integers: 47"
   ]
  },
  {
   "cell_type": "code",
   "execution_count": null,
   "id": "6509a3a3-a873-4a49-b2ab-ff386e816054",
   "metadata": {},
   "outputs": [],
   "source": [
    "## 42. Sort Six Numbers"
   ]
  },
  {
   "cell_type": "code",
   "execution_count": 41,
   "id": "f49863cc-7ecd-41e8-aa45-ef042dc2e41c",
   "metadata": {},
   "outputs": [
    {
     "name": "stdin",
     "output_type": "stream",
     "text": [
      "Enter the six numbers 9 3 5 6 8 1\n"
     ]
    }
   ],
   "source": [
    "# Write a Python program that accepts six numbers as input and sorts them in descending order.\n",
    "# Input:\n",
    "# Input consists of six numbers n1, n2, n3, n4, n5, n6 (-100000 <= n1, n2, n3, n4, n5, n6 <= 100000). The six numbers are separated by a space.\n",
    "# Input six integers:\n",
    "# 15 30 25 14 35 40\n",
    "# After sorting the said integers:\n",
    "# 40 35 30 25 15 14\n",
    "num=input(\"Enter the six numbers\").split(\" \")\n",
    "li=list(num)\n",
    "li.sort()"
   ]
  },
  {
   "cell_type": "code",
   "execution_count": 42,
   "id": "53b9afcd-fa8a-4b56-955a-6ba96ba0d40a",
   "metadata": {},
   "outputs": [
    {
     "name": "stdout",
     "output_type": "stream",
     "text": [
      "['1', '3', '5', '6', '8', '9']\n"
     ]
    }
   ],
   "source": [
    "print(li)"
   ]
  },
  {
   "cell_type": "code",
   "execution_count": null,
   "id": "e434eec2-2896-43ee-bdd6-2ff8853eabbc",
   "metadata": {},
   "outputs": [],
   "source": [
    "43. Parallel Lines Tester\n",
    "\n",
    "Write a Python program to test whether two lines PQ and RS are parallel. The four points are P(x1, y1), Q(x2, y2), R(x3, y3), S(x4, y4).\n",
    "Input:\n",
    "x1,y1,x2,y2,x3,y3,xp,yp separated by a single space\n",
    "Input x1,y1,x2,y2,x3,y3,x2p,yp:\n",
    "2 5 6 4 8 3 9 7\n",
    "PQ and RS are not parallel"
   ]
  },
  {
   "cell_type": "code",
   "execution_count": null,
   "id": "b4e5269a-e9d7-4273-8ec6-8860e37e16da",
   "metadata": {},
   "outputs": [],
   "source": [
    "44. Max Subsequence Sum\n",
    "\n",
    "Write a Python program to find the maximum sum of a contiguous subsequence from a given sequence of numbers a1, a2, a3, ... an. A subsequence of one element is also a continuous subsequence.\n",
    "Input:\n",
    "You can assume that 1 <= n <= 5000 and -100000 <= ai <= 100000.\n",
    "Input numbers are separated by a space.\n",
    "Input 0 to exit.\n",
    "Input number of sequence of numbers you want to input (0 to exit):\n",
    "3\n",
    "Input numbers:\n",
    "2\n",
    "4\n",
    "6\n",
    "Maximum sum of the said contiguous subsequence: 12\n",
    "Input number of sequence of numbers you want to input (0 to exit):\n",
    "0"
   ]
  },
  {
   "cell_type": "code",
   "execution_count": null,
   "id": "984da70e-7700-4096-8c87-9de2971e3b98",
   "metadata": {},
   "outputs": [],
   "source": [
    "45. Circle Overlap Checker\n",
    "\n",
    "There are two circles C1 with radius r1, central coordinate (x1, y1) and C2 with radius r2 and central coordinate (x2, y2).\n",
    "Write a Python program to test the followings -\n",
    "\n",
    "\"C2 is in C1\" if C2 is in C1\n",
    "\"C1 is in C2\" if C1 is in C2\n",
    "\"Circumference of C1 and C2 intersect\" if circumference of C1 and C2 intersect\n",
    "\"C1 and C2 do not overlap\" if C1 and C2 do not overlap and\n",
    "\"Circumference of C1 and C2 will touch\" if C1 and C2 touch\n",
    "Input:\n",
    "Input numbers (real numbers) are separated by a space.\n",
    "Input x1, y1, r1, x2, y2, r2:\n",
    "5 4 2 3 9 2\n",
    "C1 and C2 do not overlap\n",
    "Input x1, y1, r1, x2, y2, r2:\n",
    "5 4 3 5 10 3\n",
    "Circumference of C1 and C2 will touch\n",
    "Input x1, y1, r1, x2, y2, r2:\n",
    "6 4 3 10 4 2\n",
    "Circumference of C1 and C2 intersect\n",
    "Input x1, y1, r1, x2, y2, r2:\n",
    "5 4 3 5 4 2\n",
    "C2 is in C1\n",
    "Input x1, y1, r1, x2, y2, r2:\n",
    "5 4 2 5 4 3\n",
    "C1 is in C2"
   ]
  },
  {
   "cell_type": "code",
   "execution_count": null,
   "id": "07d07c41-5519-4c11-8327-2207770586d2",
   "metadata": {},
   "outputs": [],
   "source": [
    "46. Day of Date Finder\n",
    "\n",
    "Write a Python program that reads a date (from 2016/1/1 to 2016/12/31) and prints the day of the date. Jan. 1, 2016, is Friday. Note that 2016 is a leap year.\n",
    "Input:\n",
    "Two integers m and d separated by a single space in a line, m ,d represent the month and the day.\n",
    "Input month and date (separated by a single space):\n",
    "5 15\n",
    "Name of the date: Sunday"
   ]
  },
  {
   "cell_type": "code",
   "execution_count": null,
   "id": "21ccd641-c0e9-4885-a9be-d2e674c83f2f",
   "metadata": {},
   "outputs": [],
   "source": [
    "47. Word Frequency and Length\n",
    "\n",
    "Write a Python program that reads text (only alphabetical characters and spaces) and prints two words. The first word is the one that appears most often in the text. The second one is the word with the most letters.\n",
    "Note: A word is a sequence of letters which is separated by the spaces.\n",
    "\n",
    "Input:\n",
    "A text is given in a line with following condition:\n",
    "a. The number of letters in the text is less than or equal to 1000.\n",
    "b. The number of letters in a word is less than or equal to 32.\n",
    "c. There is only one word which is arise most frequently in given text.\n",
    "d. There is only one word which has the maximum number of letters in given text.\n",
    "Input text: Thank you for your comment and your participation.\n",
    "Output: your participation."
   ]
  },
  {
   "cell_type": "code",
   "execution_count": null,
   "id": "e16ad17b-e5ba-4d81-82d5-e4b7264974c8",
   "metadata": {},
   "outputs": [],
   "source": [
    "48. Sum of Digit Combinations\n",
    "\n",
    "Write a Python program that reads n digits (given) chosen from 0 to 9 and prints the number of combinations where the sum of the digits equals another given number (s). Do not use the same digits in a combination.\n",
    "Input:\n",
    "Two integers as number of combinations and their sum by a single space in a line. Input 0 0 to exit.\n",
    "Input number of combinations and sum, input 0 0 to exit:\n",
    "5 6\n",
    "2 4\n",
    "0 0\n",
    "2"
   ]
  },
  {
   "cell_type": "code",
   "execution_count": null,
   "id": "af84a8aa-337c-4541-8348-b26981e36614",
   "metadata": {},
   "outputs": [],
   "source": [
    "49. Parallelogram Validator\n",
    "\n",
    "Write a Python program that reads the two adjoining sides and the diagonal of a parallelogram and checks whether the parallelogram is a rectangle or a rhombus.\n",
    "According to Wikipedia-\n",
    "parallelograms: In Euclidean geometry, a parallelogram is a simple (non-self-intersecting) quadrilateral with two pairs of parallel sides. The opposite or facing sides of a parallelogram are of equal length and the opposite angles of a parallelogram are of equal measure.\n",
    "rectangles: In Euclidean plane geometry, a rectangle is a quadrilateral with four right angles. It can also be defined as an equiangular quadrilateral, since equiangular means that all of its angles are equal (360°/4 = 90°). It can also be defined as a parallelogram containing a right angle.\n",
    "rhombus: In plane Euclidean geometry, a rhombus (plural rhombi or rhombuses) is a simple (non-self-intersecting) quadrilateral whose four sides all have the same length. Another name is equilateral quadrilateral, since equilateral means that all of its sides are equal in length. The rhombus is often called a diamond, after the diamonds suit in playing cards which resembles the projection of an octahedral diamond, or a lozenge, though the former sometimes refers specifically to a rhombus with a 60° angle, and the latter sometimes refers specifically to a rhombus with a 45° angle.\n",
    "Input:\n",
    "Two adjoined sides and the diagonal.\n",
    "1 <= ai, bi, ci <= 1000, ai + bi > ci\n",
    "Input two adjoined sides and the diagonal of a parallelogram (comma separated):\n",
    "3,4,5\n",
    "This is a rectangle."
   ]
  },
  {
   "cell_type": "markdown",
   "id": "b395a411-de4d-4a65-a2a2-f68f9b60c0e1",
   "metadata": {},
   "source": [
    "## 50. Swap Python and Java"
   ]
  },
  {
   "cell_type": "code",
   "execution_count": null,
   "id": "0010feee-436e-4f87-9774-24ea92f9326a",
   "metadata": {},
   "outputs": [],
   "source": [
    "# Write a Python program to replace a string \"Python\" with \"Java\" and \"Java\" with \"Python\" in a given string.\n",
    "# Input:\n",
    "# English letters (including single byte alphanumeric characters, blanks, symbols) are given on one line. The length of the input character string is 1000 or less.\n",
    "# Input a text with two words 'Python' and 'Java'\n",
    "# Python is popular than Java\n",
    "# Java is popular than Python\n",
    "\n"
   ]
  },
  {
   "cell_type": "markdown",
   "id": "a673c70b-8525-4b4d-b6d2-867f372bed6b",
   "metadata": {},
   "source": [
    "## 51. Largest-Smallest Integer Difference"
   ]
  },
  {
   "cell_type": "code",
   "execution_count": null,
   "id": "9d036fd8-84d3-4164-85cc-ddccfc1045c7",
   "metadata": {},
   "outputs": [],
   "source": [
    "# Write a Python program that determines the difference between the largest and smallest integers created by 8 numbers from 0 to 9. The number that can be rearranged shall start with 0 as in 00135668.\n",
    "# Input:\n",
    "# Input an integer created by 8 numbers from 0 to 9.:\n",
    "# 2345\n",
    "# Difference between the largest and the smallest integer from the given integer:\n",
    "# 3087"
   ]
  },
  {
   "cell_type": "markdown",
   "id": "95edb634-d1ab-4aa3-8d1c-b1b21ec0019f",
   "metadata": {},
   "source": [
    "## 52. Sum of First n Primes"
   ]
  },
  {
   "cell_type": "code",
   "execution_count": 48,
   "id": "6a0cb5ec-296b-4be0-8c9e-019e161d923c",
   "metadata": {},
   "outputs": [
    {
     "name": "stdout",
     "output_type": "stream",
     "text": [
      "325\n"
     ]
    }
   ],
   "source": [
    "# Write a Python program to compute the sum of the first n prime numbers.\n",
    "# Input:\n",
    "# n ( n <= 10000). Input 0 to exit the program.\n",
    "# Input a number (n<=10000) to compute the sum:(0 to exit)\n",
    "# 25\n",
    "# Sum of first 25 prime numbers:\n",
    "# 1060\n",
    "n=25\n",
    "i=0\n",
    "while len(i)<=n:\n",
    "    \n",
    "    "
   ]
  },
  {
   "cell_type": "code",
   "execution_count": null,
   "id": "da3381fa-193b-4255-9a7e-ad51f23d45b6",
   "metadata": {},
   "outputs": [],
   "source": [
    "53. Goldbach Partition Counter\n",
    "\n",
    "Write a Python program which accepts an even number (>=4, Goldbach number) from the user and creates combinations which express the given number as a sum of two prime numbers. Print the number of combinations.\n",
    "Goldbach number: A Goldbach number is a positive even integer that can be expressed as the sum of two odd primes.[4] Since four is the only even number greater than two that requires the even prime 2 in order to be written as the sum of two primes, another form of the statement of Goldbach's conjecture is that all even integers greater than 4 are Goldbach numbers.\n",
    "The expression of a given even number as a sum of two primes is called a Goldbach partition of that number. The following are examples of Goldbach partitions for some even numbers:\n",
    "6 = 3 + 3\n",
    "8 = 3 + 5\n",
    "10 = 3 + 7 = 5 + 5\n",
    "12 = 7 + 5\n",
    "\n",
    "100 = 3 + 97 = 11 + 89 = 17 + 83 = 29 + 71 = 41 + 59 = 47 + 53\n",
    "Input an even number (0 to exit):\n",
    "100\n",
    "Number of combinations:\n",
    "6\n"
   ]
  },
  {
   "cell_type": "code",
   "execution_count": null,
   "id": "b0fbf3c0-de49-4812-a6e8-b7da4b12035d",
   "metadata": {},
   "outputs": [],
   "source": [
    "54. Regions from Straight Lines\n",
    "\n",
    "If you draw a straight line on a plane, the plane is divided into two regions. For example, if you draw two straight lines in parallel, you get three areas, and if you draw vertically one to the other you get 4 areas.\n",
    "Write a Python program to create the maximum number of regions obtained by drawing n given straight lines.\n",
    "Input:\n",
    "(1 <= n <= 10,000)\n",
    "Input number of straight lines (o to exit):\n",
    "5\n",
    "Number of regions:\n",
    "16"
   ]
  },
  {
   "cell_type": "code",
   "execution_count": null,
   "id": "ad43d6a6-f554-4123-8f14-0b81f29dc2a0",
   "metadata": {},
   "outputs": [],
   "source": [
    "55. Orthogonal Line Checker\n",
    "\n",
    "There are four different points on a plane, P(xp,yp), Q(xq, yq), R(xr, yr) and S(xs, ys). Write a Python program to determine whether AB and CD are orthogonal.\n",
    "Input:\n",
    "xp,yp, xq, yq, xr, yr, xs and ys are -100 to 100 respectively and each value can be up to 5 digits after the decimal point It is given as a real number including the number of. Output:\n",
    "Output AB and CD are not orthogonal! or AB and CD are orthogonal!."
   ]
  },
  {
   "cell_type": "code",
   "execution_count": null,
   "id": "842a7ee2-40d1-432f-9ff6-70f31200e0ed",
   "metadata": {},
   "outputs": [],
   "source": [
    "56. Sum of Numbers in Text\n",
    "\n",
    "Write a Python program to sum all numerical values (positive integers) embedded in a sentence.\n",
    "Input:\n",
    "Sentences with positive integers are given over multiple lines. Each line is a character string containing one-byte alphanumeric characters, symbols, spaces, or an empty line. However the input is 80 characters or less per line and the sum is 10,000 or less.\n",
    "Input some text and numeric values ( to exit):\n",
    "Sum of the numeric values: 80\n",
    "None\n",
    "Input some text and numeric values ( to exit):\n",
    "Sum of the numeric values: 17\n",
    "None\n",
    "Input some text and numeric values ( to exit):\n",
    "Sum of the numeric values: 10\n",
    "None"
   ]
  },
  {
   "cell_type": "code",
   "execution_count": null,
   "id": "61a30aea-c7c0-4eaf-9cc6-28e370cdeac7",
   "metadata": {},
   "outputs": [],
   "source": [
    "57. Island Counter in Grid\n",
    "\n",
    "There are 10 vertical and horizontal squares on a plane. Each square is painted blue and green. Blue represents the sea, and green represents the land. When two green squares are in contact with the top and bottom, or right and left, they are said to be ground. The area created by only one green square is called \"island\". For example, there are five islands in the figure below.\n",
    "Write a Python program to read the mass data and find the number of islands.\n",
    "Input:\n",
    "Input 10 rows of 10 numbers representing green squares (island) as 1 and blue squares (sea) as zeros\n",
    "1100000111\n",
    "1000000111\n",
    "0000000111\n",
    "0010001000\n",
    "0000011100\n",
    "0000111110\n",
    "0001111111\n",
    "1000111110\n",
    "1100011100\n",
    "1110001000\n",
    "Number of islands:\n",
    "5"
   ]
  },
  {
   "cell_type": "code",
   "execution_count": null,
   "id": "1919fb2d-1720-4111-b470-3ecf3420ac8a",
   "metadata": {},
   "outputs": [],
   "source": [
    "58. Restore Compressed String\n",
    "\n",
    "When character are consecutive in a string , it is possible to shorten the character string by replacing the character with a certain rule. For example, in the case of the character string YYYYY, if it is expressed as # 5 Y, it is compressed by one character.\n",
    "Write a Python program to restore the original string by entering the compressed string with this rule. However, the # character does not appear in the restored character string.\n",
    "Input:\n",
    "The restored character string for each character on one line.\n",
    "Original text: XY#6Z1#4023\n",
    "XYZZZZZZ1000023\n",
    "Original text: #39+1=1#30\n",
    "999+1=1000"
   ]
  },
  {
   "cell_type": "code",
   "execution_count": null,
   "id": "6917bf84-f55e-4ece-8603-181de81150bb",
   "metadata": {},
   "outputs": [],
   "source": [
    "59. Convex Polygon Area\n",
    "\n",
    "A convex polygon is a simple polygon in which no line segment between two points on the boundary ever goes outside the polygon. Equivalently, it is a simple polygon whose interior is a convex set. In a convex polygon, all interior angles are less than or equal to 180 degrees, while in a strictly convex polygon all interior angles are strictly less than 180 degrees.\n",
    "Write a Python program that compute the area of the polygon . The vertices have the names vertex 1, vertex 2, vertex 3, ... vertex n according to the order of edge connections\n",
    "Note: The original sentences are uppercase letters, lowercase letters, numbers, symbols, less than 100 letters, and consecutive letters are not more than 9 letters.\n",
    "Input:\n",
    "Input number of sides: 5\n",
    "Side: 1\n",
    "Input the Coordinate:\n",
    "Input Coordinate x: 1\n",
    "Input Coordinate y: 0\n",
    "Side: 2\n",
    "Input the Coordinate:\n",
    "Input Coordinate x: 0\n",
    "Input Coordinate y: 0\n",
    "Side: 3\n",
    "Input the Coordinate:\n",
    "Input Coordinate x: 1\n",
    "Input Coordinate y: 1\n",
    "Side: 4\n",
    "Input the Coordinate:\n",
    "Input Coordinate x: 2\n",
    "Input Coordinate y: 0\n",
    "Side: 5\n",
    "Input the Coordinate:\n",
    "Input Coordinate x: -1\n",
    "Input Coordinate y: 1\n",
    "Area of the Polygon: 0.5"
   ]
  },
  {
   "cell_type": "code",
   "execution_count": null,
   "id": "caf6ef30-1ff2-4ed3-a5a9-a321daa0107f",
   "metadata": {},
   "outputs": [],
   "source": [
    "60. Cut Words by Length\n",
    "\n",
    "Internet search engine giant, such as Google accepts web pages around the world and classify them, creating a huge database. The search engines also analyze the search keywords entered by the user and create inquiries for database search. In both cases, complicated processing is carried out in order to realize efficient retrieval, but basics are all cutting out words from sentences.\n",
    "Write a Python program to cut out words of 3 to 6 characters length from a given sentence not more than 1024 characters.\n",
    "Input:\n",
    "English sentences consisting of delimiters and alphanumeric characters are given on one line.\n",
    "Input a sentence (1024 characters. max.)\n",
    "The quick brown fox\n",
    "3 to 6 characters length of words:\n",
    "The quick brown fox"
   ]
  },
  {
   "cell_type": "code",
   "execution_count": null,
   "id": "463ce57f-5c38-4331-be88-2400289cb577",
   "metadata": {},
   "outputs": [],
   "source": [
    "61. Max Sum in Diamond Path\n",
    "\n",
    "Arrange integers (0 to 99) as narrow hilltop, as illustrated in Figure 1. Reading such data representing huge, when starting from the top and proceeding according to the next rule to the bottom. Write a Python program that compute the maximum value of the sum of the passing integers.\n",
    "Input:\n",
    "A series of integers separated by commas are given in diamonds. No spaces are included in each line. The input example corresponds to Figure 1. The number of lines of data is less than 100 lines.\n",
    "Output:\n",
    "The maximum value of the sum of integers passing according to the rule on one line.\n",
    "Input the numbers (ctrl+d to exit):\n",
    "8\n",
    "4, 9\n",
    "9, 2, 1\n",
    "3, 8, 5, 5\n",
    "5, 6, 3, 7, 6\n",
    "3, 8, 5, 5\n",
    "9, 2, 1\n",
    "4, 9\n",
    "8\n",
    "Maximum value of the sum of integers passing according to the rule on one line.\n",
    "64"
   ]
  },
  {
   "cell_type": "code",
   "execution_count": null,
   "id": "f67e10ba-1b31-48be-8678-24e25246f196",
   "metadata": {},
   "outputs": [],
   "source": [
    "62. Sum Combination Counter\n",
    "\n",
    "Write a Python program to find the number of combinations that satisfy p + q + r + s = n where n is a given number <= 4000 and p, q, r, s are between 0 to 1000.\n",
    "Input a positive integer: (ctrl+d to exit)\n",
    "252\n",
    "Number of combinations of a,b,c,d: 2731135"
   ]
  },
  {
   "cell_type": "code",
   "execution_count": null,
   "id": "ada22447-08ae-440f-9371-023f76644f3d",
   "metadata": {},
   "outputs": [],
   "source": [
    "63. Sum of Rows and Columns\n",
    "\n",
    "Write a Python program that adds up the columns and rows of the given table as shown in the specified figure.\n",
    "Input number of rows/columns (0 to exit)\n",
    "4\n",
    "Input cell value:\n",
    "25 69 51 26\n",
    "68 35 29 54\n",
    "54 57 45 63\n",
    "61 68 47 59\n",
    "Result:\n",
    "25 69 51 26 171\n",
    "68 35 29 54 186\n",
    "54 57 45 63 219\n",
    "61 68 47 59 235\n",
    "208 229 172 202 811\n",
    "Input number of rows/columns (0 to exit)"
   ]
  },
  {
   "cell_type": "code",
   "execution_count": null,
   "id": "89bbcd0b-5f80-466a-89dc-dd7446b96e14",
   "metadata": {},
   "outputs": [],
   "source": [
    "64. Pair Sum to Target\n",
    "\n",
    "Given a list of numbers and a number k, write a Python program to check whether the sum of any two numbers from the list is equal to k or not.\n",
    "For example, given [1, 5, 11, 5] and k = 16, return true since 11 + 5 is 16.\n",
    "Sample Input:\n",
    "([12, 5, 0, 5], 10)\n",
    "([20, 20, 4, 5], 40)\n",
    "([1, -1], 0)\n",
    "([1, 1, 0], 0)\n",
    "Sample Output:\n",
    "True\n",
    "True\n",
    "True\n",
    "False"
   ]
  },
  {
   "cell_type": "code",
   "execution_count": null,
   "id": "7c71c79b-5f65-4d72-a70b-122678f0755c",
   "metadata": {},
   "outputs": [],
   "source": [
    "65. Longest Subsequence Word\n",
    "\n",
    "In mathematics, a subsequence is a sequence that can be derived from another sequence by deleting some or no elements without changing the order of the remaining elements. For example, the sequence (A,B,D) is a subsequence of (A,B,C,D,E,F) obtained after removal of elements C, E, and F. The relation of one sequence being the subsequence of another is a preorder.\n",
    "The subsequence should not be confused with substring (A,B,C,D) which can be derived from the above string (A,B,C,D,E,F) by deleting substring (E,F). The substring is a refinement of the subsequence.\n",
    "The list of all subsequences for the word \"apple\" would be \"a\", \"ap\", \"al\", \"ae\", \"app\", \"apl\", \"ape\", \"ale\", \"appl\", \"appe\", \"aple\", \"apple\", \"p\", \"pp\", \"pl\", \"pe\", \"ppl\", \"ppe\", \"ple\", \"pple\", \"l\", \"le\", \"e\", \"\".\n",
    "Write a Python program to find the longest word in a set of words which is a subsequence of a given string.\n",
    "Sample Input:\n",
    "(\"Green\", {\"Gn\", \"Gren\", \"ree\", \"en\"})\n",
    "(\"pythonexercises\", {\"py\", \"ex\", \"exercises\"})\n",
    "Sample Output:\n",
    "Gren\n",
    "exercises"
   ]
  },
  {
   "cell_type": "code",
   "execution_count": null,
   "id": "c61b28fb-1c07-4a02-bc37-75fd30460e4a",
   "metadata": {},
   "outputs": [],
   "source": [
    "66. Happy Number Checker\n",
    "\n",
    "From Wikipedia, the free encyclopaedia:\n",
    "A happy number is defined by the following process:\n",
    "Starting with any positive integer, replace the number by the sum of the squares of its digits, and repeat the process until the number equals 1 (where it will stay), or it loops endlessly in a cycle which does not include 1. Those numbers for which this process ends in 1 are happy numbers, while those that do not end in 1 are unhappy numbers.\n",
    "Write a Python program to check whether a number is \"happy\" or not.\n",
    "Sample Input:\n",
    "(7)\n",
    "(932)\n",
    "(6)\n",
    "Sample Output:\n",
    "True\n",
    "True\n",
    "False"
   ]
  },
  {
   "cell_type": "code",
   "execution_count": null,
   "id": "90a0ddd5-739f-4335-9706-5579007faeed",
   "metadata": {},
   "outputs": [],
   "source": [
    "67. First 10 Happy Numbers\n",
    "\n",
    "From Wikipedia,\n",
    "A happy number is defined by the following process:\n",
    "Starting with any positive integer, replace the number by the sum of the squares of its digits, and repeat the process until the number equals 1 (where it will stay), or it loops endlessly in a cycle which does not include 1. Those numbers for which this process ends in 1 are happy numbers, while those that do not end in 1 are unhappy numbers.\n",
    "Write a Python program to find and print the first 10 happy numbers.\n",
    "Sample Input:\n",
    "[:10]\n",
    "Sample Output:\n",
    "[1, 7, 10, 13, 19, 23, 28, 31, 32, 44]"
   ]
  },
  {
   "cell_type": "code",
   "execution_count": null,
   "id": "af690409-1853-4a39-af95-8a45d7064422",
   "metadata": {},
   "outputs": [],
   "source": [
    "68. Prime Count Below n\n",
    "\n",
    "Write a Python program that counts the number of prime numbers that are less than a given non-negative number.\n",
    "Sample Input:\n",
    "(10)\n",
    "(100)\n",
    "Sample Output:\n",
    "4\n",
    "25"
   ]
  },
  {
   "cell_type": "code",
   "execution_count": null,
   "id": "2c64beba-3076-4ecb-b9e2-67d916ce474e",
   "metadata": {},
   "outputs": [],
   "source": [
    "69. Isomorphic Strings Check\n",
    "\n",
    "In abstract algebra, a group isomorphism is a function between two groups that sets up a one-to-one correspondence between the elements of the groups in a way that respects the given group operations. If there exists an isomorphism between two groups, then the groups are called isomorphic.\n",
    "Two strings are isomorphic if the characters in string A can be replaced to get string B\n",
    "Given \"foo\", \"bar\", return false.\n",
    "Given \"paper\", \"title\", return true.\n",
    "Write a Python program to check if two given strings are isomorphic to each other or not.\n",
    "Sample Input:\n",
    "(\"foo\", \"bar\")\n",
    "(\"bar\", \"foo\")\n",
    "(\"paper\", \"title\")\n",
    "(\"title\", \"paper\")\n",
    "(\"apple\", \"orange\")\n",
    "(\"aa\", \"ab\")\n",
    "(\"ab\", \"aa\")\n",
    "Sample Output:\n",
    "False\n",
    "False\n",
    "True\n",
    "True\n",
    "False\n",
    "False"
   ]
  },
  {
   "cell_type": "code",
   "execution_count": null,
   "id": "7d901db8-76eb-429b-a359-9c2a760d1492",
   "metadata": {},
   "outputs": [],
   "source": [
    "70. Longest Common Prefix\n",
    "\n",
    "Write a Python program to find the longest common prefix string among a given array of strings. Return false if there is no common prefix.\n",
    "For Example, longest common prefix of \"abcdefgh\" and \"abcefgh\" is \"abc\".\n",
    "Sample Input:\n",
    "[\"abcdefgh\",\"abcefgh\"]\n",
    "[\"w3r\",\"w3resource\"]\n",
    "[\"Python\",\"PHP\", \"Perl\"]\n",
    "[\"Python\",\"PHP\", \"Java\"]\n",
    "Sample Output:\n",
    "abc\n",
    "w3r\n",
    "P"
   ]
  },
  {
   "cell_type": "code",
   "execution_count": null,
   "id": "056da050-1c11-4b33-9465-79a6fbff3307",
   "metadata": {},
   "outputs": [],
   "source": [
    "71. Reverse Vowels in String\n",
    "\n",
    "Write a Python program to reverse only the vowels of a given string.\n",
    "Sample Input:\n",
    "(\"w3resource\")\n",
    "(\"Python\")\n",
    "(\"Perl\")\n",
    "(\"USA\")\n",
    "Sample Output:\n",
    "w3resuorce\n",
    "Python\n",
    "Perl\n",
    "ASU"
   ]
  },
  {
   "cell_type": "code",
   "execution_count": null,
   "id": "038f06bc-bfb2-4e77-91b9-588e33a2ee38",
   "metadata": {},
   "outputs": [],
   "source": [
    "72. Integer Palindrome Checker\n",
    "\n",
    "Write a Python program to check whether a given integer is a palindrome or not.\n",
    "Note: An integer is a palindrome when it reads the same backward as forward. Negative numbers are not palindromic.\n",
    "Sample Input:\n",
    "(100)\n",
    "(252)\n",
    "(-838)\n",
    "Sample Output:\n",
    "False\n",
    "True\n",
    "False"
   ]
  },
  {
   "cell_type": "code",
   "execution_count": null,
   "id": "269ee7e6-6e71-4724-a50a-08d208f79884",
   "metadata": {},
   "outputs": [],
   "source": [
    "73. Remove Duplicates from Array\n",
    "\n",
    "Write a Python program that removes duplicate elements from a given array of numbers so that each element appears only once and returns the new length of the array.\n",
    "Sample Input:\n",
    "[0,0,1,1,2,2,3,3,4,4,4]\n",
    "[1, 2, 2, 3, 4, 4]\n",
    "Sample Output:\n",
    "5\n",
    "4"
   ]
  },
  {
   "cell_type": "code",
   "execution_count": null,
   "id": "60d1d450-1b92-4ee4-ad81-d6b0cadd2858",
   "metadata": {},
   "outputs": [],
   "source": [
    "74. Max Profit from Stocks\n",
    "\n",
    "Write a Python program to calculate the maximum profit from selling and buying values of stock. An array of numbers represent the stock prices in chronological order.\n",
    "For example, given [8, 10, 7, 5, 7, 15], the function will return 10, since the buying value of the stock is 5 dollars and sell value is 15 dollars.\n",
    "Sample Input:\n",
    "([8, 10, 7, 5, 7, 15])\n",
    "([1, 2, 8, 1])\n",
    "([])\n",
    "Sample Output:\n",
    "10\n",
    "7\n",
    "0\n"
   ]
  },
  {
   "cell_type": "code",
   "execution_count": null,
   "id": "8cbafee6-80ca-49e8-b2fc-088ff17252f2",
   "metadata": {},
   "outputs": [],
   "source": [
    "75. Remove Value from Array\n",
    "\n",
    "Write a Python program to remove all instances of a given value from a given array of integers and find the length of the newly created array.\n",
    "Sample Input:\n",
    "([1, 2, 3, 4, 5, 6, 7, 5], 5)\n",
    "([10,10,10,10,10], 10)\n",
    "([10,10,10,10,10], 20)\n",
    "([], 1)\n",
    "Sample Output:\n",
    "6\n",
    "0\n",
    "5\n",
    "0"
   ]
  },
  {
   "cell_type": "code",
   "execution_count": null,
   "id": "6ff22709-cdf7-4a1b-8dfc-b7452e77beae",
   "metadata": {},
   "outputs": [],
   "source": [
    "76. Find Value Range in Array\n",
    "\n",
    "Write a Python program to find the starting and ending position of a given value in an array of integers, sorted in ascending order.\n",
    "If the target is not found in the array, return [-1, 0].\n",
    "Input: [5, 7, 7, 8, 8, 8] target value = 8\n",
    "Output: [3, 5]\n",
    "Input: [1, 3, 6, 9, 13, 14] target value = 4\n",
    "Output: [-1, 0]"
   ]
  },
  {
   "cell_type": "code",
   "execution_count": null,
   "id": "73ba3318-1c75-4269-938f-5680f575f44e",
   "metadata": {},
   "outputs": [],
   "source": [
    "77. Max Stock Profit (One Transaction)\n",
    "\n",
    "The price of a given stock on each day is stored in an array.\n",
    "Write a Python program to find the maximum profit in one transaction i.e., buy one and sell one share of the stock from the given price value of the said array. You cannot sell a stock before you buy one.\n",
    "Input (Stock price of each day): [224, 236, 247, 258, 259, 225]\n",
    "Output: 35\n",
    "Explanation:\n",
    "236 - 224 = 12\n",
    "247 - 224 = 23\n",
    "258 - 224 = 34\n",
    "259 - 224 = 35\n",
    "225 - 224 = 1\n",
    "247 - 236 = 11\n",
    "258 - 236 = 22\n",
    "259 - 236 = 23\n",
    "225 - 236 = -11\n",
    "258 - 247 = 11\n",
    "259 - 247 = 12\n",
    "225 - 247 = -22\n",
    "259 - 258 = 1\n",
    "225 - 258 = -33\n",
    "225 - 259 = -34"
   ]
  },
  {
   "cell_type": "code",
   "execution_count": null,
   "id": "d3e3231d-7d61-4e26-ae03-90617fb52c1f",
   "metadata": {},
   "outputs": [],
   "source": [
    "78. Matrix Forward-Backward Printing\n",
    "\n",
    "Write a Python program to print a given N by M matrix of numbers line by line in forward > backwards > forward >... order.\n",
    "Input matrix:\n",
    "[[1, 2, 3,4],\n",
    "[5, 6, 7, 8],\n",
    "[0, 6, 2, 8],\n",
    "[2, 3, 0, 2]]\n",
    "Output:\n",
    "1\n",
    "2\n",
    "3\n",
    "4\n",
    "8\n",
    "7\n",
    "6\n",
    "5\n",
    "0\n",
    "6\n",
    "2\n",
    "8\n",
    "2\n",
    "0\n",
    "3\n",
    "2"
   ]
  },
  {
   "cell_type": "code",
   "execution_count": null,
   "id": "e17aae3c-1448-4bef-af0e-3bf28f5d2321",
   "metadata": {},
   "outputs": [],
   "source": [
    "79. Largest Product of Three Integers\n",
    "\n",
    "Write a Python program to compute the largest product of three integers from a given list of integers.\n",
    "Sample Input:\n",
    "[-10, -20, 20, 1]\n",
    "[-1, -1, 4, 2, 1]\n",
    "[1, 2, 3, 4, 5, 6]\n",
    "Sample Output:\n",
    "4000\n",
    "8\n",
    "120"
   ]
  },
  {
   "cell_type": "code",
   "execution_count": null,
   "id": "1ec07e14-7a63-4950-b3b0-c3e2a205fb21",
   "metadata": {},
   "outputs": [],
   "source": [
    "80. First Missing Positive Integer\n",
    "\n",
    "Write a Python program to find the first missing positive integer that does not exist in a given list.\n",
    "Sample Input:\n",
    "[2, 3, 7, 6, 8, -1, -10, 15, 16]\n",
    "[1, 2, 4, -7, 6, 8, 1, -10, 15]\n",
    "[1, 2, 3, 4, 5, 6, 7]\n",
    "[-2, -3, -1, 1, 2, 3]\n",
    "Sample Output:\n",
    "4\n",
    "3\n",
    "8\n",
    "4"
   ]
  },
  {
   "cell_type": "code",
   "execution_count": null,
   "id": "aa65163a-22f1-4f9a-ac5e-aa570b61345a",
   "metadata": {},
   "outputs": [],
   "source": [
    "81. Random Even Number Generator\n",
    "\n",
    "Write a Python program to randomly generate a list of 10 even numbers between 1 and 100 inclusive.\n",
    "Note: Use random.sample() to generate a list of random values.\n",
    "Sample Input:\n",
    "(1,100)\n",
    "Sample Output:\n",
    "[4, 22, 8, 20, 24, 12, 30, 98, 28, 48]"
   ]
  },
  {
   "cell_type": "code",
   "execution_count": null,
   "id": "1877dd85-518a-4ec0-95d5-37e6f808524d",
   "metadata": {},
   "outputs": [],
   "source": [
    "82. Calculate Median\n",
    "\n",
    "Write a Python program to calculate the median from a list of numbers.\n",
    "Sample Input:\n",
    "[1,2,3,4,5]\n",
    "[1,2,3,4,5,6]\n",
    "[6,1,2,4,5,3]\n",
    "[1.0,2.11,3.3,4.2,5.22,6.55]\n",
    "[1.0,2.11,3.3,4.2,5.22]\n",
    "[2.0,12.11,22.3,24.12,55.22]\n",
    "Sample Output:\n",
    "3\n",
    "3.5\n",
    "3.5\n",
    "3.75\n",
    "3.3\n",
    "22.3"
   ]
  },
  {
   "cell_type": "code",
   "execution_count": null,
   "id": "3466b96c-f064-483d-8099-441af925952e",
   "metadata": {},
   "outputs": [],
   "source": [
    "83. Symmetrical Number Checker\n",
    "\n",
    "Write a Python program to test whether a given number is symmetrical or not. A number is symmetrical when it is equal to its reverse.\n",
    "A number is symmetrical when it is equal of its reverse.\n",
    "Sample Input:\n",
    "(121)\n",
    "(0)\n",
    "(122)\n",
    "(990099)\n",
    "Sample Output:\n",
    "True\n",
    "True\n",
    "False\n",
    "True"
   ]
  },
  {
   "cell_type": "code",
   "execution_count": null,
   "id": "37316439-961f-4d98-b1d2-c1c12861d5c3",
   "metadata": {},
   "outputs": [],
   "source": [
    "84. Count Negatives and Sum Positives\n",
    "\n",
    "Write a Python program that accepts a list of numbers. Count the negative numbers and compute the sum of the positive numbers of the said list. Return these values through a list.\n",
    "Original list: [1, 2, 3, 4, 5]\n",
    "Number of negative of numbers and sum of the positive numbers of the said list: [0, 15]\n",
    "Original list: [-1, -2, -3, -4, -5]\n",
    "[5, 0]\n",
    "Number of negative of numbers and sum of the positive numbers of the said list: [5, 0]\n",
    "Original list: [1, 2, 3, -4, -5]\n",
    "[2, 6]\n",
    "Number of negative of numbers and sum of the positive numbers of the said list: [2, 6]\n",
    "Original list: [1, 2, -3, -4, -5]\n",
    "[3, 3]\n",
    "Number of negative of numbers and sum of the positive numbers of the said list: [3, 3]"
   ]
  },
  {
   "cell_type": "code",
   "execution_count": null,
   "id": "ac961e30-1dae-4e8b-8f91-365ebf56d258",
   "metadata": {},
   "outputs": [],
   "source": [
    "85. Isogram Checker\n",
    "\n",
    "From Wikipedia:\n",
    "An isogram (also known as a \"nonpattern word\") is a logological term for a word or phrase without a repeating letter. It is also used by some people to mean a word or phrase in which each letter appears the same number of times, not necessarily just once. Conveniently, the word itself is an isogram in both senses of the word, making it autological.\n",
    "Write a Python program to check whether a given string is an \"isogram\" or not.\n",
    "Sample Input:\n",
    "(\"w3resource\")\n",
    "(\"w3r\")\n",
    "(\"Python\")\n",
    "(\"Java\")\n",
    "Sample Output:\n",
    "False\n",
    "True\n",
    "True\n",
    "False"
   ]
  },
  {
   "cell_type": "code",
   "execution_count": null,
   "id": "6d4db7ea-e9f0-435d-903b-1be075c7205a",
   "metadata": {},
   "outputs": [],
   "source": [
    "86. Count Equal Numbers\n",
    "\n",
    "Write a Python program to count the number of equal numbers from three given integers.\n",
    "Sample Input:\n",
    "(1, 1, 1)\n",
    "(1, 2, 2)\n",
    "(-1, -2, -3)\n",
    "(-1, -1, -1)\n",
    "Sample Output:\n",
    "3\n",
    "2\n",
    "0\n",
    "3"
   ]
  },
  {
   "cell_type": "code",
   "execution_count": null,
   "id": "2b199ca2-71a3-4e10-b455-16c56f676687",
   "metadata": {},
   "outputs": [],
   "source": [
    "87. Employee Code Validator\n",
    "\n",
    "Write a Python program to check whether a given employee code is exactly 8 digits or 12 digits. Return True if the employee code is valid and False if it's not.\n",
    "Sample Input:\n",
    "('12345678')\n",
    "('1234567j')\n",
    "('12345678j')\n",
    "('123456789123')\n",
    "('123456abcdef')\n",
    "Sample Output:\n",
    "True\n",
    "False\n",
    "False\n",
    "True\n",
    "False"
   ]
  },
  {
   "cell_type": "code",
   "execution_count": null,
   "id": "5bec500c-e4ce-4b2d-8b03-0206b30f4664",
   "metadata": {},
   "outputs": [],
   "source": [
    "88. Check Second String in First\n",
    "\n",
    "Write a Python program that accepts two strings and determines whether the letters in the second string are present in the first string.\n",
    "Sample Input:\n",
    "[\"python\", \"ypth\"]\n",
    "[\"python\", \"ypths\"]\n",
    "[\"python\", \"ypthon\"]\n",
    "[\"123456\", \"01234\"]\n",
    "[\"123456\", \"1234\"]\n",
    "Sample Output:\n",
    "True\n",
    "False\n",
    "True\n",
    "False\n",
    "True"
   ]
  },
  {
   "cell_type": "code",
   "execution_count": null,
   "id": "a2fdd573-8bd4-4190-9b34-6f7337e62996",
   "metadata": {},
   "outputs": [],
   "source": [
    "89. Sum of Three Lowest Positives\n",
    "\n",
    "Write a Python program to compute the sum of the three lowest positive numbers from a given list of numbers.\n",
    "Original list of numbers: [10, 20, 30, 40, 50, 60, 7]\n",
    "Sum of the three lowest positive numbers of the said array: 37\n",
    "Original list of numbers: [1, 2, 3, 4, 5]\n",
    "Sum of the three lowest positive numbers of the said array: 6\n",
    "Original list of numbers: [0, 1, 2, 3, 4, 5]\n",
    "Sum of the three lowest positive numbers of the said array: 6"
   ]
  },
  {
   "cell_type": "code",
   "execution_count": null,
   "id": "f37829bd-c6f4-48a6-a63f-a3efcdedf8eb",
   "metadata": {},
   "outputs": [],
   "source": [
    "90. Mask All But Last Five Characters\n",
    "\n",
    "Write a Python program that replaces all but the last five characters of a string with \"*\" and returns the modified string.\n",
    "Original String: kdi39323swe\n",
    "new string: ******23swe\n",
    "Original String: 12345abcdef\n",
    "new string: ******bcdef\n",
    "Original String: 12345\n",
    "new string: 12345"
   ]
  },
  {
   "cell_type": "code",
   "execution_count": null,
   "id": "cfe35a3b-0f53-49b7-b079-5b91395faadd",
   "metadata": {},
   "outputs": [],
   "source": [
    "91. Function Argument Counter\n",
    "\n",
    "Write a Python program to count the number of arguments in a given function.\n",
    "Sample Input:\n",
    "()\n",
    "(1)\n",
    "(1, 2)\n",
    "(1, 2, 3)\n",
    "(1, 2, 3, 4)\n",
    "[1, 2, 3, 4]\n",
    "Sample Output:\n",
    "0\n",
    "1\n",
    "2\n",
    "3\n",
    "4\n",
    "1"
   ]
  },
  {
   "cell_type": "code",
   "execution_count": null,
   "id": "19c60cd7-5a8e-4ebf-b79d-76741667d1f5",
   "metadata": {},
   "outputs": [],
   "source": [
    "92. Cumulative Sum of List\n",
    "\n",
    "Write a Python program to compute the cumulative sum of numbers in a given list.\n",
    "Note: Cumulative sum = sum of itself + all previous numbers in the said list.\n",
    "Sample Input:\n",
    "[10, 20, 30, 40, 50, 60, 7]\n",
    "[1, 2, 3, 4, 5]\n",
    "[0, 1, 2, 3, 4, 5]\n",
    "Sample Output:\n",
    "[10, 30, 60, 100, 150, 210, 217]\n",
    "[1, 3, 6, 10, 15]\n",
    "[0, 1, 3, 6, 10, 15]"
   ]
  },
  {
   "cell_type": "code",
   "execution_count": null,
   "id": "fa682d48-ea08-4a23-a20a-adb48744e576",
   "metadata": {},
   "outputs": [],
   "source": [
    "93. Find Middle Character(s)\n",
    "\n",
    "Write a Python program to find the central character(s) of a given string. Return the two middle characters if the length of the string is even. Return the middle character if the length of the string is odd.\n",
    "Original string: Python\n",
    "Middle character(s) of the said string: th\n",
    "Original string: PHP\n",
    "Middle character(s) of the said string: H\n",
    "Original string: Java\n",
    "Middle character(s) of the said string: av"
   ]
  },
  {
   "cell_type": "code",
   "execution_count": null,
   "id": "18d35e49-cb0d-47b4-b8e6-26aad386069c",
   "metadata": {},
   "outputs": [],
   "source": [
    "94. Largest Adjacent Product\n",
    "\n",
    "Write a Python program to find the largest product of a pair of adjacent elements from a given list of integers.\n",
    "Original list: [1, 2, 3, 4, 5, 6]\n",
    "Largest product of the pair of adjacent elements of the said list: 30\n",
    "Original list: [1, 2, 3, 4, 5]\n",
    "Largest product of the pair of adjacent elements of the said list: 20\n",
    "Original list: [2, 3]\n",
    "Largest product of the pair of adjacent elements of the said list: 6"
   ]
  },
  {
   "cell_type": "code",
   "execution_count": null,
   "id": "635a1b15-2845-4f2f-a44b-acada3065d8f",
   "metadata": {},
   "outputs": [],
   "source": [
    "95. Even-Odd Index Checker\n",
    "\n",
    "Write a Python program that checks whether every even index contains an even number and every odd index contains an odd number of a given list.\n",
    "Original list of numbers: [2, 1, 4, 3, 6, 7, 6, 3]\n",
    "Check whether every even index contains an even number and every\n",
    "odd index contains odd number of a given list:\n",
    "True\n",
    "Original list of numbers: [2, 1, 4, 3, 6, 7, 6, 4]\n",
    "Check whether every even index contains an even number and every\n",
    "odd index contains odd number of a given list:\n",
    "False\n",
    "Original list of numbers: [2, 1, 4, 3, 6, 7, 6, 4]\n",
    "Check whether every even index contains an even number and every\n",
    "odd index contains odd number of a given list:\n",
    "True"
   ]
  },
  {
   "cell_type": "code",
   "execution_count": null,
   "id": "21eadfd6-48f0-4301-b488-3034f138024c",
   "metadata": {},
   "outputs": [],
   "source": [
    "97. Highest and Lowest in String\n",
    "\n",
    "Write a Python program to find the highest and lowest number from a given string of space-separated integers.\n",
    "Original string: 1 4 5 77 9 0\n",
    "Highest and lowest number of the said string: (77, 0)\n",
    "Original string: -1 -4 -5 -77 -9 0\n",
    "Highest and lowest number of the said string: (0, -77)\n",
    "Original string: 0 0\n",
    "Highest and lowest number of the said string: (0, 0)"
   ]
  },
  {
   "cell_type": "code",
   "execution_count": null,
   "id": "cc3c50be-7f1b-47de-89be-c3525ba87441",
   "metadata": {},
   "outputs": [],
   "source": [
    "98. Check Increasing Trend\n",
    "\n",
    "Write a Python program to check whether a sequence of numbers has an increasing trend or not.\n",
    "Sample Input:\n",
    "[1,2,3,4]\n",
    "[1,2,5,3,4]\n",
    "[-1,-2,-3,-4]\n",
    "[-4,-3,-2,-1]\n",
    "[1,2,3,4,0]\n",
    "Sample Output:\n",
    "True\n",
    "False\n",
    "False\n",
    "True\n",
    "False"
   ]
  },
  {
   "cell_type": "code",
   "execution_count": null,
   "id": "d97bd4c4-b069-4f4c-a051-ca8bf8fee5f1",
   "metadata": {},
   "outputs": [],
   "source": [
    "99. Second Occurrence Position\n",
    "\n",
    "Write a Python program to find the position of the second occurrence of a given string in another given string. If there is no such string return -1.\n",
    "Sample Input:\n",
    "(\"The quick brown fox jumps over the lazy dog\", \"the\")\n",
    "(\"the quick brown fox jumps over the lazy dog\", \"the\")\n",
    "Sample Output:\n",
    "-1\n",
    "31"
   ]
  },
  {
   "cell_type": "code",
   "execution_count": null,
   "id": "2b09c904-ecc2-4c55-ad2e-b3fb2682cc41",
   "metadata": {},
   "outputs": [],
   "source": [
    "100. Sum of Items Weighted by Index\n",
    "\n",
    "Write a Python program to compute the sum of all items in a given array of integers where each integer is multiplied by its index. Return 0 if there is no number.\n",
    "Sample Input:\n",
    "[1,2,3,4]\n",
    "[-1,-2,-3,-4]\n",
    "[]\n",
    "Sample Output:\n",
    "20\n",
    "-20\n",
    "0"
   ]
  },
  {
   "cell_type": "code",
   "execution_count": null,
   "id": "5c9598fa-af7c-46a4-8375-e31613f0fa31",
   "metadata": {},
   "outputs": [],
   "source": []
  },
  {
   "cell_type": "code",
   "execution_count": null,
   "id": "93082f54-5ba7-4541-896e-eba8b3aa6c4f",
   "metadata": {},
   "outputs": [],
   "source": []
  },
  {
   "cell_type": "code",
   "execution_count": null,
   "id": "e37fd8c3-b0ec-47e2-8e13-e66286ed1da8",
   "metadata": {},
   "outputs": [],
   "source": []
  },
  {
   "cell_type": "code",
   "execution_count": null,
   "id": "751f19da-ae7c-45de-84b8-5cfa5a38cf0d",
   "metadata": {},
   "outputs": [],
   "source": []
  },
  {
   "cell_type": "code",
   "execution_count": null,
   "id": "112c6094-8f2a-46d3-b125-c09e51c9bd17",
   "metadata": {},
   "outputs": [],
   "source": []
  },
  {
   "cell_type": "code",
   "execution_count": null,
   "id": "108840bd-617a-49a3-832d-e8059df02b7d",
   "metadata": {},
   "outputs": [],
   "source": []
  },
  {
   "cell_type": "code",
   "execution_count": null,
   "id": "d995b86f-3c34-40cc-b217-b93f97969f3c",
   "metadata": {},
   "outputs": [],
   "source": []
  },
  {
   "cell_type": "code",
   "execution_count": null,
   "id": "97a7ebea-8a4d-40d5-86dd-7ac7f1ee2541",
   "metadata": {},
   "outputs": [],
   "source": []
  }
 ],
 "metadata": {
  "kernelspec": {
   "display_name": "Python 3 (ipykernel)",
   "language": "python",
   "name": "python3"
  },
  "language_info": {
   "codemirror_mode": {
    "name": "ipython",
    "version": 3
   },
   "file_extension": ".py",
   "mimetype": "text/x-python",
   "name": "python",
   "nbconvert_exporter": "python",
   "pygments_lexer": "ipython3",
   "version": "3.9.13"
  }
 },
 "nbformat": 4,
 "nbformat_minor": 5
}
