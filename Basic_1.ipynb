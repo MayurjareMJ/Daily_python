{
 "cells": [
  {
   "cell_type": "markdown",
   "id": "48de59a9-d6cb-433d-95d1-937566baebff",
   "metadata": {},
   "source": [
    "## HERE ARE 150 PYTHON BASIC QUESTION"
   ]
  },
  {
   "cell_type": "raw",
   "id": "419748b6-d0f3-4a9c-8e25-c12d0a7804c3",
   "metadata": {},
   "source": [
    "I have give multiple solution for some problems"
   ]
  },
  {
   "cell_type": "markdown",
   "id": "80db52cb",
   "metadata": {},
   "source": [
    "## 1. Formatted Twinkle Poem\n"
   ]
  },
  {
   "cell_type": "code",
   "execution_count": 2,
   "id": "17b173a6-11b6-4131-a4e6-1da788a7c202",
   "metadata": {},
   "outputs": [
    {
     "name": "stdout",
     "output_type": "stream",
     "text": [
      "Twinkle, twinkle, little star,\n",
      "\tHow I wonder what you are!\n",
      "\t Up above the world so high,\n",
      "\t Like a diamond in the sky.\n",
      " Twinkle, twinkle, little star,\n",
      "\t How I wonder what you are\n"
     ]
    }
   ],
   "source": [
    "print('Twinkle, twinkle, little star,\\n\\tHow I wonder what you are!\\n\\t Up above the world so high,\\n\\t Like a diamond in the sky.\\n Twinkle, twinkle, little star,\\n\\t How I wonder what you are')\n"
   ]
  },
  {
   "cell_type": "markdown",
   "id": "dc575472-488f-4eec-ae0f-5017ebb0c52f",
   "metadata": {},
   "source": [
    "## 2. Python Version Checker\n"
   ]
  },
  {
   "cell_type": "code",
   "execution_count": 3,
   "id": "99813fd4-1634-43b9-bf3c-fb86be20ab8c",
   "metadata": {},
   "outputs": [
    {
     "name": "stdout",
     "output_type": "stream",
     "text": [
      "Version 3.9.13 (tags/v3.9.13:6de2ca5, May 17 2022, 16:36:42) [MSC v.1929 64 bit (AMD64)]\n",
      "Version Info sys.version_info(major=3, minor=9, micro=13, releaselevel='final', serial=0)\n"
     ]
    }
   ],
   "source": [
    "import sys\n",
    "\n",
    "print(\"Version\",sys.version)\n",
    "\n",
    "print(\"Version Info\" ,sys.version_info)"
   ]
  },
  {
   "cell_type": "code",
   "execution_count": 4,
   "id": "c4b09c2f-3323-4694-a60d-4acf4f7d33c6",
   "metadata": {},
   "outputs": [],
   "source": [
    "#help(sys)\n",
    "#dir(sys)"
   ]
  },
  {
   "cell_type": "code",
   "execution_count": 5,
   "id": "164b28da-46a9-4c6b-9d3f-048853ad712f",
   "metadata": {},
   "outputs": [
    {
     "name": "stdout",
     "output_type": "stream",
     "text": [
      "C:\\Program Files\\WindowsApps\\PythonSoftwareFoundation.Python.3.9_3.9.3568.0_x64__qbz5n2kfra8p0\\python39.zip\n",
      "C:\\Program Files\\WindowsApps\\PythonSoftwareFoundation.Python.3.9_3.9.3568.0_x64__qbz5n2kfra8p0\\DLLs\n",
      "C:\\Program Files\\WindowsApps\\PythonSoftwareFoundation.Python.3.9_3.9.3568.0_x64__qbz5n2kfra8p0\\lib\n",
      "C:\\Users\\91935\\AppData\\Local\\Microsoft\\WindowsApps\\PythonSoftwareFoundation.Python.3.9_qbz5n2kfra8p0\n",
      "\n",
      "C:\\Users\\91935\\AppData\\Local\\Packages\\PythonSoftwareFoundation.Python.3.9_qbz5n2kfra8p0\\LocalCache\\local-packages\\Python39\\site-packages\n",
      "C:\\Users\\91935\\AppData\\Local\\Packages\\PythonSoftwareFoundation.Python.3.9_qbz5n2kfra8p0\\LocalCache\\local-packages\\Python39\\site-packages\\win32\n",
      "C:\\Users\\91935\\AppData\\Local\\Packages\\PythonSoftwareFoundation.Python.3.9_qbz5n2kfra8p0\\LocalCache\\local-packages\\Python39\\site-packages\\win32\\lib\n",
      "C:\\Users\\91935\\AppData\\Local\\Packages\\PythonSoftwareFoundation.Python.3.9_qbz5n2kfra8p0\\LocalCache\\local-packages\\Python39\\site-packages\\Pythonwin\n",
      "C:\\Program Files\\WindowsApps\\PythonSoftwareFoundation.Python.3.9_3.9.3568.0_x64__qbz5n2kfra8p0\n",
      "C:\\Program Files\\WindowsApps\\PythonSoftwareFoundation.Python.3.9_3.9.3568.0_x64__qbz5n2kfra8p0\\lib\\site-packages\n"
     ]
    }
   ],
   "source": [
    "for i in sys.path:\n",
    "    print(i)"
   ]
  },
  {
   "cell_type": "code",
   "execution_count": 6,
   "id": "ee4ec8ea-e65f-4be1-be6a-a814811a9bc5",
   "metadata": {},
   "outputs": [
    {
     "name": "stdout",
     "output_type": "stream",
     "text": [
      "✅ Python version is sufficient: 3.9.13\n"
     ]
    }
   ],
   "source": [
    "#Write a script to compare the installed Python version with a required minimum version and print a warning if it's outdated.\n",
    "\n",
    "import sys\n",
    "\n",
    "# Define the minimum required Python version (e.g., Python 3.8)\n",
    "MINIMUM_VERSION = (3, 8)\n",
    "\n",
    "def check_python_version():\n",
    "    current_version = sys.version_info[:3]\n",
    "    if current_version < MINIMUM_VERSION:\n",
    "        print(f\"⚠️ Warning: Your Python version is {current_version[0]}.{current_version[1]}.{current_version[2]}.\")\n",
    "        print(f\"Please upgrade to at least Python {MINIMUM_VERSION[0]}.{MINIMUM_VERSION[1]} for optimal performance.\")\n",
    "    else:\n",
    "        print(f\"✅ Python version is sufficient: {current_version[0]}.{current_version[1]}.{current_version[2]}\")\n",
    "\n",
    "if __name__ == \"__main__\":\n",
    "    check_python_version()\n"
   ]
  },
  {
   "cell_type": "markdown",
   "id": "67acea77-cfc7-4a83-8054-348b47a79b86",
   "metadata": {},
   "source": [
    "## 3. Current DateTime Display\n"
   ]
  },
  {
   "cell_type": "code",
   "execution_count": 7,
   "id": "d57c8ff5-13ad-4f95-8f5e-73bfeacf7d22",
   "metadata": {},
   "outputs": [],
   "source": [
    "# #Write a Python program to display the current date and time.\n",
    "# #Sample Output :\n",
    "# Current date and time :\n",
    "# 2014-07-05 14:34:14"
   ]
  },
  {
   "cell_type": "code",
   "execution_count": 8,
   "id": "60c936a7-f0ca-4dbf-a1a0-0cae5dca7a7a",
   "metadata": {},
   "outputs": [
    {
     "name": "stdout",
     "output_type": "stream",
     "text": [
      "2025-05-17 18:01:09.408389\n",
      "2025:01:17\n"
     ]
    }
   ],
   "source": [
    "import datetime\n",
    "time=datetime.datetime.now()\n",
    "x=time.strftime(\"%Y\")\n",
    "x=time.strftime(\"%Y:%M:%d\")\n",
    "print(time)\n",
    "print(x)"
   ]
  },
  {
   "cell_type": "code",
   "execution_count": 9,
   "id": "9fec757a-86f9-4ea9-b3dd-2d2f2008feed",
   "metadata": {},
   "outputs": [],
   "source": [
    "# #%Y - year [0001,..., 2018, 2019,..., 9999\n",
    "\n",
    "# %m - month [01, 02, ..., 11, 12]\n",
    "\n",
    "# %d - day [01, 02, ..., 30, 31]\n",
    "\n",
    "# %H - hour [00, 01, ..., 22, 23\n",
    "\n",
    "\n",
    "# %M - minutes [00, 01, ..., 58, 59]\n",
    "\n",
    "# %S - second [00, 01, ..., 58, 61]"
   ]
  },
  {
   "cell_type": "markdown",
   "id": "afb08384-9b39-4c8b-9d48-a8aea5a97cdb",
   "metadata": {},
   "source": [
    "## 4. Circle Area Calculator\n",
    "\n"
   ]
  },
  {
   "cell_type": "code",
   "execution_count": 10,
   "id": "fece6cb7-ed00-4abb-93b1-36c5872b52c8",
   "metadata": {},
   "outputs": [],
   "source": [
    "# Write a Python program that calculates the area of a circle based on the radius entered by the user.\n",
    "# Sample Output :\n",
    "# r = 1.1\n",
    "# Area = 3.8013271108436504"
   ]
  },
  {
   "cell_type": "code",
   "execution_count": 11,
   "id": "68e3aa1e-52bd-4c18-beb0-649049437422",
   "metadata": {},
   "outputs": [
    {
     "name": "stdout",
     "output_type": "stream",
     "text": [
      "Area is1.1 is :  3.8028571428571434\n"
     ]
    }
   ],
   "source": [
    "r=1.1\n",
    "#Area of circle is A=pir*2\n",
    "area=(22/7)*(r*r)\n",
    "print(f\"Area is{r} is : \", area)"
   ]
  },
  {
   "cell_type": "code",
   "execution_count": 12,
   "id": "a7e54e43-6f67-45e7-acfb-c5e6d7f7fc47",
   "metadata": {},
   "outputs": [
    {
     "data": {
      "text/plain": [
       "3.8013271108436504"
      ]
     },
     "execution_count": 12,
     "metadata": {},
     "output_type": "execute_result"
    }
   ],
   "source": [
    "#import math as m\n",
    "from math import pi\n",
    "#dir(math)\n",
    "#area=(m.pi)*(r*r)\n",
    "area=pi*r**2\n",
    "\n",
    "area"
   ]
  },
  {
   "cell_type": "markdown",
   "id": "7d013209-e00f-4b7e-8fa2-5c4eeb2bc0ab",
   "metadata": {},
   "source": [
    "## 5. Reverse Full Name\n",
    "\n"
   ]
  },
  {
   "cell_type": "code",
   "execution_count": 14,
   "id": "9392f57d-ddb0-409d-a97a-c8eec4a54283",
   "metadata": {},
   "outputs": [
    {
     "name": "stdout",
     "output_type": "stream",
     "text": [
      "Enter name mayur\n",
      "Lname jare\n"
     ]
    },
    {
     "name": "stdout",
     "output_type": "stream",
     "text": [
      "jare mayur\n"
     ]
    },
    {
     "name": "stdout",
     "output_type": "stream",
     "text": [
      "jare mayur\n"
     ]
    }
   ],
   "source": [
    "#Write a Python program that accepts the user's first and last name and prints them in reverse order with a space between them.\n",
    "fname=input(\"Enter name\")\n",
    "lname=input(\"Lname\")\n",
    "print(f\"{lname} {fname}\")"
   ]
  },
  {
   "cell_type": "code",
   "execution_count": 15,
   "id": "c4d75495-5477-46c0-858f-f26a102260c2",
   "metadata": {},
   "outputs": [
    {
     "data": {
      "text/plain": [
       "' Jare Mayur '"
      ]
     },
     "execution_count": 15,
     "metadata": {},
     "output_type": "execute_result"
    }
   ],
   "source": [
    "txt=\" {b} {a} \".format(a=\"Mayur\",b=\"Jare\")\n",
    "txt"
   ]
  },
  {
   "cell_type": "markdown",
   "id": "e3b0e1a6-1036-4e52-ac99-ba94bca0991c",
   "metadata": {},
   "source": [
    "## 6. List and Tuple Generator\n",
    "\n"
   ]
  },
  {
   "cell_type": "code",
   "execution_count": 16,
   "id": "c546d00d-6deb-48d0-af29-3e1e16d4d2ef",
   "metadata": {},
   "outputs": [],
   "source": [
    "# Write a Python program that accepts a sequence of comma-separated numbers from the user and generates a list and a tuple of those numbers.\n",
    "# Sample data : 3, 5, 7, 23\n",
    "# Output :\n",
    "# List : ['3', ' 5', ' 7', ' 23']\n",
    "# Tuple : ('3', ' 5', ' 7', ' 23')"
   ]
  },
  {
   "cell_type": "code",
   "execution_count": 18,
   "id": "cf724eb2-76b4-4829-b00d-4f3d06617e13",
   "metadata": {},
   "outputs": [
    {
     "name": "stdout",
     "output_type": "stream",
     "text": [
      "Enter numbers comma seperated 2,3\n"
     ]
    },
    {
     "name": "stdout",
     "output_type": "stream",
     "text": [
      "list :  ['2', '3']\n",
      " tuple  : ('2', '3')\n"
     ]
    },
    {
     "name": "stdout",
     "output_type": "stream",
     "text": [
      "list :  ['1', '2', '3', '4', '5']\n",
      " tuple  : ('1', '2', '3', '4', '5')\n"
     ]
    }
   ],
   "source": [
    "user=input(\"Enter numbers comma seperated\")\n",
    "list1=user.split(\",\")\n",
    "print(\"list : \" ,list(list1))\n",
    "print(\" tuple  :\" ,tuple(list1))"
   ]
  },
  {
   "cell_type": "markdown",
   "id": "d4fa8b2e-e6d3-41bd-bd0b-e59a08f6edc7",
   "metadata": {},
   "source": [
    "## 7. File Extension Extractor\n"
   ]
  },
  {
   "cell_type": "code",
   "execution_count": 19,
   "id": "cda52abf-bbb1-4e97-87b3-416a8642ed69",
   "metadata": {},
   "outputs": [],
   "source": [
    "# Write a Python program that accepts a filename from the user and prints the extension of the file.\n",
    "# Sample filename : abc.java\n",
    "# Output : java\n"
   ]
  },
  {
   "cell_type": "code",
   "execution_count": 20,
   "id": "b12b751a-d68b-43c7-b439-f391a36cd70b",
   "metadata": {},
   "outputs": [
    {
     "name": "stdout",
     "output_type": "stream",
     "text": [
      "Enter file name app.py\n"
     ]
    },
    {
     "name": "stdout",
     "output_type": "stream",
     "text": [
      "The file Extension is : py\n"
     ]
    },
    {
     "name": "stdout",
     "output_type": "stream",
     "text": [
      "The file Extension is : ipyb\n"
     ]
    }
   ],
   "source": [
    "user=input(\"Enter file name\")\n",
    "ex=user.split(\".\")\n",
    "print(\"The file Extension is :\" ,ex[-1])"
   ]
  },
  {
   "cell_type": "markdown",
   "id": "4fa83331-7151-4bbc-82ea-3fa7e3fba876",
   "metadata": {},
   "source": [
    "## 8. First and Last Colors\n"
   ]
  },
  {
   "cell_type": "code",
   "execution_count": 21,
   "id": "a786d86b-8665-4115-b849-75dd4be2d129",
   "metadata": {},
   "outputs": [],
   "source": [
    "# Write a Python program to display the first and last colors from the following list.\n",
    "# color_list = [\"Red\",\"Green\",\"White\" ,\"Black\"]"
   ]
  },
  {
   "cell_type": "code",
   "execution_count": 22,
   "id": "cc0063ca-46a1-4e58-8d19-1bf651bf9130",
   "metadata": {},
   "outputs": [
    {
     "name": "stdout",
     "output_type": "stream",
     "text": [
      "Black Green\n",
      "Black Green\n"
     ]
    }
   ],
   "source": [
    "color_list = [\"Red\",\"Green\",\"White\" ,\"Black\"]\n",
    "l=len(color_list)-1\n",
    "print(color_list[l] ,color_list[1])\n",
    "print(\"%s %s\" %(color_list[l],color_list[1]))"
   ]
  },
  {
   "cell_type": "markdown",
   "id": "5fe98a46-c8df-4e38-bac5-0d15ab24b211",
   "metadata": {},
   "source": [
    "## 9. Exam Schedule Formatter\n"
   ]
  },
  {
   "cell_type": "code",
   "execution_count": 23,
   "id": "40735b67-94c7-4f19-a32c-8a087eb29aa4",
   "metadata": {},
   "outputs": [],
   "source": [
    "# Write a Python program to display the examination schedule. (extract the date from exam_st_date).\n",
    "# exam_st_date = (11, 12, 2014)\n",
    "# Sample Output : The examination will start from : 11 / 12 / 2014"
   ]
  },
  {
   "cell_type": "code",
   "execution_count": 24,
   "id": "3798cb5b-b9fb-4639-b952-a23a6de1e1a9",
   "metadata": {},
   "outputs": [
    {
     "name": "stdout",
     "output_type": "stream",
     "text": [
      "The examination will start from : 11 / 12 / 2014\n"
     ]
    }
   ],
   "source": [
    "exam_st_date = (11, 12, 2014)\n",
    "print(\"The examination will start from : %d / %d / %d\" %(exam_st_date))"
   ]
  },
  {
   "cell_type": "markdown",
   "id": "b1734bac-f30a-4333-a15c-86647443d452",
   "metadata": {},
   "source": [
    "## 10. Number Expansion Calculator\n"
   ]
  },
  {
   "cell_type": "code",
   "execution_count": 25,
   "id": "7b3107db-e829-4a1d-8ffe-1abba21e1ff8",
   "metadata": {},
   "outputs": [],
   "source": [
    "# Write a Python program that accepts an integer (n) and computes the value of n+nn+nnn.\n",
    "# Sample value of n is 5\n",
    "# Expected Result : 615"
   ]
  },
  {
   "cell_type": "code",
   "execution_count": 26,
   "id": "5462d0be-7aa5-494e-b00a-8f655447452c",
   "metadata": {},
   "outputs": [],
   "source": [
    "# a=int(5)\n",
    "# n1=int(a)\n",
    "# n2=int(a)\n",
    "# n3=int(a,a,a)\n",
    "# print(n1+n2+n3)"
   ]
  },
  {
   "cell_type": "markdown",
   "id": "cdf0d34e-43e1-4acf-ad46-4e3de5b35aed",
   "metadata": {},
   "source": [
    "## 11. Function Documentation Printer"
   ]
  },
  {
   "cell_type": "code",
   "execution_count": 27,
   "id": "7120494b-b9b6-4e5a-a860-eeeaaf80eaf3",
   "metadata": {},
   "outputs": [],
   "source": [
    "# Write a Python program to print the documents (syntax, description etc.) of Python built-in function(s).\n",
    "# Sample function : abs()\n",
    "# Expected Result :\n",
    "# abs(number) -> number\n",
    "# Return the absolute value of the argument."
   ]
  },
  {
   "cell_type": "code",
   "execution_count": 28,
   "id": "7b526eb4-d09d-4356-9135-4b3427a567dc",
   "metadata": {},
   "outputs": [
    {
     "name": "stdout",
     "output_type": "stream",
     "text": [
      "Return the absolute value of the argument.\n",
      "Return the number of items in a container.\n"
     ]
    }
   ],
   "source": [
    "print(abs.__doc__)\n",
    "print(len.__doc__)"
   ]
  },
  {
   "cell_type": "code",
   "execution_count": 30,
   "id": "9d366494-d327-4b6b-aec8-3791f7e226cb",
   "metadata": {},
   "outputs": [
    {
     "name": "stdout",
     "output_type": "stream",
     "text": [
      "Enter mayur\n"
     ]
    },
    {
     "name": "stdout",
     "output_type": "stream",
     "text": [
      "str(object='') -> str\n",
      "str(bytes_or_buffer[, encoding[, errors]]) -> str\n",
      "\n",
      "Create a new string object from the given object. If encoding or\n",
      "errors is specified, then the object must expose a data buffer\n",
      "that will be decoded using the given encoding and error handler.\n",
      "Otherwise, returns the result of object.__str__() (if defined)\n",
      "or repr(object).\n",
      "encoding defaults to sys.getdefaultencoding().\n",
      "errors defaults to 'strict'.\n",
      "Return the number of items in a container.\n"
     ]
    },
    {
     "name": "stdout",
     "output_type": "stream",
     "text": [
      "str(object='') -> str\n",
      "str(bytes_or_buffer[, encoding[, errors]]) -> str\n",
      "\n",
      "Create a new string object from the given object. If encoding or\n",
      "errors is specified, then the object must expose a data buffer\n",
      "that will be decoded using the given encoding and error handler.\n",
      "Otherwise, returns the result of object.__str__() (if defined)\n",
      "or repr(object).\n",
      "encoding defaults to sys.getdefaultencoding().\n",
      "errors defaults to 'strict'.\n",
      "Return the number of items in a container.\n"
     ]
    }
   ],
   "source": [
    "#Write a Python program to print the documentation of any built-in function entered by the user.\n",
    "user=input(\"Enter\" )\n",
    "print(user.__doc__)\n",
    "print(len.__doc__)"
   ]
  },
  {
   "cell_type": "markdown",
   "id": "a9bf7d63-552f-43c9-91da-7f02671fd225",
   "metadata": {},
   "source": [
    "## 12. Monthly Calendar Display"
   ]
  },
  {
   "cell_type": "code",
   "execution_count": 31,
   "id": "3f93cc4c-1ecd-478d-b94f-071d071e073d",
   "metadata": {},
   "outputs": [],
   "source": [
    "# Write a Python program that prints the calendar for a given month and year.\n",
    "# Note : Use 'calendar' module.\n"
   ]
  },
  {
   "cell_type": "code",
   "execution_count": 34,
   "id": "bed420a1-1c48-46f1-a791-b79026ae1d41",
   "metadata": {},
   "outputs": [
    {
     "name": "stdout",
     "output_type": "stream",
     "text": [
      "     April 2025\n",
      "Mo Tu We Th Fr Sa Su\n",
      "    1  2  3  4  5  6\n",
      " 7  8  9 10 11 12 13\n",
      "14 15 16 17 18 19 20\n",
      "21 22 23 24 25 26 27\n",
      "28 29 30\n",
      "\n"
     ]
    }
   ],
   "source": [
    "import calendar as ca\n",
    "#dir(ca)\n",
    "#ca.__doc__\n",
    "a=ca.calendar(2025,4)\n",
    "b=ca.month(2025,4)\n",
    "c=ca.month(theyear=2025,themonth=4,w=1,l=1)\n",
    "\n",
    "print(c)\n"
   ]
  },
  {
   "cell_type": "markdown",
   "id": "22024ff4-30d6-4f37-9c11-2a7c17fff8fd",
   "metadata": {},
   "source": [
    "## 13. Multi-line Here Document"
   ]
  },
  {
   "cell_type": "code",
   "execution_count": 35,
   "id": "8acce418-4dc7-49e6-b238-5baf5e2440e5",
   "metadata": {},
   "outputs": [],
   "source": [
    "# Write a Python program to print the following 'here document'.\n",
    "# Sample string :\n",
    "# a string that you \"don't\" have to escape\n",
    "# This\n",
    "# is a ....... multi-line\n",
    "# heredoc string --------> example"
   ]
  },
  {
   "cell_type": "code",
   "execution_count": 36,
   "id": "6b3c0d11-9743-4ad0-90cd-c2ddaabb05b1",
   "metadata": {},
   "outputs": [
    {
     "name": "stdout",
     "output_type": "stream",
     "text": [
      "\n",
      " a string that you \"don't\" have to escape\n",
      " This\n",
      " is a ....... multi-line\n",
      " heredoc string --------> example\n",
      "\n"
     ]
    }
   ],
   "source": [
    "print('''\n",
    " a string that you \"don't\" have to escape\n",
    " This\n",
    " is a ....... multi-line\n",
    " heredoc string --------> example\n",
    "''')"
   ]
  },
  {
   "cell_type": "markdown",
   "id": "c758265a-189d-45d1-8f94-f4a8a73da8c6",
   "metadata": {},
   "source": [
    "## 14. Days Between Dates"
   ]
  },
  {
   "cell_type": "code",
   "execution_count": 37,
   "id": "6fe92db2-5c2b-49d6-a987-9c3e92f1f6ec",
   "metadata": {},
   "outputs": [],
   "source": [
    "# Write a Python program to calculate the number of days between two dates.\n",
    "# Sample dates : (2014, 7, 2), (2014, 7, 11)\n",
    "# Expected output : 9 days"
   ]
  },
  {
   "cell_type": "code",
   "execution_count": 38,
   "id": "c1ebe14a-9b4e-43a5-8deb-de8e4a21a7de",
   "metadata": {},
   "outputs": [],
   "source": [
    "import calendar\n",
    "date1=1\n",
    "\n",
    "date2=2"
   ]
  },
  {
   "cell_type": "markdown",
   "id": "6022848d-8bd5-40f9-a37c-337c0c14f4da",
   "metadata": {},
   "source": [
    "## 15. Sphere Volume Calculator\n"
   ]
  },
  {
   "cell_type": "code",
   "execution_count": 39,
   "id": "cc3557a4-0e78-4632-9eda-2ee74421ba97",
   "metadata": {},
   "outputs": [],
   "source": [
    "# Write a Python program to get the volume of a sphere with radius six."
   ]
  },
  {
   "cell_type": "code",
   "execution_count": 40,
   "id": "327c8e77-8cc6-44ba-bd4d-b2df9815ee34",
   "metadata": {},
   "outputs": [
    {
     "name": "stdout",
     "output_type": "stream",
     "text": [
      "Volume of the sphere is 904.7786842338603\n"
     ]
    }
   ],
   "source": [
    "#V = 4/3 π r³\n",
    "from math import pi\n",
    "r=6\n",
    "v=4/3*pi*r**3\n",
    "print(\"Volume of the sphere is\" ,v)"
   ]
  },
  {
   "cell_type": "markdown",
   "id": "85546f63-7eee-463d-8e50-92ca8f6ec49a",
   "metadata": {},
   "source": [
    "## 16. Difference from 17\n",
    "\n"
   ]
  },
  {
   "cell_type": "code",
   "execution_count": 41,
   "id": "bb259d70-c45f-49a6-86d9-4a2df505a3d8",
   "metadata": {},
   "outputs": [
    {
     "name": "stdout",
     "output_type": "stream",
     "text": [
      "10\n",
      "3\n"
     ]
    }
   ],
   "source": [
    "#Write a Python program to calculate the difference between a given number and 17. \n",
    "#If the number is greater than 17, return twice the absolute difference.\n",
    "\n",
    "#The absolute difference between 7 and 3 is 4 (7 - 3 = 4).\n",
    "#The absolute difference is always positive or zero.\n",
    "def differnce(n):\n",
    "    if n<=17:\n",
    "        return 17-n\n",
    "    else:\n",
    "        return (n-17)*2\n",
    "print(differnce(22))\n",
    "print(differnce(14))"
   ]
  },
  {
   "cell_type": "markdown",
   "id": "08d5e0b4-5904-4b1b-82c4-e7a880cdd436",
   "metadata": {},
   "source": [
    "## 17. Number Range Tester\n",
    "\n"
   ]
  },
  {
   "cell_type": "code",
   "execution_count": 42,
   "id": "049e3303-124b-4974-8def-2cb1533fbef8",
   "metadata": {},
   "outputs": [
    {
     "name": "stdout",
     "output_type": "stream",
     "text": [
      "Entr no 133\n"
     ]
    },
    {
     "name": "stdout",
     "output_type": "stream",
     "text": [
      "False\n"
     ]
    },
    {
     "name": "stdout",
     "output_type": "stream",
     "text": [
      "False\n"
     ]
    }
   ],
   "source": [
    "#Write a Python program to test whether a number is within 100 of 1000 or 2000.\n",
    "n=int(input(\"Entr no\"))\n",
    "\n",
    "if (1000-n<=100) or (2000-n<=100):\n",
    "    print(True)\n",
    "else:\n",
    "    print(False)"
   ]
  },
  {
   "cell_type": "markdown",
   "id": "9d844896-a97a-4f73-a089-862be2c8188e",
   "metadata": {},
   "source": [
    "## 18. Triple Sum Calculator\n",
    "\n"
   ]
  },
  {
   "cell_type": "code",
   "execution_count": 44,
   "id": "60b77545-b9da-4705-8920-c8ad8e2f0500",
   "metadata": {},
   "outputs": [
    {
     "name": "stdout",
     "output_type": "stream",
     "text": [
      "Enter no 2,3,4\n"
     ]
    },
    {
     "name": "stdout",
     "output_type": "stream",
     "text": [
      "9\n"
     ]
    },
    {
     "name": "stdout",
     "output_type": "stream",
     "text": [
      "27\n"
     ]
    }
   ],
   "source": [
    "#Write a Python program to calculate the sum of three given numbers. \n",
    "#If the values are equal, return three times their sum.\n",
    "#a,b,c=int(input(\"Enter no\")).split(\",\")\n",
    "a,b,c=input(\"Enter no\").split(\",\")\n",
    "if a==b==c:\n",
    "    print(add*3)\n",
    "else:\n",
    "    print(int(a)+int(b)+int(c))"
   ]
  },
  {
   "cell_type": "code",
   "execution_count": 45,
   "id": "04695381-45c7-4b37-921a-53096cbe1ca3",
   "metadata": {},
   "outputs": [
    {
     "name": "stdout",
     "output_type": "stream",
     "text": [
      "27\n",
      "9\n"
     ]
    }
   ],
   "source": [
    "def sum_thrice(a,b,c):\n",
    "    sums=a+b+c\n",
    "\n",
    "    if a==b==c:\n",
    "        return sums*3\n",
    "    else:\n",
    "        return sums\n",
    "print(sum_thrice(3,3,3))\n",
    "print(sum_thrice(2,3,4))"
   ]
  },
  {
   "cell_type": "markdown",
   "id": "edc1db43-ba07-4441-9d87-9281ba913210",
   "metadata": {},
   "source": [
    "## 19. Prefix \"Is\" String Modifier"
   ]
  },
  {
   "cell_type": "code",
   "execution_count": 46,
   "id": "db80b12b-5598-4e3c-a874-527c2d47a3fc",
   "metadata": {},
   "outputs": [],
   "source": [
    "#Write a Python program to get a newly-generated string from a given string where \"Is\" has been added to the front. \n",
    "#Return the string unchanged if the given string already begins with \"Is\".\n"
   ]
  },
  {
   "cell_type": "code",
   "execution_count": 47,
   "id": "045f945d-6e19-4650-aaad-35f752931ad3",
   "metadata": {},
   "outputs": [
    {
     "name": "stdout",
     "output_type": "stream",
     "text": [
      " Isis mayur\n"
     ]
    }
   ],
   "source": [
    "a=\"is mayur\"\n",
    "if \"Is\" in a:\n",
    "    print(a)\n",
    "elif \"Is\" not in a:\n",
    "    print(f\" Is{a}\")"
   ]
  },
  {
   "cell_type": "code",
   "execution_count": 48,
   "id": "45ab9034-e549-4288-84e2-45431623e5eb",
   "metadata": {},
   "outputs": [
    {
     "name": "stdout",
     "output_type": "stream",
     "text": [
      " Is mayur\n"
     ]
    }
   ],
   "source": [
    "def prefix(a):\n",
    "    if \"Is\" in a:\n",
    "        print(a)\n",
    "    elif \"Is\" not in a:\n",
    "        print(f\" Is{a}\")\n",
    "a=\" mayur\"\n",
    "prefix(a)"
   ]
  },
  {
   "cell_type": "code",
   "execution_count": 49,
   "id": "882423c0-41cf-4f75-8b38-0cbf25c353a7",
   "metadata": {},
   "outputs": [
    {
     "data": {
      "text/plain": [
       "'Is mayur'"
      ]
     },
     "execution_count": 49,
     "metadata": {},
     "output_type": "execute_result"
    }
   ],
   "source": [
    "def is_str(text):\n",
    "    if len(text)>=2 and text[:2]==\"Is\":\n",
    "        return text\n",
    "    else:\n",
    "        return \"Is\" + text\n",
    "text=\" mayur\"\n",
    "is_str(text)"
   ]
  },
  {
   "cell_type": "markdown",
   "id": "ec58eaed-f13b-42bb-b98d-43d26fa72a9a",
   "metadata": {},
   "source": [
    "## 20. String Copy Generator"
   ]
  },
  {
   "cell_type": "code",
   "execution_count": 50,
   "id": "c8840c0e-ca77-4d51-b38c-008e713ac388",
   "metadata": {},
   "outputs": [
    {
     "name": "stdout",
     "output_type": "stream",
     "text": [
      "strstrstr\n"
     ]
    }
   ],
   "source": [
    "#Write a Python program that returns a string that is n (non-negative integer) copies of a given string.\n",
    "a=\"str\"\n",
    "print(a*3)"
   ]
  },
  {
   "cell_type": "code",
   "execution_count": 51,
   "id": "4ce027a9-b6a4-4b01-a963-f66b3c1d0ad9",
   "metadata": {},
   "outputs": [
    {
     "name": "stdout",
     "output_type": "stream",
     "text": [
      " .py.py.py\n"
     ]
    }
   ],
   "source": [
    "def copy_gen(strr,n):\n",
    "    result=\" \"\n",
    "    for i in range(n):\n",
    "        result=result+strr\n",
    "    return result\n",
    "strr=\".py\"\n",
    "print(copy_gen(strr,3))"
   ]
  },
  {
   "cell_type": "markdown",
   "id": "384b6ba6-ab1a-41ca-89e5-39ece6a1ca2e",
   "metadata": {},
   "source": [
    "## 21. Even or Odd Checker"
   ]
  },
  {
   "cell_type": "code",
   "execution_count": 52,
   "id": "00637fd9-1c85-434f-ac64-2fc086f683ec",
   "metadata": {},
   "outputs": [
    {
     "name": "stdout",
     "output_type": "stream",
     "text": [
      "Even number\n"
     ]
    }
   ],
   "source": [
    "#Write a Python program that determines whether a given number (accepted from the user) is even or odd, \n",
    "#and prints an appropriate message to the user.\n",
    "#n=int(input(\"Enter a number\")\n",
    "n=10\n",
    "if n<0:\n",
    "      print(\"Please enter positive integer\")\n",
    "    \n",
    "elif n%2==0:\n",
    "    print(\"Even number\")\n",
    "else:\n",
    "    print(\"Odd numbre\")"
   ]
  },
  {
   "cell_type": "markdown",
   "id": "ecb6110c-a886-4d51-aee7-d6f8a7bf99ab",
   "metadata": {},
   "source": [
    "## 22. Count 4 in List"
   ]
  },
  {
   "cell_type": "code",
   "execution_count": 53,
   "id": "c52967e6-dbb9-44e2-9fc5-c2cd70682872",
   "metadata": {},
   "outputs": [
    {
     "name": "stdout",
     "output_type": "stream",
     "text": [
      "3\n"
     ]
    }
   ],
   "source": [
    "#Write a Python program to count the number 4 in a given list.\n",
    "num=[1,2,5,4,3,6,4,2,4]\n",
    "count=0\n",
    "for i in num:\n",
    "    if i==4:\n",
    "        count+=1\n",
    "print(count)"
   ]
  },
  {
   "cell_type": "code",
   "execution_count": 54,
   "id": "6c7d55d9-0ce7-4d65-80ff-1869a2e2ba48",
   "metadata": {},
   "outputs": [
    {
     "name": "stdout",
     "output_type": "stream",
     "text": [
      "3\n"
     ]
    }
   ],
   "source": [
    "#print(num.count(4))\n",
    "num=[1,2,5,4,3,6,4,2,4]\n",
    "count=0\n",
    "index=0\n",
    "while index<len(num):\n",
    "    if num[index]==4:\n",
    "        count=count+1\n",
    "    index=index+1\n",
    "\n",
    "print(count)\n",
    "    "
   ]
  },
  {
   "cell_type": "markdown",
   "id": "34f96a56-048c-437e-b485-fc4a654fb91a",
   "metadata": {},
   "source": [
    "## 23. String Prefix Copies"
   ]
  },
  {
   "cell_type": "code",
   "execution_count": 55,
   "id": "36f7682e-3bb2-47b7-9f18-10e7bead12f5",
   "metadata": {},
   "outputs": [
    {
     "name": "stdout",
     "output_type": "stream",
     "text": [
      "Enter how many time want to print 3\n",
      "How many char want to print 4\n"
     ]
    },
    {
     "name": "stdout",
     "output_type": "stream",
     "text": [
      "abcdabcdabcd\n"
     ]
    },
    {
     "name": "stdout",
     "output_type": "stream",
     "text": [
      "abababababababab\n"
     ]
    }
   ],
   "source": [
    "#Write a Python program to get n (non-negative integer) copies of the first 2 characters of a given string. \n",
    "#Return n copies of the whole string if the length is less than 2.\n",
    "\n",
    "a=\"abcdefg\"\n",
    "n=int(input(\"Enter how many time want to print\"))\n",
    "c_n=int(input(\"How many char want to print\"))\n",
    "result=\"\"\n",
    "\n",
    "restr=a[:c_n]\n",
    "for i in range(n):\n",
    "    result=result+restr\n",
    "print(result)"
   ]
  },
  {
   "cell_type": "code",
   "execution_count": 56,
   "id": "aa8e1a88-11f8-4762-8072-9555ec5f9c73",
   "metadata": {},
   "outputs": [
    {
     "name": "stdout",
     "output_type": "stream",
     "text": [
      "Enter how many time want to print 3\n",
      "How many char want to print 4\n"
     ]
    },
    {
     "name": "stdout",
     "output_type": "stream",
     "text": [
      "length is less then 2\n",
      "\n"
     ]
    },
    {
     "name": "stdout",
     "output_type": "stream",
     "text": [
      "length is less then 2\n",
      "\n"
     ]
    }
   ],
   "source": [
    "a=\"a\"\n",
    "n=int(input(\"Enter how many time want to print\"))\n",
    "c_n=int(input(\"How many char want to print\"))\n",
    "result=\"\"\n",
    "\n",
    "if len(a)>=3:\n",
    "    restr=a[:c_n]\n",
    "    for i in range(n):\n",
    "        result=result+restr\n",
    "else:\n",
    "    print(\"length is less then 2\")\n",
    "print(result)"
   ]
  },
  {
   "cell_type": "markdown",
   "id": "844ca492-304e-4456-a3fa-3272f66495d3",
   "metadata": {},
   "source": [
    "## 24. Vowel Tester"
   ]
  },
  {
   "cell_type": "code",
   "execution_count": 57,
   "id": "04ac6491-f546-4da0-8d95-864a655c9b73",
   "metadata": {},
   "outputs": [
    {
     "name": "stdout",
     "output_type": "stream",
     "text": [
      "Yes it is a vowels\n"
     ]
    }
   ],
   "source": [
    "#Write a Python program to test whether a passed letter is a vowel or not.\n",
    "def vowel_check(v):\n",
    "    vowels=\"aeiou\"\n",
    "    if v in vowels:\n",
    "        print(\"Yes it is a vowels\")\n",
    "    else:\n",
    "        print(\"Not\")\n",
    "        \n",
    "vowel_check(\"a\")"
   ]
  },
  {
   "cell_type": "code",
   "execution_count": 58,
   "id": "e5d4956a-5a68-430f-b7bf-30ede0413fca",
   "metadata": {},
   "outputs": [
    {
     "name": "stdout",
     "output_type": "stream",
     "text": [
      "True\n"
     ]
    }
   ],
   "source": [
    "def is_vowels(char):\n",
    "    vowels=\"aeiou\"\n",
    "\n",
    "    return char in vowels\n",
    "print(is_vowels(\"a\"))"
   ]
  },
  {
   "cell_type": "markdown",
   "id": "d8c1e300-769f-40d6-8e89-2943d3819f44",
   "metadata": {},
   "source": [
    "## 25. Value in Group Tester\n",
    "\n"
   ]
  },
  {
   "cell_type": "code",
   "execution_count": 59,
   "id": "e395c779-74b6-47b3-80a4-e2e388cf15ce",
   "metadata": {},
   "outputs": [],
   "source": [
    "#Write a Python program that checks whether a specified \n",
    "#value is contained within a group of values.\n",
    "#Test Data :\n",
    "#3 -> [1, 5, 8, 3] : True\n",
    "#-1 -> [1, 5, 8, 3] : False"
   ]
  },
  {
   "cell_type": "code",
   "execution_count": 60,
   "id": "f83e510e-126b-4ecd-83b8-4befc813d1a1",
   "metadata": {},
   "outputs": [
    {
     "name": "stdout",
     "output_type": "stream",
     "text": [
      "False\n"
     ]
    }
   ],
   "source": [
    "user=4\n",
    "a=[1, 5, 8, 3]\n",
    "print(user in a)"
   ]
  },
  {
   "cell_type": "markdown",
   "id": "b7471572-f085-46d2-8b6a-38e0a8ddf94b",
   "metadata": {},
   "source": [
    "## 26. List Histogram"
   ]
  },
  {
   "cell_type": "code",
   "execution_count": 61,
   "id": "467367ec-8145-424c-8528-fe60b41c4bfd",
   "metadata": {},
   "outputs": [
    {
     "name": "stdout",
     "output_type": "stream",
     "text": [
      "@@\n",
      "@@@\n",
      "@@@@@@\n",
      "@@@@@\n"
     ]
    }
   ],
   "source": [
    "#Write a Python program to create a histogram from a given list of integers.\n",
    "a=[2,3,6,5]\n",
    "for i in a:\n",
    "    print(i*\"@\")"
   ]
  },
  {
   "cell_type": "code",
   "execution_count": 62,
   "id": "e6397b60-97cf-4e7f-a216-56e28459769f",
   "metadata": {},
   "outputs": [
    {
     "name": "stdout",
     "output_type": "stream",
     "text": [
      "@@\n",
      "@@@\n",
      "@@@@@@\n",
      "@@@@@\n",
      "@@@@@@@@\n"
     ]
    }
   ],
   "source": [
    "def hist(a):\n",
    "    for i in a:\n",
    "        print(i*\"@\")\n",
    "a=[2,3,6,5,8]\n",
    "\n",
    "hist(a)"
   ]
  },
  {
   "cell_type": "markdown",
   "id": "94581814-7889-411d-818d-7eecb6b40bbf",
   "metadata": {},
   "source": [
    "## 27. List to String Concatenator"
   ]
  },
  {
   "cell_type": "code",
   "execution_count": 63,
   "id": "cafc5094-dd51-44b4-9adc-7b264cde935b",
   "metadata": {},
   "outputs": [
    {
     "name": "stdout",
     "output_type": "stream",
     "text": [
      "1583\n"
     ]
    }
   ],
   "source": [
    "#Write a Python program that concatenates all elements in a list into a string and returns it.\n",
    "a=[1, 5, 8, 3]\n",
    "result=''\n",
    "for i in a:\n",
    "    result=result+str(i)\n",
    "print(result)"
   ]
  },
  {
   "cell_type": "markdown",
   "id": "c8e19d34-867b-4ca7-a12b-faad9e62d844",
   "metadata": {},
   "source": [
    "## 28. Even Numbers Until 237"
   ]
  },
  {
   "cell_type": "code",
   "execution_count": 64,
   "id": "d5a93793-0712-44f5-972b-41aea757bd3f",
   "metadata": {},
   "outputs": [
    {
     "name": "stdout",
     "output_type": "stream",
     "text": [
      "386 462 47 418 907 344 236 375 823 566 597 978 328 615 953 345 399 162 758 219 918 237\n"
     ]
    }
   ],
   "source": [
    "#Write a Python program to print all even numbers from a given list of numbers in the same order and stop printing any after 237 in the sequence.\n",
    "#Sample numbers list :\n",
    "\n",
    "numbers = [    \n",
    "    386, 462, 47, 418, 907, 344, 236, 375, 823, 566, 597, 978, 328, 615, 953, 345, \n",
    "    399, 162, 758, 219, 918, 237, 412, 566, 826, 248, 866, 950, 626, 949, 687, 217, \n",
    "    815, 67, 104, 58, 512, 24, 892, 894, 767, 553, 81, 379, 843, 831, 445, 742, 717, \n",
    "    958,743, 527\n",
    "    ]\n",
    "\n",
    "for x in numbers:\n",
    "    if x==237:\n",
    "        print(x)\n",
    "        break\n",
    "    else:\n",
    "        print(x,end=\" \")"
   ]
  },
  {
   "cell_type": "markdown",
   "id": "56edb702-8e6b-4c30-abc6-5db0e74fec1f",
   "metadata": {},
   "source": [
    "## 29. Unique Colors Finder\n"
   ]
  },
  {
   "cell_type": "code",
   "execution_count": 65,
   "id": "916ae354-0950-4b28-a1db-6882de75e239",
   "metadata": {},
   "outputs": [
    {
     "name": "stdout",
     "output_type": "stream",
     "text": [
      "{'White', 'Black'}\n"
     ]
    }
   ],
   "source": [
    "\n",
    "# Write a Python program that prints out all colors from color_list_1 that are not present in color_list_2.\n",
    "# Test Data :\n",
    "# color_list_1 = set([\"White\", \"Black\", \"Red\"])\n",
    "# color_list_2 = set([\"Red\", \"Green\"])\n",
    "# Expected Output :\n",
    "c1 = set([\"White\", \"Black\", \"Red\"])\n",
    "c2 = set([\"Red\", \"Green\"])\n",
    "print(c1.difference(c2))"
   ]
  },
  {
   "cell_type": "markdown",
   "id": "ec04cef4-bc86-4b89-95e0-61519383ebc8",
   "metadata": {},
   "source": [
    "## 30. Triangle Area Calculator"
   ]
  },
  {
   "cell_type": "code",
   "execution_count": 66,
   "id": "3d54202e-625e-4ba8-aa73-7a380ee80742",
   "metadata": {},
   "outputs": [
    {
     "name": "stdout",
     "output_type": "stream",
     "text": [
      "Enter a base 10\n",
      "Entre height 5\n"
     ]
    },
    {
     "name": "stdout",
     "output_type": "stream",
     "text": [
      "Area of triange is 25.0\n"
     ]
    },
    {
     "name": "stdout",
     "output_type": "stream",
     "text": [
      "Area of triange is 400.0\n"
     ]
    }
   ],
   "source": [
    "#Write a Python program that will accept the base and height of a triangle and compute its area.\n",
    "#A = 1/2 × b × h.\n",
    "b=int(input(\"Enter a base\"))\n",
    "h=int(input(\"Entre height\"))\n",
    "area=1/2*b*h\n",
    "print(\"Area of triange is\",area)"
   ]
  },
  {
   "cell_type": "markdown",
   "id": "85e431bd-541d-4c31-b837-2411aea894b4",
   "metadata": {},
   "source": [
    "## 31. GCD Calculator"
   ]
  },
  {
   "cell_type": "code",
   "execution_count": 67,
   "id": "7e6a2109-3ef3-47b3-a811-405804616460",
   "metadata": {},
   "outputs": [
    {
     "name": "stdout",
     "output_type": "stream",
     "text": [
      "THE GCD IS 6\n"
     ]
    }
   ],
   "source": [
    "#The greatest common divisor (GCD), also called the greatest common factor, of two numbers is the largest number that divides them both. \n",
    "#For instance, the greatest common factor of 20 and 15 is 5, since 5 divides both 20 and 15 and no larger number has this property.\n",
    "#HCF and GDC are same\n",
    "\n",
    "##Write a Python program that computes the greatest common divisor (GCD)\n",
    "#of two positive integers.\n",
    "def GCD_F(x,y):\n",
    "    num1=12\n",
    "    num2=30\n",
    "    if num1<num2:\n",
    "        small=num1\n",
    "    else:\n",
    "        small=num2\n",
    "\n",
    "    for i in range(1,small+1):\n",
    "        if (num1%i==0 and num2%i==0):\n",
    "                GDC=i\n",
    "    return GDC\n",
    "\n",
    "print(\"THE GCD IS\",(GCD_F(12,40)))\n"
   ]
  },
  {
   "cell_type": "markdown",
   "id": "a23ad52c-9b88-4a90-8b3d-1714089c07a0",
   "metadata": {},
   "source": [
    "## 32. LCM Calculator\n"
   ]
  },
  {
   "cell_type": "code",
   "execution_count": 68,
   "id": "d23b238d-de5d-4fef-94f4-27d7e995a1c4",
   "metadata": {},
   "outputs": [
    {
     "name": "stdout",
     "output_type": "stream",
     "text": [
      "GCD is 1\n",
      "LCM is 15.0\n"
     ]
    }
   ],
   "source": [
    "#Write a Python program to find the least common multiple (LCM) of two positive integers.\n",
    "a=3\n",
    "b=5\n",
    "\n",
    "if a<b:\n",
    "    small=a\n",
    "else:\n",
    "    small=b\n",
    "for i in range(1,small+1):\n",
    "    if (a%i==0) and (b%i==0):\n",
    "        GCD=i\n",
    "LCM=(a*b)/GCD\n",
    "print(\"GCD is\",GCD)\n",
    "print(\"LCM is\",LCM)"
   ]
  },
  {
   "cell_type": "markdown",
   "id": "daa0db1d-d931-473a-aa78-e43b548d6bcf",
   "metadata": {},
   "source": [
    "## 33. Triple Sum with Equality Rule"
   ]
  },
  {
   "cell_type": "code",
   "execution_count": 69,
   "id": "64a71652-cdca-4086-aa3e-3ffb1f17558b",
   "metadata": {},
   "outputs": [
    {
     "data": {
      "text/plain": [
       "0"
      ]
     },
     "execution_count": 69,
     "metadata": {},
     "output_type": "execute_result"
    }
   ],
   "source": [
    "#Write a Python program to sum three given integers.\n",
    "#However, if two values are equal, the sum will be zero.\n",
    "def tri_sum(a,b,c):\n",
    "    if a==b or b==c or c==a:\n",
    "        return 0\n",
    "    else:\n",
    "     return (a+b+c)\n",
    "tri_sum(2,3,2)"
   ]
  },
  {
   "cell_type": "markdown",
   "id": "8bf9b1b4-fdee-4e7f-94bf-e25156eb23dd",
   "metadata": {},
   "source": [
    "## 34. Conditional Sum to 20"
   ]
  },
  {
   "cell_type": "code",
   "execution_count": 70,
   "id": "fd82e8f5-9de3-450e-8980-a1941684f95c",
   "metadata": {},
   "outputs": [
    {
     "name": "stdout",
     "output_type": "stream",
     "text": [
      "20\n"
     ]
    }
   ],
   "source": [
    "#Write a Python program to sum two given integers. \n",
    "#However, if the sum is between 15 and 20 it will return 20\n",
    "a=10\n",
    "b=5\n",
    "sum1=a+b\n",
    "if sum1<=15 or sum1>=20:\n",
    "    print(\"20\")\n",
    "else:\n",
    "    print(sum1)\n",
    "    "
   ]
  },
  {
   "cell_type": "markdown",
   "id": "d1b54c50-198b-49b5-a5f7-71f9bd7f8aab",
   "metadata": {},
   "source": [
    "## 35. Equality or 5 Rule Checker"
   ]
  },
  {
   "cell_type": "code",
   "execution_count": 71,
   "id": "1ddac723-f734-41c2-b65b-da990c8e830a",
   "metadata": {},
   "outputs": [
    {
     "name": "stdout",
     "output_type": "stream",
     "text": [
      "False\n",
      "True\n",
      "False\n"
     ]
    }
   ],
   "source": [
    "#Write a Python program that returns true if the two given integer values are equal or their sum or difference is 5.\n",
    "def Rule_check(a,b):\n",
    "    sum=a+b\n",
    "    diff=abs(a-b)\n",
    "    if a==b or sum==5 or diff==5:\n",
    "        return True\n",
    "    else:\n",
    "        return False\n",
    "        \n",
    "print(Rule_check(3,5))\n",
    "print(Rule_check(3,2))\n",
    "print(Rule_check(27, 53))\n",
    "\n",
    "\n"
   ]
  },
  {
   "cell_type": "markdown",
   "id": "70cb5bb4-78f2-4ecc-bf9f-f103259591bb",
   "metadata": {},
   "source": [
    "## 36. Add Integers Validator"
   ]
  },
  {
   "cell_type": "code",
   "execution_count": 72,
   "id": "bf78d2c3-9e79-40ef-ada5-4041067f60a9",
   "metadata": {},
   "outputs": [
    {
     "name": "stdout",
     "output_type": "stream",
     "text": [
      "3\n"
     ]
    }
   ],
   "source": [
    "#Write a Python program to add two objects if both objects are integers.\n",
    "a=1\n",
    "b=2\n",
    "if not(isinstance(a,int) and isinstance(b,int)):\n",
    "    print(\"Must be interger\")\n",
    "else:\n",
    "    print(a+b)"
   ]
  },
  {
   "cell_type": "markdown",
   "id": "f8d3b96a-7257-4ec5-9d3e-b273c1c81289",
   "metadata": {},
   "source": [
    "## 37. Personal Info Formatter"
   ]
  },
  {
   "cell_type": "code",
   "execution_count": 73,
   "id": "f8b50205-3d27-4a31-bfac-6075ea0a90f6",
   "metadata": {},
   "outputs": [
    {
     "name": "stdout",
     "output_type": "stream",
     "text": [
      "Name: Mayur\n",
      "Age : 22\n",
      "Adress:Pune\n"
     ]
    }
   ],
   "source": [
    "#Write a Python program that displays your name, age, and address on three different lines.\n",
    "def per_det():\n",
    "    name=\"Mayur\"\n",
    "    age=22\n",
    "    adress=\"Pune\"\n",
    "    print(\"Name: {}\\nAge : {}\\nAdress:{}\".format(name,age,adress))\n",
    "\n",
    "per_det()"
   ]
  },
  {
   "cell_type": "markdown",
   "id": "5d248dc3-53c8-4e3c-9a02-0bb90d377fda",
   "metadata": {},
   "source": [
    "## 38. Expression Solver"
   ]
  },
  {
   "cell_type": "code",
   "execution_count": 74,
   "id": "48d5f71c-b592-4e08-95af-1ad6e2676962",
   "metadata": {},
   "outputs": [],
   "source": [
    "# Write a Python program to solve (x + y) * (x + y).\n",
    "# Test Data : x = 4, y = 3\n",
    "# Expected Output : (4 + 3) ^ 2) = 49\n",
    "def square(x,y):\n",
    "    return (x+y)**2\n",
    "    \n",
    "#print(\"({} + {}) ^ 2) = {}\".format(x, y, result))\n"
   ]
  },
  {
   "cell_type": "markdown",
   "id": "6697e0c5-4c2f-46a4-9eb1-772e1009b57a",
   "metadata": {},
   "source": [
    "## 39. Future Value Calculator"
   ]
  },
  {
   "cell_type": "code",
   "execution_count": 75,
   "id": "8c6418fb-1d81-4664-ae24-7959432e319c",
   "metadata": {},
   "outputs": [],
   "source": [
    "# Write a Python program to compute the future value of a specified principal amount, rate of interest, and number of years.\n",
    "# Test Data : amt = 10000, int = 3.5, years = 7\n",
    "# Expected Output : 12722.79\n",
    "\n",
    "\n",
    "\n",
    "\n"
   ]
  },
  {
   "cell_type": "markdown",
   "id": "22a8cbe9-777a-421b-81fb-0744abda9506",
   "metadata": {},
   "source": [
    "## 40. Distance Between Points"
   ]
  },
  {
   "cell_type": "code",
   "execution_count": 76,
   "id": "18102a6d-7e9c-4c0b-866d-9c079c7c1b78",
   "metadata": {},
   "outputs": [
    {
     "name": "stdout",
     "output_type": "stream",
     "text": [
      " 2\n",
      " 3\n",
      " 4\n",
      " 5\n"
     ]
    },
    {
     "name": "stdout",
     "output_type": "stream",
     "text": [
      "-2.0\n"
     ]
    },
    {
     "name": "stdout",
     "output_type": "stream",
     "text": [
      "4.0\n"
     ]
    }
   ],
   "source": [
    "#Write a Python program to calculate the distance between the points (x1, y1) and (x2, y2).\n",
    "x1=int(input())\n",
    "x2=int(input())\n",
    "y1=int(input())\n",
    "y2=int(input())\n",
    "\n",
    "sq=(x1-x2)*2+(y1-y2)*2\n",
    "d=(sq)*1/2\n",
    "print(d)\n"
   ]
  },
  {
   "cell_type": "markdown",
   "id": "dcfe07a2-d7f2-49c3-8da7-7ac825ba94ec",
   "metadata": {},
   "source": [
    "## 41. File Existence Checker"
   ]
  },
  {
   "cell_type": "code",
   "execution_count": 77,
   "id": "c00c2098-0509-469e-98ed-4530c21be9a4",
   "metadata": {},
   "outputs": [
    {
     "name": "stdout",
     "output_type": "stream",
     "text": [
      "<_io.TextIOWrapper name='Basic_1.ipynb' mode='r' encoding='cp1252'> r\n"
     ]
    }
   ],
   "source": [
    "#Write a Python program to check whether a file exists.\n",
    "my=open(\"Basic_1.ipynb\",\"r\")\n",
    "print(my,\"r\")"
   ]
  },
  {
   "cell_type": "markdown",
   "id": "807073d9-61eb-4d73-a9d6-175e460d730e",
   "metadata": {},
   "source": [
    "## 42. Shell Mode Detector"
   ]
  },
  {
   "cell_type": "code",
   "execution_count": 78,
   "id": "f94400cb-eccd-4bd2-880a-85a835d142b5",
   "metadata": {},
   "outputs": [
    {
     "data": {
      "text/plain": [
       "['Struct',\n",
       " '__all__',\n",
       " '__builtins__',\n",
       " '__cached__',\n",
       " '__doc__',\n",
       " '__file__',\n",
       " '__loader__',\n",
       " '__name__',\n",
       " '__package__',\n",
       " '__spec__',\n",
       " '_clearcache',\n",
       " 'calcsize',\n",
       " 'error',\n",
       " 'iter_unpack',\n",
       " 'pack',\n",
       " 'pack_into',\n",
       " 'unpack',\n",
       " 'unpack_from']"
      ]
     },
     "execution_count": 78,
     "metadata": {},
     "output_type": "execute_result"
    }
   ],
   "source": [
    "#Write a Python program to determine if a Python shell is executing in 32bit or 64bit mode on OS.\n",
    "import struct\n",
    "dir(struct)"
   ]
  },
  {
   "cell_type": "markdown",
   "id": "6c70f192-bf25-4290-8f4c-0709ba72749d",
   "metadata": {},
   "source": [
    "## 43. OS and Platform Info"
   ]
  },
  {
   "cell_type": "code",
   "execution_count": 79,
   "id": "e909daeb-f3a5-4120-901b-34fc0af65138",
   "metadata": {},
   "outputs": [
    {
     "name": "stdout",
     "output_type": "stream",
     "text": [
      "\n",
      "Name of the OS system: Windows\n",
      "10\n"
     ]
    }
   ],
   "source": [
    "#Write a Python program to get OS name, platform and release information.\n",
    "import platform\n",
    "#dir(platform)\n",
    "print(\"\\nName of the OS system:\", platform.system())\n",
    "print(platform.release())"
   ]
  },
  {
   "cell_type": "markdown",
   "id": "c967de38-67cc-4639-9c98-ceea07efd998",
   "metadata": {},
   "source": [
    "## 44. Python Site Packages Locator"
   ]
  },
  {
   "cell_type": "code",
   "execution_count": 80,
   "id": "c6ecbc47-8c0e-4f23-9836-749ca083e73f",
   "metadata": {},
   "outputs": [
    {
     "name": "stdout",
     "output_type": "stream",
     "text": [
      "['C:\\\\Program Files\\\\WindowsApps\\\\PythonSoftwareFoundation.Python.3.9_3.9.3568.0_x64__qbz5n2kfra8p0', 'C:\\\\Program Files\\\\WindowsApps\\\\PythonSoftwareFoundation.Python.3.9_3.9.3568.0_x64__qbz5n2kfra8p0\\\\lib\\\\site-packages']\n"
     ]
    }
   ],
   "source": [
    "#Write a Python program to locate Python site packages.\n",
    "# Import the 'site' module.\n",
    "import site\n",
    "\n",
    "# Use the 'site.getsitepackages()' function to retrieve site packages' paths.\n",
    "# 'site.getsitepackages()' returns a list of paths where site packages are installed.\n",
    "print(site.getsitepackages())"
   ]
  },
  {
   "cell_type": "markdown",
   "id": "cad8ed91-c546-42cc-a30b-689a9831ae04",
   "metadata": {},
   "source": [
    "## 45. External Command Runner"
   ]
  },
  {
   "cell_type": "code",
   "execution_count": 82,
   "id": "bbc4f2a1-589f-477b-ac8f-89cc22234f42",
   "metadata": {},
   "outputs": [],
   "source": [
    "#Write a Python program that calls an external command.\n",
    "# # Import the 'call' function from the 'subprocess' module.\n",
    "# from subprocess import call\n",
    "\n",
    "# # Use the 'call' function to execute the \"ls -l\" command.\n",
    "# # This command lists the files and directories in the current directory with details.\n",
    "# call([\"ls\", \"-l\"])"
   ]
  },
  {
   "cell_type": "markdown",
   "id": "35ea16f4-7c61-4758-ad56-0ea0076f1997",
   "metadata": {},
   "source": [
    "## 46. File Path and Name Finder"
   ]
  },
  {
   "cell_type": "code",
   "execution_count": 83,
   "id": "2ee64e1d-cf3d-47f5-8d72-e2a3439f0074",
   "metadata": {},
   "outputs": [
    {
     "name": "stdout",
     "output_type": "stream",
     "text": [
      "Current File Name:  C:\\Users\\91935\\OneDrive\\Desktop\\Daily_Python\\Basic_1.ipynb\n"
     ]
    }
   ],
   "source": [
    "#Write a Python program to retrieve the path and name of the file currently being executed.\n",
    "# Import the 'os' module to work with the operating system.\n",
    "import os\n",
    "# Use the 'os.path.realpath(__file__)' to get the full path of the current Python script.\n",
    "# This will print the path of the current file.\n",
    "print(\"Current File Name: \", os.path.realpath(r\"Basic_1.ipynb\"))"
   ]
  },
  {
   "cell_type": "markdown",
   "id": "f5499058-bcf5-4087-870d-7aa78df3afe1",
   "metadata": {},
   "source": [
    "## 47. CPU Count Finder"
   ]
  },
  {
   "cell_type": "code",
   "execution_count": 84,
   "id": "476065c3-bcdf-41b6-99a3-753ba5ed97d6",
   "metadata": {},
   "outputs": [
    {
     "name": "stdout",
     "output_type": "stream",
     "text": [
      "15\n"
     ]
    }
   ],
   "source": [
    "#Write a Python program to find out the number of CPUs used.\n",
    "# Import the 'multiprocessing' module to work with multi-processing features.\n",
    "import multiprocessing\n",
    "\n",
    "# Use 'multiprocessing.cpu_count()' to determine the number of available CPU cores.\n",
    "cpu_count = multiprocessing.cpu_count()\n",
    "\n",
    "# Print the number of CPU cores available on the system.\n",
    "print(cpu_count)\n"
   ]
  },
  {
   "cell_type": "code",
   "execution_count": 85,
   "id": "6d546d6f-2c87-4981-a2b2-43113cb2eecc",
   "metadata": {},
   "outputs": [
    {
     "name": "stdout",
     "output_type": "stream",
     "text": [
      "15\n"
     ]
    }
   ],
   "source": [
    "# Import the 'os' module to access system-related functions.\n",
    "import os\n",
    "\n",
    "# Use 'os.cpu_count()' to determine the number of available CPU cores.\n",
    "cpu_count = os.cpu_count()\n",
    "\n",
    "# Print the number of CPU cores available on the system.\n",
    "print(cpu_count)"
   ]
  },
  {
   "cell_type": "markdown",
   "id": "fd1c7a82-65b0-4990-a922-4a2e532a65e4",
   "metadata": {},
   "source": [
    "## 48. String to Numeric Parser"
   ]
  },
  {
   "cell_type": "code",
   "execution_count": 86,
   "id": "fa3aa006-effa-4bb3-bcee-016db90d6400",
   "metadata": {},
   "outputs": [
    {
     "name": "stdout",
     "output_type": "stream",
     "text": [
      "123\n",
      "123.0\n"
     ]
    }
   ],
   "source": [
    "##Write a Python program to parse a string to float or integer.\n",
    "a=\"123\"\n",
    "print(int(a))\n",
    "print(float(a))"
   ]
  },
  {
   "cell_type": "code",
   "execution_count": 87,
   "id": "35fddc1d-8956-41d2-a652-1472a40d9bbf",
   "metadata": {},
   "outputs": [
    {
     "name": "stdout",
     "output_type": "stream",
     "text": [
      "1234.432\n",
      "1234\n"
     ]
    }
   ],
   "source": [
    "n=\"1234.432\"\n",
    "print(float(n))\n",
    "print(int(float(n)))"
   ]
  },
  {
   "cell_type": "code",
   "execution_count": 88,
   "id": "f942c9bb-649f-4daf-9e68-31cb30dc1c57",
   "metadata": {},
   "outputs": [
    {
     "name": "stdout",
     "output_type": "stream",
     "text": [
      "12\n",
      "233.12\n"
     ]
    }
   ],
   "source": [
    "# Define a function 'test' that takes a string 's' as input.\n",
    "def test(s):\n",
    "    try:\n",
    "        # Try to convert the input string to an integer.\n",
    "        return int(s)\n",
    "    except ValueError:\n",
    "        # If the conversion to an integer raises a ValueError (i.e., it's not an integer), \n",
    "        # then try to convert the string to a floating-point number (float).\n",
    "        return float(s)\n",
    "\n",
    "# Call the 'test' function with different input values and print the results.\n",
    "print(test('12'))       # Try to convert '12' to an integer.\n",
    "print(test('233.12'))   # Try to convert '233.12' to a float."
   ]
  },
  {
   "cell_type": "markdown",
   "id": "b6de8802-5eef-4d6e-944b-00cdc6a208df",
   "metadata": {},
   "source": [
    "## 49. Directory Files Lister"
   ]
  },
  {
   "cell_type": "code",
   "execution_count": 89,
   "id": "cd4b9559-d9fc-4d1e-bf7c-1018b6fd33ea",
   "metadata": {},
   "outputs": [
    {
     "name": "stdout",
     "output_type": "stream",
     "text": [
      "['.git', '.github', '.ipynb_checkpoints', 'Basic_1.ipynb', 'Daily_Python.ipynb', 'README.md']\n"
     ]
    }
   ],
   "source": [
    "#Write a Python program to list all files in a directory.\n",
    "# Import necessary functions and modules from the 'os' library.\n",
    "from os import listdir\n",
    "from os.path import isfile, join\n",
    "\n",
    "# Create a list 'files_list' that contains the names of files in the '/home/students' directory.\n",
    "# It uses a list comprehension to filter files using 'isfile' and 'join' functions.\n",
    "#files_list = [f for f in listdir('/home/students') if isfile(join('/home/students', f))]\n",
    "\n",
    "# Print the list of file names.\n",
    "print(listdir())"
   ]
  },
  {
   "cell_type": "markdown",
   "id": "d4bd8ae0-7dfe-4640-80d9-d0cb0db5dc01",
   "metadata": {},
   "source": [
    "## 50. Print Without Newline\n"
   ]
  },
  {
   "cell_type": "code",
   "execution_count": 90,
   "id": "ab9dc8e5-e4d5-49ca-ad96-79738708926d",
   "metadata": {},
   "outputs": [
    {
     "name": "stdout",
     "output_type": "stream",
     "text": [
      "**********"
     ]
    }
   ],
   "source": [
    "#Write a Python program to print without a newline or space.\n",
    "for i in range(0,10):\n",
    "    print(\"*\",end=\"\")"
   ]
  },
  {
   "cell_type": "code",
   "execution_count": 91,
   "id": "b2187d3a-c489-4c8b-8de3-d4a89b836f2c",
   "metadata": {},
   "outputs": [
    {
     "name": "stdout",
     "output_type": "stream",
     "text": [
      "**********"
     ]
    }
   ],
   "source": [
    "# Initialize the variable 'i' with the value 0.\n",
    "i = 0\n",
    "\n",
    "# Start a while loop that continues as long as 'i' is less than 10.\n",
    "while i < 10:\n",
    "    # Print an asterisk '*' to the same line without moving to the next line.\n",
    "    print('*', end='')\n",
    "\n",
    "    # Increment the value of 'i' by 1 in each iteration.\n",
    "    i = i + 1"
   ]
  },
  {
   "cell_type": "code",
   "execution_count": 92,
   "id": "3ac7d3c0-3b1f-423c-a4d2-e1fbe35225af",
   "metadata": {},
   "outputs": [
    {
     "name": "stdout",
     "output_type": "stream",
     "text": [
      "**********"
     ]
    }
   ],
   "source": [
    "# Import the functools module to use the 'partial' function.\n",
    "import functools\n",
    "\n",
    "# Create a partial function 'printf' based on the 'print' function with 'end' parameter set to an empty string.\n",
    "printf = functools.partial(print, end=\"\")\n",
    "\n",
    "# Iterate through a range of numbers from 0 to 9 (inclusive).\n",
    "for i in range(0, 10):\n",
    "    # Use the 'printf' function to print an asterisk '*' character to the same line.\n",
    "    printf('*')\n",
    "    \n",
    "    # Note: The variable 'i' is defined but not used in this code."
   ]
  },
  {
   "cell_type": "markdown",
   "id": "2cee16b1-6656-4a8d-804a-87b1b1c44e81",
   "metadata": {},
   "source": [
    "## 51. Program Profiler\n"
   ]
  },
  {
   "cell_type": "code",
   "execution_count": 93,
   "id": "4876cec6-1bc5-4f17-a0f9-b824de223ece",
   "metadata": {},
   "outputs": [],
   "source": [
    "#Write a Python program to determine the profiling of Python programs.\n",
    "#Note: A profile is a set of statistics that describes how often and for\n",
    "#how long various parts of the program executed. \n",
    "#These statistics can be formatted into reports via the pstats module.\n"
   ]
  },
  {
   "cell_type": "code",
   "execution_count": 94,
   "id": "ad030366-53d3-4eaf-89b6-962bcabf04e0",
   "metadata": {},
   "outputs": [
    {
     "name": "stdout",
     "output_type": "stream",
     "text": [
      "3\n",
      "         36 function calls in 0.001 seconds\n",
      "\n",
      "   Ordered by: standard name\n",
      "\n",
      "   ncalls  tottime  percall  cumtime  percall filename:lineno(function)\n",
      "        1    0.000    0.000    0.001    0.001 2592104846.py:4(sum)\n",
      "        1    0.000    0.000    0.001    0.001 <string>:1(<module>)\n",
      "        1    0.000    0.000    0.000    0.000 iostream.py:138(_event_pipe)\n",
      "        1    0.000    0.000    0.000    0.000 iostream.py:259(schedule)\n",
      "        2    0.000    0.000    0.000    0.000 iostream.py:505(parent_header)\n",
      "        2    0.000    0.000    0.000    0.000 iostream.py:550(_is_master_process)\n",
      "        2    0.000    0.000    0.000    0.000 iostream.py:577(_schedule_flush)\n",
      "        2    0.000    0.000    0.001    0.000 iostream.py:655(write)\n",
      "        1    0.000    0.000    0.000    0.000 socket.py:623(send)\n",
      "        1    0.000    0.000    0.000    0.000 threading.py:1066(_wait_for_tstate_lock)\n",
      "        1    0.000    0.000    0.000    0.000 threading.py:1133(is_alive)\n",
      "        1    0.000    0.000    0.000    0.000 threading.py:536(is_set)\n",
      "        1    0.000    0.000    0.000    0.000 tz.py:74(utcoffset)\n",
      "        1    0.000    0.000    0.001    0.001 {built-in method builtins.exec}\n",
      "        2    0.000    0.000    0.000    0.000 {built-in method builtins.isinstance}\n",
      "        2    0.000    0.000    0.000    0.000 {built-in method builtins.len}\n",
      "        1    0.000    0.000    0.001    0.001 {built-in method builtins.print}\n",
      "        2    0.000    0.000    0.000    0.000 {built-in method nt.getpid}\n",
      "        2    0.000    0.000    0.000    0.000 {method '__exit__' of '_thread.RLock' objects}\n",
      "        1    0.000    0.000    0.000    0.000 {method 'acquire' of '_thread.lock' objects}\n",
      "        1    0.000    0.000    0.000    0.000 {method 'append' of 'collections.deque' objects}\n",
      "        1    0.000    0.000    0.000    0.000 {method 'disable' of '_lsprof.Profiler' objects}\n",
      "        2    0.000    0.000    0.000    0.000 {method 'get' of 'ContextVar' objects}\n",
      "        2    0.000    0.000    0.000    0.000 {method 'items' of 'dict' objects}\n",
      "        2    0.000    0.000    0.000    0.000 {method 'write' of '_io.StringIO' objects}\n",
      "\n",
      "\n"
     ]
    }
   ],
   "source": [
    "# Import the cProfile module, which provides a way to profile Python code.\n",
    "import cProfile\n",
    "# Define a function named 'sum'.\n",
    "def sum():\n",
    "   # Print the result of adding 1 and 2 to the console.\n",
    "   print(1 + 2)\n",
    "# Use cProfile to profile the 'sum' function.\n",
    "cProfile.run('sum()')"
   ]
  },
  {
   "cell_type": "markdown",
   "id": "2a95cee0-c3b0-4d63-9165-6ec13ef356a0",
   "metadata": {},
   "source": [
    "## 52. Print to STDERR"
   ]
  },
  {
   "cell_type": "code",
   "execution_count": 95,
   "id": "d1d2bbbe-511d-490f-88ed-5ec0c856a061",
   "metadata": {},
   "outputs": [
    {
     "name": "stderr",
     "output_type": "stream",
     "text": [
      "abc--efg--xyz\n"
     ]
    }
   ],
   "source": [
    "#Write a Python program to print to STDERR.\n",
    "# Import the 'print_function' feature from the '__future__' module to enable Python 3-style print function.\n",
    "from __future__ import print_function\n",
    "\n",
    "# Import the 'sys' module, which provides access to some variables used or maintained by the interpreter.\n",
    "import sys\n",
    "\n",
    "# Define a custom 'eprint' function that prints to the standard error stream.\n",
    "def eprint(*args, **kwargs):\n",
    "    # Call the 'print' function with the provided arguments and keyword arguments.\n",
    "    # Use 'file=sys.stderr' to print to the standard error stream (stderr).\n",
    "    print(*args, file=sys.stderr, **kwargs)\n",
    "\n",
    "# Call the 'eprint' function with the specified arguments and separator.\n",
    "eprint(\"abc\", \"efg\", \"xyz\", sep=\"--\")\n"
   ]
  },
  {
   "cell_type": "markdown",
   "id": "35364965-921a-4b89-802e-56d6eb018846",
   "metadata": {},
   "source": [
    "## 53. Access Environment Variables"
   ]
  },
  {
   "cell_type": "code",
   "execution_count": 1,
   "id": "50bf5311-f1fc-4364-b542-4484d41281ad",
   "metadata": {},
   "outputs": [
    {
     "name": "stdout",
     "output_type": "stream",
     "text": [
      "ALLUSERSPROFILE: C:\\ProgramData\n",
      "APPDATA: C:\\Users\\91935\\AppData\\Roaming\n",
      "CHOCOLATEYINSTALL: C:\\ProgramData\\chocolatey\n",
      "CHOCOLATEYLASTPATHUPDATE: 133181981371912856\n",
      "COMMONPROGRAMFILES: C:\\Program Files\\Common Files\n",
      "COMMONPROGRAMFILES(X86): C:\\Program Files (x86)\\Common Files\n",
      "COMMONPROGRAMW6432: C:\\Program Files\\Common Files\n",
      "COMPUTERNAME: MAYUR\n",
      "COMSPEC: C:\\WINDOWS\\system32\\cmd.exe\n",
      "DRIVERDATA: C:\\Windows\\System32\\Drivers\\DriverData\n",
      "EFC_8636: 1\n",
      "FPS_BROWSER_APP_PROFILE_STRING: Internet Explorer\n",
      "FPS_BROWSER_USER_PROFILE_STRING: Default\n",
      "HOMEDRIVE: C:\n",
      "HOMEPATH: \\Users\\91935\n",
      "JAVA_HOME: \"C:\\Java\\jdk.msi\"\n",
      "JAVA_HOOME: C:\\Users\\91935\\Downloads\\jdk-19_windows-x64_bin.msi\n",
      "LOCALAPPDATA: C:\\Users\\91935\\AppData\\Local\n",
      "LOGONSERVER: \\\\MAYUR\n",
      "NUMBER_OF_PROCESSORS: 15\n",
      "ONEDRIVE: C:\\Users\\91935\\OneDrive\n",
      "OS: Windows_NT\n",
      "PATH: C:\\Windows\\system32;C:\\Windows;C:\\Windows\\System32\\Wbem;C:\\Windows\\System32\\WindowsPowerShell\\v1.0\\;C:\\Windows\\System32\\OpenSSH\\;C:\\Program Files (x86)\\NVIDIA Corporation\\PhysX\\Common;C:\\Program Files\\NVIDIA Corporation\\NVIDIA NvDLISR;C:\\WINDOWS\\system32;C:\\WINDOWS;C:\\WINDOWS\\System32\\Wbem;C:\\WINDOWS\\System32\\WindowsPowerShell\\v1.0\\;C:\\WINDOWS\\System32\\OpenSSH\\;C:\\ProgramData\\chocolatey\\bin;C:\\Java\\jdk.msi;C:\\Program Files\\Git\\cmd;C:\\Program Files\\MySQL\\MySQL Server 8.0\\bin;C:\\Program Files (x86)\\Microsoft SQL Server\\160\\Tools\\Binn\\;C:\\Program Files\\Microsoft SQL Server\\160\\Tools\\Binn\\;C:\\Program Files\\Microsoft SQL Server\\Client SDK\\ODBC\\170\\Tools\\Binn\\;C:\\Program Files\\Microsoft SQL Server\\160\\DTS\\Binn\\;C:\\Program Files (x86)\\Microsoft SQL Server\\160\\DTS\\Binn\\;C:\\Users\\91935\\anaconda3;C:\\Users\\91935\\anaconda3\\Scripts;C:\\Users\\91935\\anaconda3\\Library\\bin;C:\\Users\\91935\\AppData\\Local\\Microsoft\\WindowsApps;C:\\Program Files\\JetBrains\\PyCharm Community Edition 2022.2.3\\bin;;C:\\Program Files\\heroku\\bin;C:\\Users\\91935\\AppData\\Local\\Programs\\Microsoft VS Code\\bin;C:\\Users\\91935\\AppData\\Local\\GitHubDesktop\\bin;C:\\ffmpeg\\bin;C:\\Users\\91935\\AppData\\Local\\Packages\\PythonSoftwareFoundation.Python.3.9_qbz5n2kfra8p0\\LocalCache\\local-packages\\Python39\\Scripts;C:\\Users\\91935\\AppData\\Roaming\\Microsoft\\Windows\\Start Menu\\Programs;\n",
      "PATHEXT: .COM;.EXE;.BAT;.CMD;.VBS;.VBE;.JS;.JSE;.WSF;.WSH;.MSC\n",
      "PROCESSOR_ARCHITECTURE: AMD64\n",
      "PROCESSOR_IDENTIFIER: Intel64 Family 6 Model 154 Stepping 3, GenuineIntel\n",
      "PROCESSOR_LEVEL: 6\n",
      "PROCESSOR_REVISION: 9a03\n",
      "PROGRAMDATA: C:\\ProgramData\n",
      "PROGRAMFILES: C:\\Program Files\n",
      "PROGRAMFILES(X86): C:\\Program Files (x86)\n",
      "PROGRAMW6432: C:\\Program Files\n",
      "PROMPT: $P$G\n",
      "PSMODULEPATH: C:\\Program Files\\WindowsPowerShell\\Modules;C:\\WINDOWS\\system32\\WindowsPowerShell\\v1.0\\Modules;C:\\Program Files (x86)\\Microsoft SQL Server\\160\\Tools\\PowerShell\\Modules\\\n",
      "PUBLIC: C:\\Users\\Public\n",
      "PYCHARM COMMUNITY EDITION: C:\\Program Files\\JetBrains\\PyCharm Community Edition 2022.2.3\\bin;\n",
      "PYTHONUSERBASE: C:\\Users\\91935\\AppData\\Local\\Packages\\PythonSoftwareFoundation.Python.3.9_qbz5n2kfra8p0\\LocalCache\\local-packages\n",
      "SESSIONNAME: Console\n",
      "SYSTEMDRIVE: C:\n",
      "SYSTEMROOT: C:\\WINDOWS\n",
      "TEMP: C:\\Users\\91935\\AppData\\Local\\Temp\n",
      "TMP: C:\\Users\\91935\\AppData\\Local\\Temp\n",
      "USERDOMAIN: Mayur\n",
      "USERDOMAIN_ROAMINGPROFILE: Mayur\n",
      "USERNAME: Mayurrr\n",
      "USERPROFILE: C:\\Users\\91935\n",
      "WINDIR: C:\\WINDOWS\n",
      "ZES_ENABLE_SYSMAN: 1\n",
      "__PSLOCKDOWNPOLICY: 0\n",
      "JPY_SESSION_NAME: C:\\Users\\91935\\OneDrive\\Desktop\\Daily_Python\\Basic_1.ipynb\n",
      "JPY_INTERRUPT_EVENT: 3268\n",
      "IPY_INTERRUPT_EVENT: 3268\n",
      "JPY_PARENT_PID: 3356\n",
      "PYDEVD_USE_FRAME_EVAL: NO\n",
      "TERM: xterm-color\n",
      "CLICOLOR: 1\n",
      "FORCE_COLOR: 1\n",
      "CLICOLOR_FORCE: 1\n",
      "PAGER: cat\n",
      "GIT_PAGER: cat\n",
      "MPLBACKEND: module://matplotlib_inline.backend_inline\n"
     ]
    }
   ],
   "source": [
    "#Write a Python program to access environment variables.\n",
    "# Import the 'os' module to access operating system-related functionality, including environment variables.\n",
    "import os\n",
    "\n",
    "# Iterate through all environment variables and their values using the 'os.environ.items()' method.\n",
    "for item, value in os.environ.items():\n",
    "    # Print the environment variable name and its corresponding value.\n",
    "    print('{}: {}'.format(item, value))\n"
   ]
  },
  {
   "cell_type": "markdown",
   "id": "0b0981da-1c4e-42ac-9e40-1108be0d928b",
   "metadata": {},
   "source": [
    "## 54. Get Current Username"
   ]
  },
  {
   "cell_type": "code",
   "execution_count": 2,
   "id": "ceffa043-3104-4788-ae0f-3404d293d707",
   "metadata": {},
   "outputs": [
    {
     "name": "stdout",
     "output_type": "stream",
     "text": [
      "Mayurrr\n"
     ]
    }
   ],
   "source": [
    "#Write a Python program to get the current username.\n",
    "# Import the 'getpass' module to access user-related functionality, including getting the current username.\n",
    "import getpass\n",
    "\n",
    "# Use the 'getuser()' function from the 'getpass' module to retrieve the current username.\n",
    "# Then, print the username to the console.\n",
    "print(getpass.getuser())"
   ]
  },
  {
   "cell_type": "markdown",
   "id": "4663fe26-10fc-4279-ad37-8560ebd52c08",
   "metadata": {},
   "source": [
    "## 55. Find Local IPs"
   ]
  },
  {
   "cell_type": "code",
   "execution_count": 3,
   "id": "78e70bae-f7f4-426e-9f05-3e38335c9672",
   "metadata": {},
   "outputs": [
    {
     "name": "stdout",
     "output_type": "stream",
     "text": [
      "192.168.0.7\n"
     ]
    }
   ],
   "source": [
    "#Write a Python program to find local IP addresses using Python's stdlib.\n",
    "# Import the 'socket' module to work with network-related functions.\n",
    "import socket\n",
    "\n",
    "# The following code retrieves the local IP address of the current machine:\n",
    "# 1. Use 'socket.gethostname()' to get the local hostname.\n",
    "# 2. Use 'socket.gethostbyname_ex()' to get a list of IP addresses associated with the hostname.\n",
    "# 3. Filter the list to exclude any IP addresses starting with \"127.\" (loopback addresses).\n",
    "# 4. Extract the first IP address (if available) from the filtered list.\n",
    "# 5. Print the obtained IP address to the console.\n",
    "\n",
    "# Step 1: Get the local hostname.\n",
    "local_hostname = socket.gethostname()\n",
    "\n",
    "# Step 2: Get a list of IP addresses associated with the hostname.\n",
    "ip_addresses = socket.gethostbyname_ex(local_hostname)[2]\n",
    "\n",
    "# Step 3: Filter out loopback addresses (IPs starting with \"127.\").\n",
    "filtered_ips = [ip for ip in ip_addresses if not ip.startswith(\"127.\")]\n",
    "\n",
    "# Step 4: Extract the first IP address (if available) from the filtered list.\n",
    "first_ip = filtered_ips[:1]\n",
    "\n",
    "# Step 5: Print the obtained IP address to the console.\n",
    "print(first_ip[0])\n"
   ]
  },
  {
   "cell_type": "markdown",
   "id": "939186f6-3f8f-4b79-b879-d4123e74a3c6",
   "metadata": {},
   "source": [
    "## 56. Console Dimensions"
   ]
  },
  {
   "cell_type": "code",
   "execution_count": 8,
   "id": "a1cb3189-6961-4bfa-954c-954dcd7932ce",
   "metadata": {},
   "outputs": [],
   "source": [
    "# #Write a Python program to get the height and width of the console window.\n",
    "\n",
    "# # Import necessary modules for working with the terminal size.\n",
    "# !pip install fcntl\n",
    "# import fcntl\n",
    "# import termios\n",
    "# import struct\n",
    "\n",
    "# # Define a function named 'terminal_size' to retrieve the terminal size.\n",
    "# def terminal_size():\n",
    "#     # Use 'fcntl' and 'termios' to fetch terminal-related information, including size.\n",
    "#     # This code queries the terminal's width (columns) and height (rows).\n",
    "#     # It uses the 'TIOCGWINSZ' ioctl command to get window size information.\n",
    "\n",
    "#     # 1. Open file descriptor 0 (stdin).\n",
    "#     # 2. Call 'fcntl.ioctl' with 'TIOCGWINSZ' to fetch window size information.\n",
    "#     # 3. Unpack the received information into 'th' (height), 'tw' (width), 'hp' (horizontal pixel size), and 'wp' (vertical pixel size).\n",
    "#     th, tw, hp, wp = struct.unpack('HHHH', fcntl.ioctl(0, termios.TIOCGWINSZ, struct.pack('HHHH', 0, 0, 0, 0)))\n",
    "\n",
    "#     # Return the terminal width and height.\n",
    "#     return tw, th\n",
    "\n",
    "# # Call the 'terminal_size' function to get the terminal size and print the result.\n",
    "# print('Number of columns and Rows: ', terminal_size())\n"
   ]
  },
  {
   "cell_type": "markdown",
   "id": "1fba1e8f-b011-45af-91b0-3b0434677197",
   "metadata": {},
   "source": [
    "## 57. Method Execution Time"
   ]
  },
  {
   "cell_type": "code",
   "execution_count": 9,
   "id": "e0afb60c-2a32-4a56-a937-56e7ee919b2e",
   "metadata": {},
   "outputs": [
    {
     "name": "stdout",
     "output_type": "stream",
     "text": [
      "\n",
      "Time to sum of 1 to 5 and required time to calculate is: (15, 0.0)\n"
     ]
    }
   ],
   "source": [
    "#Write a Python program to get the execution time of a Python method.\n",
    "\n",
    "# Import the 'time' module to work with time-related functions.\n",
    "import time\n",
    "\n",
    "# Define a function named 'sum_of_n_numbers' that calculates the sum of the first 'n' natural numbers.\n",
    "def sum_of_n_numbers(n):\n",
    "    # Record the current time before the calculation.\n",
    "    start_time = time.time()\n",
    "\n",
    "    # Initialize a variable 's' to store the sum.\n",
    "    s = 0\n",
    "\n",
    "    # Loop through numbers from 1 to 'n' and accumulate the sum.\n",
    "    for i in range(1, n + 1):\n",
    "        s = s + i\n",
    "\n",
    "    # Record the current time after the calculation.\n",
    "    end_time = time.time()\n",
    "\n",
    "    # Return both the calculated sum and the time taken for the calculation.\n",
    "    return s, end_time - start_time\n",
    "\n",
    "# Define the value of 'n' as 5.\n",
    "n = 5\n",
    "\n",
    "# Print the result, including the time taken to calculate the sum.\n",
    "print(\"\\nTime to sum of 1 to\", n, \"and required time to calculate is:\", sum_of_n_numbers(n))\n"
   ]
  },
  {
   "cell_type": "markdown",
   "id": "dc036b6b-bb95-43c7-9cc9-ea77906c4d07",
   "metadata": {},
   "source": [
    "## 58. Sum of First n Positives"
   ]
  },
  {
   "cell_type": "code",
   "execution_count": null,
   "id": "b3ede8a7-3ff5-459b-879e-f65e8068d92c",
   "metadata": {},
   "outputs": [],
   "source": [
    "##Write a Python program to sum the first n positive integers."
   ]
  },
  {
   "cell_type": "code",
   "execution_count": 11,
   "id": "d9785c16-85dc-4916-95b6-f93af4b62439",
   "metadata": {},
   "outputs": [
    {
     "name": "stdout",
     "output_type": "stream",
     "text": [
      "36\n"
     ]
    }
   ],
   "source": [
    "n=8\n",
    "su=0\n",
    "for i in range(0,n+1):\n",
    "    su=su+i\n",
    "print(su)"
   ]
  },
  {
   "cell_type": "code",
   "execution_count": 13,
   "id": "2600863d-0219-4940-9e0f-670ae3cffef3",
   "metadata": {},
   "outputs": [
    {
     "name": "stdout",
     "output_type": "stream",
     "text": [
      "36\n"
     ]
    }
   ],
   "source": [
    "n=8\n",
    "print(sum(range(0,n+1)))"
   ]
  },
  {
   "cell_type": "code",
   "execution_count": 16,
   "id": "357301d4-833d-4d3d-95be-9f206192d868",
   "metadata": {},
   "outputs": [
    {
     "name": "stdout",
     "output_type": "stream",
     "text": [
      "36.0\n"
     ]
    }
   ],
   "source": [
    "n=8\n",
    "sums=(n*(n+1))/2\n",
    "print(sums)"
   ]
  },
  {
   "cell_type": "markdown",
   "id": "e4cf9dc6-430e-4c47-8b1c-c6c76fdc1f42",
   "metadata": {},
   "source": [
    "## 59. Height to Centimeters"
   ]
  },
  {
   "cell_type": "code",
   "execution_count": null,
   "id": "5df040d6-2718-4258-aeac-03494d8fc435",
   "metadata": {},
   "outputs": [],
   "source": [
    "#Write a Python program to convert height (in feet and inches) to centimeters."
   ]
  },
  {
   "cell_type": "code",
   "execution_count": 10,
   "id": "23557918-f54f-4c0c-82be-7433fe4cddaf",
   "metadata": {},
   "outputs": [
    {
     "name": "stdout",
     "output_type": "stream",
     "text": [
      "Input your height: \n"
     ]
    },
    {
     "name": "stdin",
     "output_type": "stream",
     "text": [
      "Feet:  6\n",
      "Inches:  6\n"
     ]
    },
    {
     "name": "stdout",
     "output_type": "stream",
     "text": [
      "Your height is : 198 cm.\n"
     ]
    }
   ],
   "source": [
    "# Prompt the user to input their height.\n",
    "print(\"Input your height: \")\n",
    "\n",
    "# Read the feet part of the height and convert it to an integer.\n",
    "h_ft = int(input(\"Feet: \"))\n",
    "\n",
    "# Read the inches part of the height and convert it to an integer.\n",
    "h_inch = int(input(\"Inches: \"))\n",
    "\n",
    "# Convert the height from feet and inches to inches.\n",
    "h_inch += h_ft * 12\n",
    "\n",
    "# Calculate the height in centimeters by multiplying by the conversion factor (2.54).\n",
    "h_cm = round(h_inch * 2.54, 1)\n",
    "\n",
    "# Print the calculated height in centimeters.\n",
    "print(\"Your height is : %d cm.\" % h_cm)\n"
   ]
  },
  {
   "cell_type": "code",
   "execution_count": null,
   "id": "82d5454a",
   "metadata": {},
   "outputs": [],
   "source": []
  },
  {
   "cell_type": "markdown",
   "id": "62c407b1-3c3e-468d-ab58-2ea45f8ce6ff",
   "metadata": {},
   "source": [
    "## 60. Triangle Hypotenuse Calculator"
   ]
  },
  {
   "cell_type": "code",
   "execution_count": 18,
   "id": "fa450756-8597-4eb2-8de8-400a71247aaf",
   "metadata": {},
   "outputs": [
    {
     "name": "stdout",
     "output_type": "stream",
     "text": [
      "11.180339887498949\n"
     ]
    }
   ],
   "source": [
    "#Write a Python program to calculate the hypotenuse of a right angled triangle.\n",
    "\n",
    "#Formula c*2=a*2+b*2\n",
    "#adjecentside=10\n",
    "#perpendicular_side=5\n",
    "import math as m\n",
    "a=10\n",
    "b=5\n",
    "c=m.sqrt(a**2+b**2)\n",
    "print(c)"
   ]
  },
  {
   "cell_type": "markdown",
   "id": "20e160ff-d636-4619-9916-b65c7c1713e8",
   "metadata": {},
   "source": [
    "## 61. Feet to Other Units"
   ]
  },
  {
   "cell_type": "code",
   "execution_count": null,
   "id": "bc6d15e9-0370-4ff0-a716-2d65a349ed6a",
   "metadata": {},
   "outputs": [],
   "source": [
    "#Write a Python program to convert the distance (in feet) to inches, yards, and miles."
   ]
  },
  {
   "cell_type": "markdown",
   "id": "51a63339-de7d-4944-bed8-259885f0ff9a",
   "metadata": {},
   "source": [
    "## 62. Time to Seconds Converter\n",
    "\n",
    "Write a Python program to convert all units of time into seconds."
   ]
  },
  {
   "cell_type": "code",
   "execution_count": null,
   "id": "98799240-fb60-4be4-aea3-e7990903120b",
   "metadata": {},
   "outputs": [],
   "source": []
  },
  {
   "cell_type": "markdown",
   "id": "c8d24791-32f9-47c0-b330-f780961761c9",
   "metadata": {},
   "source": [
    "## 63. Absolute File Path Finder\n",
    "\n",
    "Write a Python program to get an absolute file path."
   ]
  },
  {
   "cell_type": "code",
   "execution_count": null,
   "id": "71662f5f-1aed-49be-8c7b-bd169692d2fa",
   "metadata": {},
   "outputs": [],
   "source": []
  },
  {
   "cell_type": "markdown",
   "id": "6f62bca7-5123-4fc6-8a64-8b770057e530",
   "metadata": {},
   "source": [
    "## 64. File Timestamps\n",
    "\n",
    "Write a Python program that retrieves the date and time of file creation and modification."
   ]
  },
  {
   "cell_type": "code",
   "execution_count": null,
   "id": "46531408-05b5-4c3f-b187-cc1bb229c9a1",
   "metadata": {},
   "outputs": [],
   "source": []
  },
  {
   "cell_type": "markdown",
   "id": "2380bee1-a970-4046-b497-21ab1729239e",
   "metadata": {},
   "source": [
    "## 65. Seconds to DHMS Converter\n",
    "\n",
    "Write a Python program that converts seconds into days, hours, minutes, and seconds."
   ]
  },
  {
   "cell_type": "code",
   "execution_count": null,
   "id": "4b4c5bde-c518-43c5-aa61-84ff92d76cc7",
   "metadata": {},
   "outputs": [],
   "source": []
  },
  {
   "cell_type": "markdown",
   "id": "1f7064b8-944a-470e-9301-b4178584e8ff",
   "metadata": {},
   "source": [
    "## 66. BMI Calculator"
   ]
  },
  {
   "cell_type": "code",
   "execution_count": 132,
   "id": "b5827f70-2a50-41f2-b2ed-fa6ba1a96794",
   "metadata": {},
   "outputs": [
    {
     "name": "stdout",
     "output_type": "stream",
     "text": [
      "Enter your weight 30\n",
      "Enter your height 177\n"
     ]
    },
    {
     "name": "stdout",
     "output_type": "stream",
     "text": [
      "BMI 238.3050847457627\n"
     ]
    }
   ],
   "source": [
    "#Write a Python program to calculate the body mass index.\n",
    "#BMI = weight (lb) / (height (in))^2 x 703. \n",
    "w=int(input(\"Enter your weight\"))\n",
    "h=int(input(\"Enter your height\"))\n",
    "BMI=(w/h*2)*703\n",
    "print(\"BMI\",BMI)"
   ]
  },
  {
   "cell_type": "markdown",
   "id": "2a1ffff0-04a5-4ae4-b516-f0561ed176c6",
   "metadata": {},
   "source": [
    "## 67. Pressure Unit Converter\n",
    "\n",
    "Write a Python program to convert pressure in kilopascals to pounds per square inch, a millimeter of mercury (mmHg) and atmosphere pressure."
   ]
  },
  {
   "cell_type": "code",
   "execution_count": null,
   "id": "4f338562-79f7-48a7-b68f-d523340a893f",
   "metadata": {},
   "outputs": [],
   "source": []
  },
  {
   "cell_type": "markdown",
   "id": "8e699f3d-d16f-4ead-af9d-3381b7a46c9b",
   "metadata": {},
   "source": [
    "## 68. Sum of Digits\n",
    "\n",
    "Write a Python program to calculate sum of digits of a number."
   ]
  },
  {
   "cell_type": "code",
   "execution_count": null,
   "id": "0f02dbcf-8d30-4098-91d8-ad1f3c324425",
   "metadata": {},
   "outputs": [],
   "source": []
  },
  {
   "cell_type": "markdown",
   "id": "be0f137d-0561-4614-b6ce-eb603f1fe6e0",
   "metadata": {},
   "source": [
    "## 69. Sort Three Numbers"
   ]
  },
  {
   "cell_type": "code",
   "execution_count": 250,
   "id": "5170ca47-b50a-41ae-ad9f-3d6b2665cc3b",
   "metadata": {},
   "outputs": [
    {
     "name": "stdout",
     "output_type": "stream",
     "text": [
      "[2, 3, 4]\n"
     ]
    }
   ],
   "source": [
    "#Write a Python program to sort three integers without using conditional statements and loops.\n",
    "a=[3,2,4]\n",
    "a.sort()\n",
    "print(a)"
   ]
  },
  {
   "cell_type": "markdown",
   "id": "d863646d-3cd5-4319-b251-c41c91f00613",
   "metadata": {},
   "source": [
    "## 70. Sort Files by Date"
   ]
  },
  {
   "cell_type": "code",
   "execution_count": null,
   "id": "7d2c9ee3-c704-4b7e-b050-a304e50793ea",
   "metadata": {},
   "outputs": [],
   "source": [
    "#Write a Python program to sort files by date."
   ]
  },
  {
   "cell_type": "markdown",
   "id": "5fb6f617-6759-45df-a93d-140cc8fce4a5",
   "metadata": {},
   "source": [
    "## 71. Directory Listing by Creation Date"
   ]
  },
  {
   "cell_type": "code",
   "execution_count": null,
   "id": "e7bd476c-2e69-46c2-87aa-62af2b9a8d7b",
   "metadata": {},
   "outputs": [],
   "source": [
    "#Write a Python program to get a directory listing, sorted by creation date."
   ]
  },
  {
   "cell_type": "markdown",
   "id": "a361fe53-133e-4c87-894f-c462e155ed5d",
   "metadata": {},
   "source": [
    "## 72. Math Module Details"
   ]
  },
  {
   "cell_type": "code",
   "execution_count": 149,
   "id": "64c9a7e5-3cc5-4f67-9e8b-1cad9a565739",
   "metadata": {},
   "outputs": [],
   "source": [
    "#Write a Python program to get the details of the math module.\n",
    "import math\n",
    "#print(dir(math))\n",
    "#help(math)"
   ]
  },
  {
   "cell_type": "markdown",
   "id": "801efacd-63c9-4382-af5f-c6486d51ebc1",
   "metadata": {},
   "source": [
    "## 73. Line Midpoint Calculator"
   ]
  },
  {
   "cell_type": "code",
   "execution_count": null,
   "id": "3cf3347b-93c2-4d82-b65e-e1e8f19f4770",
   "metadata": {},
   "outputs": [],
   "source": [
    "#Write a Python program to calculate the midpoints of a line."
   ]
  },
  {
   "cell_type": "markdown",
   "id": "fc7c84de-dd61-45f9-ad57-742f8e3954b9",
   "metadata": {},
   "source": [
    "## 74. Word Hasher"
   ]
  },
  {
   "cell_type": "code",
   "execution_count": null,
   "id": "0b7429a7-dacd-4402-9c4e-5cee85cc1da1",
   "metadata": {},
   "outputs": [],
   "source": [
    "#Write a Python program to hash a word."
   ]
  },
  {
   "cell_type": "markdown",
   "id": "af389a9a-b313-4f40-aa9f-62b9e0660516",
   "metadata": {},
   "source": [
    "## 75. Copyright Information"
   ]
  },
  {
   "cell_type": "code",
   "execution_count": null,
   "id": "8142f82f-f123-4504-8424-dc6aa257f1f2",
   "metadata": {},
   "outputs": [],
   "source": [
    "#Write a Python program to get the copyright information and write Copyright information in Python code."
   ]
  },
  {
   "cell_type": "markdown",
   "id": "909b65a5-e3d6-4729-920e-2ab814449b0e",
   "metadata": {},
   "source": [
    "## 76. Command-line Arguments"
   ]
  },
  {
   "cell_type": "code",
   "execution_count": null,
   "id": "00af5b81-0b7c-486d-aa0a-e48b5a22895b",
   "metadata": {},
   "outputs": [],
   "source": [
    "#Write a Python program to get the command-line arguments (name of the script, the number of arguments, arguments) passed to a script."
   ]
  },
  {
   "cell_type": "markdown",
   "id": "8279543d-c38e-4e95-8133-e9d0716b49c6",
   "metadata": {},
   "source": [
    "## 77. Endianness Checker"
   ]
  },
  {
   "cell_type": "code",
   "execution_count": null,
   "id": "5ab84087-da8f-49e7-8bf3-69c9bce7df04",
   "metadata": {},
   "outputs": [],
   "source": [
    "#Write a Python program to test whether the system is a big-endian platform or a little-endian platform."
   ]
  },
  {
   "cell_type": "markdown",
   "id": "8a8c8a4f-6717-449a-93b4-d3f55dbbaf60",
   "metadata": {},
   "source": [
    "## 78. List Built-in Modules"
   ]
  },
  {
   "cell_type": "code",
   "execution_count": 185,
   "id": "d126a40e-baf2-484b-a44f-9c5a4807a50c",
   "metadata": {},
   "outputs": [],
   "source": [
    "#Write a Python program to find the available built-in modules."
   ]
  },
  {
   "cell_type": "markdown",
   "id": "f55603a7-72ea-4a98-8f7e-33e5275c814d",
   "metadata": {},
   "source": [
    "## 79. Object Size Finder"
   ]
  },
  {
   "cell_type": "code",
   "execution_count": null,
   "id": "a84bfa52-a3a0-4391-9e3b-fbbae5891187",
   "metadata": {},
   "outputs": [],
   "source": [
    "#Write a Python program to get the size of an object in bytes."
   ]
  },
  {
   "cell_type": "markdown",
   "id": "3edbc558-ac2f-4762-bb5e-f126c1d6fe17",
   "metadata": {},
   "source": [
    "## 80. Current Recursion Limit"
   ]
  },
  {
   "cell_type": "code",
   "execution_count": 186,
   "id": "41335631-d8fd-4f65-94b0-fc4739c43511",
   "metadata": {},
   "outputs": [],
   "source": [
    "#Write a Python program to get the current value of the recursion limit."
   ]
  },
  {
   "cell_type": "markdown",
   "id": "4a55eeab-bd2f-49c4-860a-0aa6d81b9f6f",
   "metadata": {},
   "source": [
    "## 81. Concatenate Strings"
   ]
  },
  {
   "cell_type": "code",
   "execution_count": null,
   "id": "7bc5801e-a1ed-4d53-a364-073e5c92edaf",
   "metadata": {},
   "outputs": [],
   "source": [
    "#Write a Python program to concatenate N strings."
   ]
  },
  {
   "cell_type": "markdown",
   "id": "4047c6d5-a060-4c61-9e24-84d5c2d1b0d2",
   "metadata": {},
   "source": [
    "## 82. Sum of Container Items"
   ]
  },
  {
   "cell_type": "code",
   "execution_count": null,
   "id": "d36167ed-462c-407a-835a-917641341d42",
   "metadata": {},
   "outputs": [],
   "source": [
    "#Write a Python program to calculate the sum of all items of a container (tuple, list, set, dictionary)."
   ]
  },
  {
   "cell_type": "markdown",
   "id": "631f9459-febe-40a7-914f-3769e9e5f09c",
   "metadata": {},
   "source": [
    "## 83. List Greater-Than Test"
   ]
  },
  {
   "cell_type": "code",
   "execution_count": 183,
   "id": "a11a3878-96d2-4795-85ca-c927cda48301",
   "metadata": {},
   "outputs": [],
   "source": [
    "#Write a Python program to test whether all numbers in a list are greater than a certain number."
   ]
  },
  {
   "cell_type": "markdown",
   "id": "a0ced7dc-87c5-42e9-91af-f9f2a64664a7",
   "metadata": {},
   "source": [
    "## 84. Character Frequency Counter"
   ]
  },
  {
   "cell_type": "code",
   "execution_count": 117,
   "id": "20c53f31-c8fb-4eb4-aaff-1140e9f74850",
   "metadata": {},
   "outputs": [
    {
     "name": "stdout",
     "output_type": "stream",
     "text": [
      "2\n"
     ]
    }
   ],
   "source": [
    "#Write a Python program to count the number of occurrences of a specific character in a string.\n",
    "str1=\"mayurjare\"\n",
    "ch=\"r\"\n",
    "count=0\n",
    "for i in str1:\n",
    "    if i==ch:\n",
    "        count=count+1\n",
    "            \n",
    "print(count)        "
   ]
  },
  {
   "cell_type": "markdown",
   "id": "0de0eb2a-250a-4258-b885-0ab14cfefead",
   "metadata": {},
   "source": [
    "## 85. File or Directory Checker"
   ]
  },
  {
   "cell_type": "code",
   "execution_count": null,
   "id": "e7828d02-db60-4b2b-b01d-07de11e1cfa7",
   "metadata": {},
   "outputs": [],
   "source": [
    "#Write a Python program to check whether a file path is a file or a directory."
   ]
  },
  {
   "cell_type": "markdown",
   "id": "fc38f6c1-7fbf-489b-9477-a4dbd9188302",
   "metadata": {},
   "source": [
    "## 86. Character ASCII Value"
   ]
  },
  {
   "cell_type": "code",
   "execution_count": 255,
   "id": "46334662-b65c-402e-8ae0-e952978835f6",
   "metadata": {},
   "outputs": [
    {
     "name": "stdout",
     "output_type": "stream",
     "text": [
      "Enter charcter A\n"
     ]
    },
    {
     "name": "stdout",
     "output_type": "stream",
     "text": [
      "65\n",
      "65\n"
     ]
    }
   ],
   "source": [
    "#Write a Python program to get the ASCII value of a character.\n",
    "user=input(\"Enter charcter\")\n",
    "print(ord(user))\n",
    "print(ord(user))"
   ]
  },
  {
   "cell_type": "markdown",
   "id": "e4c88a14-2e69-4b0c-b275-db1ba6ae410b",
   "metadata": {},
   "source": [
    "## 87. File Size Finder"
   ]
  },
  {
   "cell_type": "code",
   "execution_count": 181,
   "id": "ee9c31e4-0dff-43e7-ac71-35694b72dbf1",
   "metadata": {},
   "outputs": [],
   "source": [
    "#Write a Python program to get the size of a file."
   ]
  },
  {
   "cell_type": "markdown",
   "id": "01d055c4-a8a0-4cde-8957-d15ff82c2c35",
   "metadata": {},
   "source": [
    "## 88. Sum Expression Printer"
   ]
  },
  {
   "cell_type": "code",
   "execution_count": 32,
   "id": "c3d23b07-00d2-45b0-8e48-058bf09ba51b",
   "metadata": {},
   "outputs": [
    {
     "name": "stdout",
     "output_type": "stream",
     "text": [
      " 30+20=50\n"
     ]
    }
   ],
   "source": [
    "#Given variables x=30 and y=20, write a Python program to print \"30+20=50\".\n",
    "x=30\n",
    "y=20\n",
    "z=x+y\n",
    "print(f\" {x}+{y}={z}\")"
   ]
  },
  {
   "cell_type": "markdown",
   "id": "25e28028-81e4-4a51-907d-3dd618179b4c",
   "metadata": {},
   "source": [
    "## 89. Conditional Action"
   ]
  },
  {
   "cell_type": "code",
   "execution_count": null,
   "id": "38c9294b-e0b7-4649-9170-7c418e508313",
   "metadata": {},
   "outputs": [],
   "source": [
    "#Write a Python program to perform an action if a condition is true.\n",
    "#Given a variable name, if the value is 1, display the string \"First day of a Month!\" and do nothing if the value is not equal."
   ]
  },
  {
   "cell_type": "markdown",
   "id": "2a55e387-843b-4541-b3f2-f852f291c1ae",
   "metadata": {},
   "source": [
    "## 90. Self-replicating Program"
   ]
  },
  {
   "cell_type": "code",
   "execution_count": null,
   "id": "640f4639-7526-4ba3-9363-5fa75606d6ac",
   "metadata": {},
   "outputs": [],
   "source": [
    "#Write a Python program to create a copy of its own source code."
   ]
  },
  {
   "cell_type": "markdown",
   "id": "931aa400-81c1-4be0-b8e0-549e48725a7f",
   "metadata": {},
   "source": [
    "## 91. Swap Variables"
   ]
  },
  {
   "cell_type": "code",
   "execution_count": 8,
   "id": "851e51bf-f665-4780-98a8-f473c13783a4",
   "metadata": {},
   "outputs": [
    {
     "name": "stdout",
     "output_type": "stream",
     "text": [
      "10 5\n",
      "5 10\n"
     ]
    }
   ],
   "source": [
    "#Write a Python program to swap two variables.\n",
    "a=10\n",
    "b=5\n",
    "print(a,b)\n",
    "a,b=b,a\n",
    "print(a,b)"
   ]
  },
  {
   "cell_type": "markdown",
   "id": "9e6948b2-8752-4370-9ffc-5bb2ab8b8112",
   "metadata": {},
   "source": [
    "## 92. Special Characters in String"
   ]
  },
  {
   "cell_type": "code",
   "execution_count": null,
   "id": "355534b5-b1a7-4623-93f8-d5f0e742d9c9",
   "metadata": {},
   "outputs": [],
   "source": [
    "#Write a Python program to define a string containing special characters in various forms."
   ]
  },
  {
   "cell_type": "markdown",
   "id": "f872bfe7-b5d3-488f-b1d4-8dec8207db59",
   "metadata": {},
   "source": [
    "## 93. Object Identity and Type"
   ]
  },
  {
   "cell_type": "code",
   "execution_count": null,
   "id": "6b11e184-45a9-4acb-84e2-81ab6bddb3ce",
   "metadata": {},
   "outputs": [],
   "source": [
    "#Write a Python program to get the Identity, Type, and Value of an object."
   ]
  },
  {
   "cell_type": "markdown",
   "id": "c33bd20c-def0-4233-97f5-0aa421869277",
   "metadata": {},
   "source": [
    "## 94. String Bytes to Integers"
   ]
  },
  {
   "cell_type": "code",
   "execution_count": null,
   "id": "ffa966b6-6eb6-43f7-8e6e-7f48dbed04a6",
   "metadata": {},
   "outputs": [],
   "source": [
    "#Write a Python program to convert the bytes in a given string to a list of integers"
   ]
  },
  {
   "cell_type": "markdown",
   "id": "ff95cd80-2091-4ba8-af8c-3215b51573d3",
   "metadata": {},
   "source": [
    "## 95. Check if String is Numeric\n"
   ]
  },
  {
   "cell_type": "code",
   "execution_count": 6,
   "id": "3aadaeea-aa4d-44b9-9b7a-a84743795be7",
   "metadata": {},
   "outputs": [
    {
     "name": "stdout",
     "output_type": "stream",
     "text": [
      "True\n",
      "True\n"
     ]
    }
   ],
   "source": [
    "#Write a Python program to check whether a string is numeric.\n",
    "a=\"123\"\n",
    "b=\"asere13\"\n",
    "c=a.isnumeric()\n",
    "d=b.isalnum()\n",
    "print(c)\n",
    "print(d)"
   ]
  },
  {
   "cell_type": "markdown",
   "id": "311f14a9-db64-4b5a-ae1c-ad89458fe990",
   "metadata": {},
   "source": [
    "## 96. Print Call Stack"
   ]
  },
  {
   "cell_type": "code",
   "execution_count": null,
   "id": "a27ef609-b870-4bd5-b965-4a4ce2bbb37e",
   "metadata": {},
   "outputs": [],
   "source": [
    "#Write a Python program to print the current call stack."
   ]
  },
  {
   "cell_type": "markdown",
   "id": "f2ad102f-6b62-4ffd-8f82-4788435a59a0",
   "metadata": {},
   "source": [
    "## 97. List Special Variables"
   ]
  },
  {
   "cell_type": "code",
   "execution_count": null,
   "id": "bd8d1d98-9589-492f-95ca-fec6b575c62b",
   "metadata": {},
   "outputs": [],
   "source": [
    "#Write a Python program to list the special variables used in the language."
   ]
  },
  {
   "cell_type": "markdown",
   "id": "d0cb28bd-941d-44fd-ba4e-6775a8fadb18",
   "metadata": {},
   "source": [
    "## 98. Get System Time"
   ]
  },
  {
   "cell_type": "code",
   "execution_count": null,
   "id": "fa280d99-9ee8-48a0-ad86-be42f74b552f",
   "metadata": {},
   "outputs": [],
   "source": [
    "#Write a Python program to get system time.\n",
    "#Note : The system time is important for debugging, network information, random number seeds, or something as simple as program performance."
   ]
  },
  {
   "cell_type": "markdown",
   "id": "5766baf7-cf2e-40fc-935f-3c6bd86a62b0",
   "metadata": {},
   "source": [
    "## 99. Clear Terminal"
   ]
  },
  {
   "cell_type": "code",
   "execution_count": null,
   "id": "4c4894d4-07c6-4419-9794-68828e0fe7f8",
   "metadata": {},
   "outputs": [],
   "source": [
    "#Write a Python program to clear the screen or terminal."
   ]
  },
  {
   "cell_type": "markdown",
   "id": "beed82bb-9a1e-4e20-bf67-c2e3c1b4104e",
   "metadata": {},
   "source": [
    "## 100. Get Host Name"
   ]
  },
  {
   "cell_type": "code",
   "execution_count": null,
   "id": "1fa71a55-5734-4b94-b2e6-eb704ad0f29f",
   "metadata": {},
   "outputs": [],
   "source": [
    "#Write a Python program to get the name of the host on which the routine is running."
   ]
  },
  {
   "cell_type": "markdown",
   "id": "44a75edc-ee7f-4063-a3ae-93d65848e8eb",
   "metadata": {},
   "source": [
    "## 101. URL Content Printer\n",
    "\n",
    "#Write a Python program to access and print a URL's content to the console."
   ]
  },
  {
   "cell_type": "code",
   "execution_count": null,
   "id": "0841c101-1bc3-4835-a64b-92e182276092",
   "metadata": {},
   "outputs": [],
   "source": []
  },
  {
   "cell_type": "markdown",
   "id": "2d7248dd-cea4-422a-80aa-a471af846fba",
   "metadata": {},
   "source": [
    "## 102. System Command Output\n",
    "\n",
    "#Write a Python program to get system command output."
   ]
  },
  {
   "cell_type": "code",
   "execution_count": null,
   "id": "f8db73c8-54e6-4f3b-af23-a60db29a7c9e",
   "metadata": {},
   "outputs": [],
   "source": []
  },
  {
   "cell_type": "markdown",
   "id": "390c8904-f527-455b-bd1f-fa3c38a18b41",
   "metadata": {},
   "source": [
    "## 103. Extract Filename\n",
    "\n",
    "#Write a Python program to extract the filename from a given path."
   ]
  },
  {
   "cell_type": "code",
   "execution_count": null,
   "id": "f0a558b3-2b6f-47b8-b6ca-7d2aec398e85",
   "metadata": {},
   "outputs": [],
   "source": []
  },
  {
   "cell_type": "markdown",
   "id": "b6e8336c-2071-4ed5-86cf-8a71ebbd4db3",
   "metadata": {},
   "source": [
    "## 104. Process Group and User IDs\n",
    "\n",
    "#Write a Python program to get the effective group id, effective user id, real group id, and a list of supplemental group ids associated with the #current process.\n",
    "#Note: Availability: Unix."
   ]
  },
  {
   "cell_type": "code",
   "execution_count": null,
   "id": "fc3bc560-6622-4b55-a6df-53daea58cfb7",
   "metadata": {},
   "outputs": [],
   "source": []
  },
  {
   "cell_type": "markdown",
   "id": "6d025803-2247-47f3-bb7a-daf60574ae55",
   "metadata": {},
   "source": [
    "## 105. User Environment Retriever\n",
    "\n",
    "#Write a Python program to get the users environment."
   ]
  },
  {
   "cell_type": "code",
   "execution_count": null,
   "id": "9948e65a-3d9a-450b-8cab-20a3cd194994",
   "metadata": {},
   "outputs": [],
   "source": []
  },
  {
   "cell_type": "markdown",
   "id": "4fc2f852-6dad-4085-b5fe-005c36f04e0b",
   "metadata": {},
   "source": [
    "## 106. Path Extension Splitter\n",
    "\n",
    "#Write a Python program to divide a path by the extension separator."
   ]
  },
  {
   "cell_type": "code",
   "execution_count": null,
   "id": "66af6b7f-5dab-44bf-bd5d-53ccc4f7be07",
   "metadata": {},
   "outputs": [],
   "source": []
  },
  {
   "cell_type": "markdown",
   "id": "479f415b-2578-4058-ab25-7e395f8068e9",
   "metadata": {},
   "source": [
    "## 107. File Properties Retriever\n",
    "\n",
    "#Write a Python program to retrieve file properties."
   ]
  },
  {
   "cell_type": "code",
   "execution_count": null,
   "id": "6cebabdc-3a1f-49f0-9c56-8c79bb634277",
   "metadata": {},
   "outputs": [],
   "source": []
  },
  {
   "cell_type": "markdown",
   "id": "3fc9cac4-3449-44e9-97fe-a31524fc7c2f",
   "metadata": {},
   "source": [
    "## 108. File or Directory Path Finder\n",
    "\n",
    "#Write a Python program to find the path to a file or directory when you encounter a path name."
   ]
  },
  {
   "cell_type": "code",
   "execution_count": null,
   "id": "c1e263f8-1ebf-4bfc-9ba2-0c7be8a4e2a8",
   "metadata": {},
   "outputs": [],
   "source": []
  },
  {
   "cell_type": "markdown",
   "id": "290c4b33-dfea-4269-80c9-c6c321678880",
   "metadata": {},
   "source": [
    "## 109. Resolve Path Name\n",
    "\n",
    "#Write a Python program to find the path to a file or directory when you encounter a path name."
   ]
  },
  {
   "cell_type": "code",
   "execution_count": null,
   "id": "0aa9c5d0-14fe-47f0-ba0a-24ea4ff4b46a",
   "metadata": {},
   "outputs": [],
   "source": []
  },
  {
   "cell_type": "markdown",
   "id": "8363e1b4-4298-4ca1-abc1-60af80a0e504",
   "metadata": {},
   "source": [
    "## 110. Divisible by 15 Finder\n",
    "\n",
    "#Write a Python program to get numbers divisible by fifteen from a list using an anonymous function."
   ]
  },
  {
   "cell_type": "code",
   "execution_count": null,
   "id": "ecf71eb1-e1ef-4bae-9ad8-2a8243a098d4",
   "metadata": {},
   "outputs": [],
   "source": []
  },
  {
   "cell_type": "markdown",
   "id": "e75c18b3-d2e8-443f-b25f-8279c916fbdf",
   "metadata": {},
   "source": [
    "## 111. Wildcard File Lister\n",
    "\n",
    "#Write a Python program to make file lists from the current directory using a wildcard."
   ]
  },
  {
   "cell_type": "code",
   "execution_count": null,
   "id": "a8cbc2f9-ff12-4728-be32-8e9ed37a0529",
   "metadata": {},
   "outputs": [],
   "source": []
  },
  {
   "cell_type": "markdown",
   "id": "be55973e-816e-4347-a4e7-2892a810f837",
   "metadata": {},
   "source": [
    "## 112. Remove First List Item\n",
    "\n",
    "#Write a Python program to remove the first item from a specified list."
   ]
  },
  {
   "cell_type": "code",
   "execution_count": null,
   "id": "e818542c-31a4-44c8-b4a1-6998f0530a24",
   "metadata": {},
   "outputs": [],
   "source": []
  },
  {
   "cell_type": "markdown",
   "id": "a4b1bccd-acbf-43b2-b7eb-797b2e57950c",
   "metadata": {},
   "source": [
    "## 113. Number Input Validator\n",
    "\n",
    "#Write a Python program that inputs a number and generates an error message if it is not a number."
   ]
  },
  {
   "cell_type": "code",
   "execution_count": null,
   "id": "9fdd7b7a-111f-4b1e-bed8-3f13edb74414",
   "metadata": {},
   "outputs": [],
   "source": []
  },
  {
   "cell_type": "markdown",
   "id": "df174049-5837-4fb1-ba6b-f88eae89359d",
   "metadata": {},
   "source": [
    "## 114. Filter Positive Numbers\n",
    "\n",
    "#Write a Python program to filter positive numbers from a list."
   ]
  },
  {
   "cell_type": "code",
   "execution_count": null,
   "id": "98f300d2-3968-429d-a037-76583a3179e8",
   "metadata": {},
   "outputs": [],
   "source": []
  },
  {
   "cell_type": "markdown",
   "id": "872320e9-8b6a-4c3d-bfbb-93bcc9278c63",
   "metadata": {},
   "source": [
    "## 115. List Product Calculator\n",
    "\n",
    "#Write a Python program to compute the product of a list of integers (without using a for loop)."
   ]
  },
  {
   "cell_type": "code",
   "execution_count": null,
   "id": "64183ab5-7fe7-42af-85fd-e9eb776d5233",
   "metadata": {},
   "outputs": [],
   "source": []
  },
  {
   "cell_type": "markdown",
   "id": "05714352-1014-4d8e-b818-5db316ec48d7",
   "metadata": {},
   "source": [
    "## 116. Print Unicode Characters\n",
    "\n",
    "#Write a Python program to print Unicode characters."
   ]
  },
  {
   "cell_type": "code",
   "execution_count": null,
   "id": "f72670ab-1376-4988-87b4-6a53d4e7355c",
   "metadata": {},
   "outputs": [],
   "source": []
  },
  {
   "cell_type": "markdown",
   "id": "864f9de2-ab3c-41e8-af20-d93ea0967dc8",
   "metadata": {},
   "source": [
    "## 117. String Memory Location Test\n",
    "\n",
    "#Write a Python program to prove that two string variables of the same value point to the same memory location."
   ]
  },
  {
   "cell_type": "code",
   "execution_count": null,
   "id": "6ea88c54-b98a-403a-874d-ae841dddaebb",
   "metadata": {},
   "outputs": [],
   "source": []
  },
  {
   "cell_type": "markdown",
   "id": "ee1609e1-ffd0-4af3-9c21-e69bc5c44f98",
   "metadata": {},
   "source": [
    "## 118. Create Bytearray from List\n",
    "\n",
    "#Write a Python program to create a bytearray from a list."
   ]
  },
  {
   "cell_type": "code",
   "execution_count": null,
   "id": "86040b40-edf6-4aa9-a7f4-adcbe5e47365",
   "metadata": {},
   "outputs": [],
   "source": []
  },
  {
   "cell_type": "markdown",
   "id": "fa0f1630-9262-4daa-8161-217d2ca055e9",
   "metadata": {},
   "source": [
    "## 119. Round Float to Decimals\n",
    "\n",
    "#Write a Python program to round a floating-point number to a specified number of decimal places."
   ]
  },
  {
   "cell_type": "code",
   "execution_count": null,
   "id": "6170e6e8-c408-447d-8ceb-2e53611d043f",
   "metadata": {},
   "outputs": [],
   "source": []
  },
  {
   "cell_type": "markdown",
   "id": "0308fe83-e2d9-43d2-997c-9a86dbf88376",
   "metadata": {},
   "source": [
    "## 120. String Formatter with Length Limit\n",
    "\n",
    "#Write a Python program to format a specified string and limit the length of a string."
   ]
  },
  {
   "cell_type": "code",
   "execution_count": null,
   "id": "f0ee0479-0910-4423-a180-8d51c2412e72",
   "metadata": {},
   "outputs": [],
   "source": []
  },
  {
   "cell_type": "markdown",
   "id": "350cb219-7003-48f8-9280-7b467767acee",
   "metadata": {},
   "source": [
    "## 121. Variable Defined Checker\n",
    "\n",
    "#Write a Python program to determine if a variable is defined or not."
   ]
  },
  {
   "cell_type": "code",
   "execution_count": null,
   "id": "9ee41b56-382c-4b81-9111-3a8006356a4c",
   "metadata": {},
   "outputs": [],
   "source": []
  },
  {
   "cell_type": "markdown",
   "id": "7c5ff0f8-691e-4e7b-86e1-906c5fbfbd36",
   "metadata": {},
   "source": [
    "## 122. Empty Variable Without Deletion\n",
    "\n",
    "#Write a Python program to empty a variable without destroying it.\n",
    "#Sample data: n=20\n",
    "#d = {\"x\":200}\n",
    "#Expected Output : 0"
   ]
  },
  {
   "cell_type": "code",
   "execution_count": null,
   "id": "3d0f8557-ca8e-4c63-87be-e6ee42f2f67b",
   "metadata": {},
   "outputs": [],
   "source": []
  },
  {
   "cell_type": "markdown",
   "id": "8102e071-0f8b-4f15-98cb-d6cb86153e0a",
   "metadata": {},
   "source": [
    "## 123. Max and Min of Number Types\n",
    "\n",
    "#Write a Python program to determine the largest and smallest integers, longs, and floats."
   ]
  },
  {
   "cell_type": "code",
   "execution_count": null,
   "id": "826caf34-30be-4c3a-8235-d004953871d0",
   "metadata": {},
   "outputs": [],
   "source": []
  },
  {
   "cell_type": "markdown",
   "id": "e50bf308-316d-4db6-9a20-3bfc916a751b",
   "metadata": {},
   "source": [
    "## 124. Variable Equality Checker\n",
    "\n",
    "#Write a Python program to check whether multiple variables have the same value."
   ]
  },
  {
   "cell_type": "code",
   "execution_count": null,
   "id": "fd781c36-3df9-4fb0-920c-e0a1b71f8720",
   "metadata": {},
   "outputs": [],
   "source": []
  },
  {
   "cell_type": "markdown",
   "id": "d9956394-ed52-4b8d-b7c2-f0cad5f4cae0",
   "metadata": {},
   "source": [
    "## 125. Sum Collection Counts\n",
    "\n",
    "#Write a Python program to sum all counts in a collection."
   ]
  },
  {
   "cell_type": "code",
   "execution_count": null,
   "id": "566b6f8e-172a-417d-ab04-79d0f8e5a9aa",
   "metadata": {},
   "outputs": [],
   "source": []
  },
  {
   "cell_type": "markdown",
   "id": "c6f6d26d-1d66-4923-9daf-12c48197e053",
   "metadata": {},
   "source": [
    "## 126. Get Module Object\n",
    "\n",
    "#Write a Python program to get the actual module object for a given object."
   ]
  },
  {
   "cell_type": "code",
   "execution_count": null,
   "id": "3ec4b3c3-ba1d-4ef5-b4e4-c765168c415b",
   "metadata": {},
   "outputs": [],
   "source": []
  },
  {
   "cell_type": "markdown",
   "id": "66d84982-0f4d-409a-a8b9-fddb7df6ee25",
   "metadata": {},
   "source": [
    "## 127. Integer Fits in 64 Bits\n",
    "\n",
    "#Write a Python program to check whether an integer fits in 64 bits."
   ]
  },
  {
   "cell_type": "code",
   "execution_count": null,
   "id": "9e10dd21-f1d0-43e5-b74f-08de68c30444",
   "metadata": {},
   "outputs": [],
   "source": []
  },
  {
   "cell_type": "markdown",
   "id": "73eed23d-9f16-44be-8ef7-9d39aa58b148",
   "metadata": {},
   "source": [
    "## 128. Lowercase Letters Checker"
   ]
  },
  {
   "cell_type": "code",
   "execution_count": 3,
   "id": "f8ab660f-3fb4-4344-89ba-b6c6f255cfdc",
   "metadata": {},
   "outputs": [],
   "source": [
    "#Write a Python program to check whether lowercase letters exist in a string.\n",
    "# a=\"Mayur\"\n",
    "# x= any(a.lower())\n",
    "# print(x)"
   ]
  },
  {
   "cell_type": "code",
   "execution_count": 23,
   "id": "612e84f2-cd07-493c-95f5-027c325d03b3",
   "metadata": {},
   "outputs": [
    {
     "name": "stdout",
     "output_type": "stream",
     "text": [
      "False\n"
     ]
    }
   ],
   "source": [
    "a=\"M\"\n",
    "count=0\n",
    "\n",
    "for i in a:\n",
    "    if (ord(i)>=97) and (ord(i)<=122):\n",
    "        count=count+1\n",
    "\n",
    "if (count>0):\n",
    "    print(True)\n",
    "else:\n",
    "    print(False)"
   ]
  },
  {
   "cell_type": "markdown",
   "id": "4aeeb2a6-7bbd-46c1-a85c-f46e19b9ce1f",
   "metadata": {},
   "source": [
    "## 129. Add Leading Zeroes\n",
    "\n",
    "#Write a Python program to add leading zeroes to a string."
   ]
  },
  {
   "cell_type": "code",
   "execution_count": null,
   "id": "51b4fb53-3732-4e8c-a0f7-16779cf9f06f",
   "metadata": {},
   "outputs": [],
   "source": []
  },
  {
   "cell_type": "markdown",
   "id": "ae364d0a-2f3d-4c67-9897-2865d6e5b2eb",
   "metadata": {},
   "source": [
    "## 130. Double Quotes String Display\n",
    "\n",
    "#Write a Python program that uses double quotes to display strings."
   ]
  },
  {
   "cell_type": "code",
   "execution_count": null,
   "id": "953f5620-02dc-4c7f-80fb-9fa11c9704ce",
   "metadata": {},
   "outputs": [],
   "source": []
  },
  {
   "cell_type": "markdown",
   "id": "b9c024eb-ed66-41db-93ea-1afd81b0b1ec",
   "metadata": {},
   "source": [
    "## 131. Split Variable Length String\n",
    "\n",
    "#Write a Python program to split a variable length string into variables."
   ]
  },
  {
   "cell_type": "code",
   "execution_count": null,
   "id": "2efc2b1c-f0fe-4053-a394-a36dcc1ef367",
   "metadata": {},
   "outputs": [],
   "source": []
  },
  {
   "cell_type": "markdown",
   "id": "07fd3a72-1a5b-4049-bb7c-bc5f25a4208e",
   "metadata": {},
   "source": [
    "## 132. List Home Directory\n",
    "\n",
    "#Write a Python program to list the home directory without an absolute path."
   ]
  },
  {
   "cell_type": "code",
   "execution_count": null,
   "id": "1c1abff3-5968-4389-be1b-041156127688",
   "metadata": {},
   "outputs": [],
   "source": []
  },
  {
   "cell_type": "markdown",
   "id": "fe594abf-ac1a-45a9-82c2-41ed4969e9ce",
   "metadata": {},
   "source": [
    "## 133. Program Runtime Calculator\n",
    "\n",
    "#Write a Python program to calculate the time runs (difference between start and current time) of a program."
   ]
  },
  {
   "cell_type": "code",
   "execution_count": null,
   "id": "cfc3e068-5c4e-42b4-9eb3-3da809824121",
   "metadata": {},
   "outputs": [],
   "source": []
  },
  {
   "cell_type": "markdown",
   "id": "a385e911-b290-42fd-8cc2-548af1ff28e7",
   "metadata": {},
   "source": [
    "## 134. Input Two Integers\n",
    "\n",
    "#Write a Python program to input two integers on a single line."
   ]
  },
  {
   "cell_type": "code",
   "execution_count": null,
   "id": "68333dbb-ca10-4798-896a-de280c2583db",
   "metadata": {},
   "outputs": [],
   "source": []
  },
  {
   "cell_type": "markdown",
   "id": "8cc0efc0-78f3-4679-86f1-20d181f56616",
   "metadata": {},
   "source": [
    "## 135. Print Variable Without Spaces\n",
    "\n",
    "#Write a Python program to print a variable without spaces between values.\n",
    "#Sample value : x =30\n",
    "#Expected output : Value of x is \"30\""
   ]
  },
  {
   "cell_type": "code",
   "execution_count": null,
   "id": "79ae86f0-ecbb-471f-9cf9-d2fe260929c1",
   "metadata": {},
   "outputs": [],
   "source": []
  },
  {
   "cell_type": "markdown",
   "id": "839309ea-3303-4b26-9629-c5ee9f154419",
   "metadata": {},
   "source": [
    "## 136. Files Only in Directory\n",
    "\n",
    "#Write a Python program to find files and skip directories in a given directory."
   ]
  },
  {
   "cell_type": "code",
   "execution_count": null,
   "id": "f3ab9262-2ab6-4939-a8eb-dc473b392b0a",
   "metadata": {},
   "outputs": [],
   "source": []
  },
  {
   "cell_type": "markdown",
   "id": "7d331434-dc57-4aef-8a4c-1f95d877c10c",
   "metadata": {},
   "source": [
    "## 137. Extract Dictionary Pair\n",
    "\n",
    "#Write a Python program to extract a single key-value pair from a dictionary into variables."
   ]
  },
  {
   "cell_type": "code",
   "execution_count": null,
   "id": "623e00a3-2f9f-4136-bb0b-47871565f633",
   "metadata": {},
   "outputs": [],
   "source": []
  },
  {
   "cell_type": "markdown",
   "id": "b4c57ead-17d6-4bf5-9146-d227cd6b2a10",
   "metadata": {},
   "source": [
    "## 138. Boolean to Integer Converter\n",
    "\n",
    "#Write a Python program to convert true to 1 and false to 0."
   ]
  },
  {
   "cell_type": "code",
   "execution_count": null,
   "id": "8095b45a-6b90-4861-9a1b-1328b61713fa",
   "metadata": {},
   "outputs": [],
   "source": []
  },
  {
   "cell_type": "markdown",
   "id": "e82a1b98-d99c-47ab-86e6-22616354a640",
   "metadata": {},
   "source": [
    "## 139. IP Address Validator\n",
    "\n",
    "#Write a Python program to validate an IP address."
   ]
  },
  {
   "cell_type": "code",
   "execution_count": null,
   "id": "4c74eb95-860e-40ee-946c-2f3c3e08bf07",
   "metadata": {},
   "outputs": [],
   "source": []
  },
  {
   "cell_type": "markdown",
   "id": "87dbeca6-1119-4816-85e2-028f06e3223f",
   "metadata": {},
   "source": [
    "## 140. Binary with Leading Zeroes\n",
    "\n",
    "#Write a Python program to convert an integer to binary that keeps leading zeros.\n",
    "#Sample data : x=12\n",
    "#Expected output : 00001100\n",
    "#0000001100"
   ]
  },
  {
   "cell_type": "code",
   "execution_count": null,
   "id": "9eef3220-7568-4821-b7f3-83a0cf37eee5",
   "metadata": {},
   "outputs": [],
   "source": []
  },
  {
   "cell_type": "markdown",
   "id": "7a9334c4-17f7-4c5f-b9a3-623d02462870",
   "metadata": {},
   "source": [
    "## 141. Decimal to Hexadecimal\n",
    "\n",
    "#Write a python program to convert decimal to hexadecimal.\n",
    "#Sample decimal number: 30, 4\n",
    "#Expected output: 1e, 04"
   ]
  },
  {
   "cell_type": "code",
   "execution_count": 4,
   "id": "bba50ce5-7ec2-4ac2-b3ba-0ae0690f297c",
   "metadata": {},
   "outputs": [],
   "source": [
    "## 142. Consecutive Zero-One Checker\n",
    "\n",
    "# Write a Python program to check if every consecutive sequence of zeroes is followed by a consecutive sequence of ones of same length in a given string. Return True/False.\n",
    "# Original sequence: 01010101\n",
    "# Check if every consecutive sequence of zeroes is followed by a consecutive sequence of ones in the said string:\n",
    "# True\n",
    "# Original sequence: 00\n",
    "# Check if every consecutive sequence of zeroes is followed by a consecutive sequence of ones in the said string:\n",
    "# False\n",
    "# Original sequence: 000111000111\n",
    "# Check if every consecutive sequence of zeroes is followed by a consecutive sequence of ones in the said string:\n",
    "# True\n",
    "# Original sequence: 00011100011\n",
    "# Check if every consecutive sequence of zeroes is followed by a consecutive sequence of ones in the said string:\n",
    "# False"
   ]
  },
  {
   "cell_type": "markdown",
   "id": "f9fea98e-ae45-4b05-8455-b1ed08324299",
   "metadata": {},
   "source": [
    "## 143. Shell Bit Mode Detector\n",
    "\n",
    "#Write a Python program to determine if the Python shell is executing in 32-bit or 64-bit mode on the operating system."
   ]
  },
  {
   "cell_type": "code",
   "execution_count": null,
   "id": "4c06f8e2-33fb-48f9-9a18-fd4784d3890c",
   "metadata": {},
   "outputs": [],
   "source": []
  },
  {
   "cell_type": "markdown",
   "id": "9fba9f8c-88a4-43df-b779-72870f5353a6",
   "metadata": {},
   "source": [
    "## 144. Variable Type Checker"
   ]
  },
  {
   "cell_type": "code",
   "execution_count": 5,
   "id": "f8ff3694-809c-4187-9e77-eb8ee6b30c7f",
   "metadata": {},
   "outputs": [
    {
     "name": "stdout",
     "output_type": "stream",
     "text": [
      "String\n"
     ]
    }
   ],
   "source": [
    "#Write a Python program to check whether a variable is an integer or string.\n",
    "a=\"q\"\n",
    "if type(a) is int:\n",
    "    print(\"Integer\")\n",
    "elif type(a) is str:\n",
    "    print(\"String\")\n",
    "else:\n",
    "    print(\"Not both\")"
   ]
  },
  {
   "cell_type": "markdown",
   "id": "35928508-1493-471c-89bd-0d876fe0c450",
   "metadata": {},
   "source": [
    "## 145. Check List, Tuple, or Set"
   ]
  },
  {
   "cell_type": "code",
   "execution_count": 3,
   "id": "d64d5e52-bfec-43cb-86ed-71e0e5297671",
   "metadata": {},
   "outputs": [
    {
     "name": "stdout",
     "output_type": "stream",
     "text": [
      "List\n"
     ]
    }
   ],
   "source": [
    "#Write a Python program to test if a variable is a list, tuple, or set.\n",
    "a=[1,2,3,\"R\"]\n",
    "\n",
    "if type(a) is list:\n",
    "    print(\"List\")\n",
    "elif type(a) is tuple:\n",
    "    print(\"Tuple\")\n",
    "elif type(a) is set:\n",
    "    print(\"set\")\n",
    "else:\n",
    "    print(\"Not list,tuple or set\")"
   ]
  },
  {
   "cell_type": "markdown",
   "id": "3ce5ae89-df6c-4126-8612-b163f4a2ac74",
   "metadata": {},
   "source": [
    "## 146. Locate Python Module Sources\n",
    "\n",
    "#Write a Python program to find the location of Python module sources."
   ]
  },
  {
   "cell_type": "code",
   "execution_count": null,
   "id": "8d4effd5-796f-451f-a243-72cf4c2d1bb5",
   "metadata": {},
   "outputs": [],
   "source": []
  },
  {
   "cell_type": "markdown",
   "id": "b76f22ec-4ea4-4b9f-9903-19f919f53494",
   "metadata": {},
   "source": [
    "## 149. Cube Sum of Smaller Integers\n",
    "\n",
    "#Write a Python function that takes a positive integer and returns the sum of the cube of all positive integers smaller than the specified number."
   ]
  },
  {
   "cell_type": "code",
   "execution_count": null,
   "id": "bf218efd-f0da-48c1-818b-60c5f3dbc0d8",
   "metadata": {},
   "outputs": [],
   "source": []
  },
  {
   "cell_type": "markdown",
   "id": "f0ec626a-9dc2-4aa1-a793-8210fb32b537",
   "metadata": {},
   "source": [
    "## 150. Odd Product Pair Checker\n",
    "\n",
    "#Write a Python function to check whether a distinct pair of numbers whose product is odd is present in a sequence of integer values."
   ]
  },
  {
   "cell_type": "code",
   "execution_count": null,
   "id": "2df8e147-78d7-4a57-ae81-e336ef4ddb58",
   "metadata": {},
   "outputs": [],
   "source": []
  }
 ],
 "metadata": {
  "kernelspec": {
   "display_name": "Python 3 (ipykernel)",
   "language": "python",
   "name": "python3"
  },
  "language_info": {
   "codemirror_mode": {
    "name": "ipython",
    "version": 3
   },
   "file_extension": ".py",
   "mimetype": "text/x-python",
   "name": "python",
   "nbconvert_exporter": "python",
   "pygments_lexer": "ipython3",
   "version": "3.9.13"
  }
 },
 "nbformat": 4,
 "nbformat_minor": 5
}
